{
 "cells": [
  {
   "cell_type": "code",
   "execution_count": 13,
   "metadata": {},
   "outputs": [],
   "source": [
    "import boto3\n",
    "import datetime\n",
    "import pytz"
   ]
  },
  {
   "cell_type": "code",
   "execution_count": null,
   "metadata": {},
   "outputs": [],
   "source": []
  },
  {
   "cell_type": "code",
   "execution_count": 14,
   "metadata": {},
   "outputs": [],
   "source": [
    "s3 = boto3.resource('s3')\n",
    "s3client = boto3.client('s3')"
   ]
  },
  {
   "cell_type": "code",
   "execution_count": null,
   "metadata": {},
   "outputs": [],
   "source": []
  },
  {
   "cell_type": "code",
   "execution_count": 15,
   "metadata": {},
   "outputs": [],
   "source": [
    "target_bucket = 'aii-archive'\n",
    "#target_bucket = 'wcc-tacc-test'\n"
   ]
  },
  {
   "cell_type": "code",
   "execution_count": 24,
   "metadata": {},
   "outputs": [],
   "source": [
    "target_max_date = datetime.datetime(2020,9,30,0,0,0,0, pytz.UTC)\n",
    "target_min_size = 1024 * 1024 # 1 MB\n",
    "old_file_set = []"
   ]
  },
  {
   "cell_type": "code",
   "execution_count": 21,
   "metadata": {},
   "outputs": [],
   "source": [
    "archive_tag = 'deep_archive'"
   ]
  },
  {
   "cell_type": "code",
   "execution_count": 17,
   "metadata": {},
   "outputs": [],
   "source": [
    "def set_archive_tag(bucket, key):\n",
    "    response = s3.meta.client.put_object_tagging(\n",
    "        Bucket=bucket,\n",
    "        Key=key,\n",
    "        Tagging={\n",
    "            'TagSet': [\n",
    "                {\n",
    "                    'Key': 'storage_level',\n",
    "                    'Value': archive_tag,\n",
    "                    },\n",
    "                ]\n",
    "            },\n",
    "        )"
   ]
  },
  {
   "cell_type": "code",
   "execution_count": null,
   "metadata": {},
   "outputs": [],
   "source": []
  },
  {
   "cell_type": "code",
   "execution_count": 18,
   "metadata": {},
   "outputs": [],
   "source": [
    "count = 0\n",
    "limit = 100000000000\n",
    "\n",
    "small_count = 0\n",
    "large_count = 0\n",
    "large_old_count = 0\n",
    "\n",
    "\n",
    "paginator = s3client.get_paginator('list_objects')\n",
    "pageresponse = paginator.paginate(Bucket=target_bucket)\n",
    "#out_f.write('+++++\\n')\n",
    "#out_f.write(str(bucket) + '\\n')\n",
    "#out_f.write('+++++\\n')\n",
    "\n",
    "# PageResponse Holds 1000 objects at a time and\n",
    "# will continue to repeat in chunks of 1000.\n",
    "for pageobject in pageresponse:\n",
    "    #out_f.write('----\\n')\n",
    "    #out_f.write('----\\n')\n",
    "    if 'Contents' in pageobject:\n",
    "        for item in pageobject[\"Contents\"]:\n",
    "            # Skip small files\n",
    "            if item['Size'] < target_min_size:\n",
    "                small_count += 1\n",
    "                continue\n",
    "            large_count += 1\n",
    "            if item['LastModified'] <= target_max_date:\n",
    "                #print(\"found\")\n",
    "                #print(item)\n",
    "                set_archive_tag(target_bucket, item['Key'])\n",
    "                large_old_count +=1 \n",
    "            else: \n",
    "                continue    \n",
    "            count += 1\n",
    "            if count > limit:\n",
    "                break\n",
    "        if count > limit:\n",
    "            break\n",
    "    if count > limit:\n",
    "        break"
   ]
  },
  {
   "cell_type": "code",
   "execution_count": 19,
   "metadata": {},
   "outputs": [
    {
     "name": "stdout",
     "output_type": "stream",
     "text": [
      "179409 14834 14834\n"
     ]
    }
   ],
   "source": [
    "print(small_count, large_count, large_old_count)"
   ]
  },
  {
   "cell_type": "code",
   "execution_count": 25,
   "metadata": {},
   "outputs": [],
   "source": [
    "count = 0\n",
    "limit = 1000000000\n",
    "tagged_count = 0\n",
    "not_tagged_count = 0\n",
    "total_count = 0\n",
    "tagged_list = []\n",
    "\n",
    "paginator = s3client.get_paginator('list_objects')\n",
    "pageresponse = paginator.paginate(Bucket=target_bucket)\n",
    "#out_f.write('+++++\\n')\n",
    "#out_f.write(str(bucket) + '\\n')\n",
    "#out_f.write('+++++\\n')\n",
    "\n",
    "# PageResponse Holds 1000 objects at a time and\n",
    "# will continue to repeat in chunks of 1000.\n",
    "tagged_size = 0\n",
    "for pageobject in pageresponse:\n",
    "    #out_f.write('----\\n')\n",
    "    #out_f.write('----\\n')\n",
    "    if 'Contents' in pageobject:\n",
    "        for item in pageobject[\"Contents\"]:\n",
    "            not_tagged_count += 1\n",
    "            total_count += 1\n",
    "            # Skip small files\n",
    "            if item['Size'] < target_min_size:\n",
    "                continue\n",
    "\n",
    "            if item['LastModified'] <= target_max_date:\n",
    "                tags = s3.meta.client.get_object_tagging(\n",
    "                    Bucket=target_bucket,\n",
    "                    Key=item['Key']\n",
    "                    )\n",
    "                #print(\"found\")\n",
    "                if 'TagSet' in tags:\n",
    "                    if tags['TagSet']:\n",
    "                        if tags['TagSet'][0]['Value'] != archive_tag:\n",
    "                            print(\"Missed File\")\n",
    "                        else:\n",
    "                            tagged_size += item['Size']\n",
    "                            tagged_count += 1\n",
    "                        tagged_list.append(\n",
    "                            tuple([\n",
    "                                target_bucket,\n",
    "                                item['Key'],\n",
    "                                item['Size'],\n",
    "                                item['StorageClass'],\n",
    "                                item['LastModified']]\n",
    "                            ))\n",
    "                            \n",
    "                not_tagged_count -= 1\n",
    "                #print(item)\n",
    "                #print(tags)\n",
    "      \n",
    "\n",
    "\n",
    "            \n",
    "\n",
    "                \n",
    "\n",
    "            count += 1\n",
    "            if count > limit:\n",
    "                break\n",
    "        if count > limit:\n",
    "            break\n",
    "    if count > limit:\n",
    "        break"
   ]
  },
  {
   "cell_type": "code",
   "execution_count": 26,
   "metadata": {},
   "outputs": [
    {
     "data": {
      "text/plain": [
       "[('aii-archive',\n",
       "  'SpectrumSight/Arlington/ARL-ALL_ss_0403-04192020.xlsx',\n",
       "  45919269,\n",
       "  'STANDARD',\n",
       "  datetime.datetime(2020, 6, 11, 19, 25, 33, tzinfo=tzutc())),\n",
       " ('aii-archive',\n",
       "  'SpectrumSight/Arlington/ARL-ALL_ss_04202020.csv',\n",
       "  13329415,\n",
       "  'STANDARD',\n",
       "  datetime.datetime(2020, 6, 11, 19, 25, 33, tzinfo=tzutc())),\n",
       " ('aii-archive',\n",
       "  'SpectrumSight/Arlington/ARL-ALL_ss_04202020.xlsx',\n",
       "  10920959,\n",
       "  'STANDARD',\n",
       "  datetime.datetime(2020, 6, 11, 19, 25, 33, tzinfo=tzutc())),\n",
       " ('aii-archive',\n",
       "  'SpectrumSight/Arlington/ARL-ALL_ss_04212020.csv',\n",
       "  27093229,\n",
       "  'STANDARD',\n",
       "  datetime.datetime(2020, 6, 11, 19, 25, 33, tzinfo=tzutc())),\n",
       " ('aii-archive',\n",
       "  'SpectrumSight/Arlington/ARL-ALL_ss_04212020.xlsx',\n",
       "  22179823,\n",
       "  'STANDARD',\n",
       "  datetime.datetime(2020, 6, 11, 19, 25, 33, tzinfo=tzutc())),\n",
       " ('aii-archive',\n",
       "  'SpectrumSight/Arlington/ARL-ALL_ss_04222020.csv',\n",
       "  46948958,\n",
       "  'STANDARD',\n",
       "  datetime.datetime(2020, 6, 11, 19, 25, 33, tzinfo=tzutc())),\n",
       " ('aii-archive',\n",
       "  'SpectrumSight/Arlington/ARL-ALL_ss_04222020.xlsx',\n",
       "  38069113,\n",
       "  'STANDARD',\n",
       "  datetime.datetime(2020, 6, 11, 19, 25, 33, tzinfo=tzutc())),\n",
       " ('aii-archive',\n",
       "  'SpectrumSight/Arlington/ARL-ALL_ss_04222020_pare.csv',\n",
       "  5785692,\n",
       "  'STANDARD',\n",
       "  datetime.datetime(2020, 6, 11, 19, 25, 33, tzinfo=tzutc())),\n",
       " ('aii-archive',\n",
       "  'SpectrumSight/Arlington/ARL-ALL_ss_04232020.csv',\n",
       "  46978362,\n",
       "  'STANDARD',\n",
       "  datetime.datetime(2020, 6, 11, 19, 25, 33, tzinfo=tzutc())),\n",
       " ('aii-archive',\n",
       "  'SpectrumSight/Arlington/ARL-ALL_ss_04232020.xlsx',\n",
       "  28472583,\n",
       "  'STANDARD',\n",
       "  datetime.datetime(2020, 6, 11, 19, 25, 33, tzinfo=tzutc()))]"
      ]
     },
     "execution_count": 26,
     "metadata": {},
     "output_type": "execute_result"
    }
   ],
   "source": [
    "tagged_list[:10]\n",
    "\n"
   ]
  },
  {
   "cell_type": "code",
   "execution_count": 27,
   "metadata": {},
   "outputs": [
    {
     "data": {
      "text/plain": [
       "14834"
      ]
     },
     "execution_count": 27,
     "metadata": {},
     "output_type": "execute_result"
    }
   ],
   "source": [
    "len(tagged_list)"
   ]
  },
  {
   "cell_type": "code",
   "execution_count": 28,
   "metadata": {},
   "outputs": [
    {
     "data": {
      "text/plain": [
       "[{'Key': 'storage_level', 'Value': 'deep_archive'}]"
      ]
     },
     "execution_count": 28,
     "metadata": {},
     "output_type": "execute_result"
    }
   ],
   "source": [
    "tags['TagSet']"
   ]
  },
  {
   "cell_type": "code",
   "execution_count": 29,
   "metadata": {},
   "outputs": [
    {
     "data": {
      "text/plain": [
       "'deep_archive'"
      ]
     },
     "execution_count": 29,
     "metadata": {},
     "output_type": "execute_result"
    }
   ],
   "source": [
    "tags['TagSet'][0]['Value']\n",
    "                      "
   ]
  },
  {
   "cell_type": "code",
   "execution_count": 30,
   "metadata": {},
   "outputs": [
    {
     "data": {
      "text/plain": [
       "816613856594"
      ]
     },
     "execution_count": 30,
     "metadata": {},
     "output_type": "execute_result"
    }
   ],
   "source": [
    "tagged_size"
   ]
  },
  {
   "cell_type": "code",
   "execution_count": null,
   "metadata": {},
   "outputs": [],
   "source": []
  },
  {
   "cell_type": "code",
   "execution_count": null,
   "metadata": {},
   "outputs": [],
   "source": []
  },
  {
   "cell_type": "code",
   "execution_count": null,
   "metadata": {},
   "outputs": [],
   "source": []
  }
 ],
 "metadata": {
  "kernelspec": {
   "display_name": "Python 3",
   "language": "python",
   "name": "python3"
  },
  "language_info": {
   "codemirror_mode": {
    "name": "ipython",
    "version": 3
   },
   "file_extension": ".py",
   "mimetype": "text/x-python",
   "name": "python",
   "nbconvert_exporter": "python",
   "pygments_lexer": "ipython3",
   "version": "3.8.5"
  }
 },
 "nbformat": 4,
 "nbformat_minor": 4
}
