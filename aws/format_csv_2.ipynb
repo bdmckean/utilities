{
 "cells": [
  {
   "cell_type": "code",
   "execution_count": 88,
   "metadata": {},
   "outputs": [],
   "source": [
    "import os\n",
    "import pandas as pd"
   ]
  },
  {
   "cell_type": "code",
   "execution_count": 89,
   "metadata": {},
   "outputs": [],
   "source": [
    "data_dir = '/Users/brianm/Downloads'"
   ]
  },
  {
   "cell_type": "code",
   "execution_count": 90,
   "metadata": {},
   "outputs": [],
   "source": [
    "\n",
    "prefix_sizes_file = 'data-1603292439618.csv'\n",
    "no_access_file = 'no_access.txt' \n",
    "get_access_file = 'recent_get.txt'"
   ]
  },
  {
   "cell_type": "code",
   "execution_count": 91,
   "metadata": {},
   "outputs": [],
   "source": [
    "df_prefixes = pd.read_csv(os.path.join(data_dir, prefix_sizes_file))"
   ]
  },
  {
   "cell_type": "code",
   "execution_count": 92,
   "metadata": {},
   "outputs": [
    {
     "data": {
      "text/html": [
       "<div>\n",
       "<style scoped>\n",
       "    .dataframe tbody tr th:only-of-type {\n",
       "        vertical-align: middle;\n",
       "    }\n",
       "\n",
       "    .dataframe tbody tr th {\n",
       "        vertical-align: top;\n",
       "    }\n",
       "\n",
       "    .dataframe thead th {\n",
       "        text-align: right;\n",
       "    }\n",
       "</style>\n",
       "<table border=\"1\" class=\"dataframe\">\n",
       "  <thead>\n",
       "    <tr style=\"text-align: right;\">\n",
       "      <th></th>\n",
       "      <th>prefix</th>\n",
       "      <th>sum</th>\n",
       "    </tr>\n",
       "  </thead>\n",
       "  <tbody>\n",
       "    <tr>\n",
       "      <th>0</th>\n",
       "      <td>/</td>\n",
       "      <td>4</td>\n",
       "    </tr>\n",
       "    <tr>\n",
       "      <th>1</th>\n",
       "      <td>/.md5/v1/dev/stationary/DC/</td>\n",
       "      <td>30784</td>\n",
       "    </tr>\n",
       "    <tr>\n",
       "      <th>2</th>\n",
       "      <td>/.md5/v1/dev/stationary/L0/Tokyo/20181100/2018...</td>\n",
       "      <td>61984</td>\n",
       "    </tr>\n",
       "    <tr>\n",
       "      <th>3</th>\n",
       "      <td>/.md5/v1/dev/stationary/L0/Tokyo/20181100/2018...</td>\n",
       "      <td>59552</td>\n",
       "    </tr>\n",
       "    <tr>\n",
       "      <th>4</th>\n",
       "      <td>/.md5/v1/dev/stationary/L0/Tokyo/20181200/2018...</td>\n",
       "      <td>45824</td>\n",
       "    </tr>\n",
       "    <tr>\n",
       "      <th>...</th>\n",
       "      <td>...</td>\n",
       "      <td>...</td>\n",
       "    </tr>\n",
       "    <tr>\n",
       "      <th>8415</th>\n",
       "      <td>/v1/experimental/terrestrial/L0/UK_Test/202006...</td>\n",
       "      <td>872877269</td>\n",
       "    </tr>\n",
       "    <tr>\n",
       "      <th>8416</th>\n",
       "      <td>/v1/experimental/terrestrial/L0/UK_Test/202006...</td>\n",
       "      <td>3087107283</td>\n",
       "    </tr>\n",
       "    <tr>\n",
       "      <th>8417</th>\n",
       "      <td>/v1/experimental/terrestrial/L0/UK_Test/202006...</td>\n",
       "      <td>77933213218</td>\n",
       "    </tr>\n",
       "    <tr>\n",
       "      <th>8418</th>\n",
       "      <td>/v1/experimental/terrestrial/L0/UK_Test/20200701/</td>\n",
       "      <td>182968</td>\n",
       "    </tr>\n",
       "    <tr>\n",
       "      <th>8419</th>\n",
       "      <td>/v1/experimental/terrestrial/L0/UK_Test/202007...</td>\n",
       "      <td>30133112112</td>\n",
       "    </tr>\n",
       "  </tbody>\n",
       "</table>\n",
       "<p>8420 rows × 2 columns</p>\n",
       "</div>"
      ],
      "text/plain": [
       "                                                 prefix          sum\n",
       "0                                                     /            4\n",
       "1                           /.md5/v1/dev/stationary/DC/        30784\n",
       "2     /.md5/v1/dev/stationary/L0/Tokyo/20181100/2018...        61984\n",
       "3     /.md5/v1/dev/stationary/L0/Tokyo/20181100/2018...        59552\n",
       "4     /.md5/v1/dev/stationary/L0/Tokyo/20181200/2018...        45824\n",
       "...                                                 ...          ...\n",
       "8415  /v1/experimental/terrestrial/L0/UK_Test/202006...    872877269\n",
       "8416  /v1/experimental/terrestrial/L0/UK_Test/202006...   3087107283\n",
       "8417  /v1/experimental/terrestrial/L0/UK_Test/202006...  77933213218\n",
       "8418  /v1/experimental/terrestrial/L0/UK_Test/20200701/       182968\n",
       "8419  /v1/experimental/terrestrial/L0/UK_Test/202007...  30133112112\n",
       "\n",
       "[8420 rows x 2 columns]"
      ]
     },
     "execution_count": 92,
     "metadata": {},
     "output_type": "execute_result"
    }
   ],
   "source": [
    "df_prefixes"
   ]
  },
  {
   "cell_type": "code",
   "execution_count": 93,
   "metadata": {},
   "outputs": [],
   "source": [
    "df_prefixes['sum'] = df_prefixes['sum'].map(lambda x: '{0:.2f}'.format(float(x) / (1024*1024*1024)))  # Change bytes to GB "
   ]
  },
  {
   "cell_type": "code",
   "execution_count": 94,
   "metadata": {},
   "outputs": [
    {
     "data": {
      "text/html": [
       "<div>\n",
       "<style scoped>\n",
       "    .dataframe tbody tr th:only-of-type {\n",
       "        vertical-align: middle;\n",
       "    }\n",
       "\n",
       "    .dataframe tbody tr th {\n",
       "        vertical-align: top;\n",
       "    }\n",
       "\n",
       "    .dataframe thead th {\n",
       "        text-align: right;\n",
       "    }\n",
       "</style>\n",
       "<table border=\"1\" class=\"dataframe\">\n",
       "  <thead>\n",
       "    <tr style=\"text-align: right;\">\n",
       "      <th></th>\n",
       "      <th>prefix</th>\n",
       "      <th>sum</th>\n",
       "    </tr>\n",
       "  </thead>\n",
       "  <tbody>\n",
       "    <tr>\n",
       "      <th>0</th>\n",
       "      <td>/</td>\n",
       "      <td>0.00</td>\n",
       "    </tr>\n",
       "    <tr>\n",
       "      <th>1</th>\n",
       "      <td>/.md5/v1/dev/stationary/DC/</td>\n",
       "      <td>0.00</td>\n",
       "    </tr>\n",
       "    <tr>\n",
       "      <th>2</th>\n",
       "      <td>/.md5/v1/dev/stationary/L0/Tokyo/20181100/2018...</td>\n",
       "      <td>0.00</td>\n",
       "    </tr>\n",
       "    <tr>\n",
       "      <th>3</th>\n",
       "      <td>/.md5/v1/dev/stationary/L0/Tokyo/20181100/2018...</td>\n",
       "      <td>0.00</td>\n",
       "    </tr>\n",
       "    <tr>\n",
       "      <th>4</th>\n",
       "      <td>/.md5/v1/dev/stationary/L0/Tokyo/20181200/2018...</td>\n",
       "      <td>0.00</td>\n",
       "    </tr>\n",
       "    <tr>\n",
       "      <th>...</th>\n",
       "      <td>...</td>\n",
       "      <td>...</td>\n",
       "    </tr>\n",
       "    <tr>\n",
       "      <th>8415</th>\n",
       "      <td>/v1/experimental/terrestrial/L0/UK_Test/202006...</td>\n",
       "      <td>0.81</td>\n",
       "    </tr>\n",
       "    <tr>\n",
       "      <th>8416</th>\n",
       "      <td>/v1/experimental/terrestrial/L0/UK_Test/202006...</td>\n",
       "      <td>2.88</td>\n",
       "    </tr>\n",
       "    <tr>\n",
       "      <th>8417</th>\n",
       "      <td>/v1/experimental/terrestrial/L0/UK_Test/202006...</td>\n",
       "      <td>72.58</td>\n",
       "    </tr>\n",
       "    <tr>\n",
       "      <th>8418</th>\n",
       "      <td>/v1/experimental/terrestrial/L0/UK_Test/20200701/</td>\n",
       "      <td>0.00</td>\n",
       "    </tr>\n",
       "    <tr>\n",
       "      <th>8419</th>\n",
       "      <td>/v1/experimental/terrestrial/L0/UK_Test/202007...</td>\n",
       "      <td>28.06</td>\n",
       "    </tr>\n",
       "  </tbody>\n",
       "</table>\n",
       "<p>8420 rows × 2 columns</p>\n",
       "</div>"
      ],
      "text/plain": [
       "                                                 prefix    sum\n",
       "0                                                     /   0.00\n",
       "1                           /.md5/v1/dev/stationary/DC/   0.00\n",
       "2     /.md5/v1/dev/stationary/L0/Tokyo/20181100/2018...   0.00\n",
       "3     /.md5/v1/dev/stationary/L0/Tokyo/20181100/2018...   0.00\n",
       "4     /.md5/v1/dev/stationary/L0/Tokyo/20181200/2018...   0.00\n",
       "...                                                 ...    ...\n",
       "8415  /v1/experimental/terrestrial/L0/UK_Test/202006...   0.81\n",
       "8416  /v1/experimental/terrestrial/L0/UK_Test/202006...   2.88\n",
       "8417  /v1/experimental/terrestrial/L0/UK_Test/202006...  72.58\n",
       "8418  /v1/experimental/terrestrial/L0/UK_Test/20200701/   0.00\n",
       "8419  /v1/experimental/terrestrial/L0/UK_Test/202007...  28.06\n",
       "\n",
       "[8420 rows x 2 columns]"
      ]
     },
     "execution_count": 94,
     "metadata": {},
     "output_type": "execute_result"
    }
   ],
   "source": [
    "df_prefixes"
   ]
  },
  {
   "cell_type": "code",
   "execution_count": 95,
   "metadata": {},
   "outputs": [],
   "source": [
    "df_prefixes_large = df_prefixes[df_prefixes['sum'].astype(float) > 1].copy().reset_index()"
   ]
  },
  {
   "cell_type": "code",
   "execution_count": 96,
   "metadata": {},
   "outputs": [
    {
     "data": {
      "text/html": [
       "<div>\n",
       "<style scoped>\n",
       "    .dataframe tbody tr th:only-of-type {\n",
       "        vertical-align: middle;\n",
       "    }\n",
       "\n",
       "    .dataframe tbody tr th {\n",
       "        vertical-align: top;\n",
       "    }\n",
       "\n",
       "    .dataframe thead th {\n",
       "        text-align: right;\n",
       "    }\n",
       "</style>\n",
       "<table border=\"1\" class=\"dataframe\">\n",
       "  <thead>\n",
       "    <tr style=\"text-align: right;\">\n",
       "      <th></th>\n",
       "      <th>index</th>\n",
       "      <th>prefix</th>\n",
       "      <th>sum</th>\n",
       "    </tr>\n",
       "  </thead>\n",
       "  <tbody>\n",
       "    <tr>\n",
       "      <th>0</th>\n",
       "      <td>253</td>\n",
       "      <td>/aii-data/aii-data-inventory/data/</td>\n",
       "      <td>1.14</td>\n",
       "    </tr>\n",
       "    <tr>\n",
       "      <th>1</th>\n",
       "      <td>367</td>\n",
       "      <td>/factory/postdeployment/G5RA-1007/2020-07-08T1...</td>\n",
       "      <td>26.47</td>\n",
       "    </tr>\n",
       "    <tr>\n",
       "      <th>2</th>\n",
       "      <td>368</td>\n",
       "      <td>/factory/postdeployment/G5RA-1022/2020-07-08T1...</td>\n",
       "      <td>28.00</td>\n",
       "    </tr>\n",
       "    <tr>\n",
       "      <th>3</th>\n",
       "      <td>371</td>\n",
       "      <td>/factory/predeployment/G5RA-1003/2020-01-24T15...</td>\n",
       "      <td>1.03</td>\n",
       "    </tr>\n",
       "    <tr>\n",
       "      <th>4</th>\n",
       "      <td>372</td>\n",
       "      <td>/factory/predeployment/G5RA-1003/2020-02-10T11...</td>\n",
       "      <td>7.50</td>\n",
       "    </tr>\n",
       "    <tr>\n",
       "      <th>...</th>\n",
       "      <td>...</td>\n",
       "      <td>...</td>\n",
       "      <td>...</td>\n",
       "    </tr>\n",
       "    <tr>\n",
       "      <th>4203</th>\n",
       "      <td>8412</td>\n",
       "      <td>/v1/experimental/terrestrial/L0/UK_Test/202003...</td>\n",
       "      <td>1.02</td>\n",
       "    </tr>\n",
       "    <tr>\n",
       "      <th>4204</th>\n",
       "      <td>8414</td>\n",
       "      <td>/v1/experimental/terrestrial/L0/UK_Test/202006...</td>\n",
       "      <td>5.61</td>\n",
       "    </tr>\n",
       "    <tr>\n",
       "      <th>4205</th>\n",
       "      <td>8416</td>\n",
       "      <td>/v1/experimental/terrestrial/L0/UK_Test/202006...</td>\n",
       "      <td>2.88</td>\n",
       "    </tr>\n",
       "    <tr>\n",
       "      <th>4206</th>\n",
       "      <td>8417</td>\n",
       "      <td>/v1/experimental/terrestrial/L0/UK_Test/202006...</td>\n",
       "      <td>72.58</td>\n",
       "    </tr>\n",
       "    <tr>\n",
       "      <th>4207</th>\n",
       "      <td>8419</td>\n",
       "      <td>/v1/experimental/terrestrial/L0/UK_Test/202007...</td>\n",
       "      <td>28.06</td>\n",
       "    </tr>\n",
       "  </tbody>\n",
       "</table>\n",
       "<p>4208 rows × 3 columns</p>\n",
       "</div>"
      ],
      "text/plain": [
       "      index                                             prefix    sum\n",
       "0       253                 /aii-data/aii-data-inventory/data/   1.14\n",
       "1       367  /factory/postdeployment/G5RA-1007/2020-07-08T1...  26.47\n",
       "2       368  /factory/postdeployment/G5RA-1022/2020-07-08T1...  28.00\n",
       "3       371  /factory/predeployment/G5RA-1003/2020-01-24T15...   1.03\n",
       "4       372  /factory/predeployment/G5RA-1003/2020-02-10T11...   7.50\n",
       "...     ...                                                ...    ...\n",
       "4203   8412  /v1/experimental/terrestrial/L0/UK_Test/202003...   1.02\n",
       "4204   8414  /v1/experimental/terrestrial/L0/UK_Test/202006...   5.61\n",
       "4205   8416  /v1/experimental/terrestrial/L0/UK_Test/202006...   2.88\n",
       "4206   8417  /v1/experimental/terrestrial/L0/UK_Test/202006...  72.58\n",
       "4207   8419  /v1/experimental/terrestrial/L0/UK_Test/202007...  28.06\n",
       "\n",
       "[4208 rows x 3 columns]"
      ]
     },
     "execution_count": 96,
     "metadata": {},
     "output_type": "execute_result"
    }
   ],
   "source": [
    "df_prefixes_large"
   ]
  },
  {
   "cell_type": "code",
   "execution_count": 97,
   "metadata": {},
   "outputs": [],
   "source": [
    "no_access = set(list(pd.read_csv(os.path.join(\n",
    "    data_dir, no_access_file), names=['prefix'], header=0)['prefix'].values))"
   ]
  },
  {
   "cell_type": "code",
   "execution_count": 98,
   "metadata": {},
   "outputs": [],
   "source": [
    "no_access = ['/' + x for x in no_access]"
   ]
  },
  {
   "cell_type": "code",
   "execution_count": 99,
   "metadata": {},
   "outputs": [],
   "source": [
    "df_large_prefix_no_access = df_prefixes_large[df_prefixes_large['prefix'].isin(no_access)]"
   ]
  },
  {
   "cell_type": "code",
   "execution_count": 100,
   "metadata": {},
   "outputs": [
    {
     "name": "stderr",
     "output_type": "stream",
     "text": [
      "/Users/brianm/anaconda3/envs/p38_jupy/lib/python3.8/site-packages/pandas/core/frame.py:4160: SettingWithCopyWarning: \n",
      "A value is trying to be set on a copy of a slice from a DataFrame\n",
      "\n",
      "See the caveats in the documentation: https://pandas.pydata.org/pandas-docs/stable/user_guide/indexing.html#returning-a-view-versus-a-copy\n",
      "  return super().drop(\n"
     ]
    }
   ],
   "source": [
    "df_large_prefix_no_access.drop('index', axis=1, inplace=True)"
   ]
  },
  {
   "cell_type": "code",
   "execution_count": 101,
   "metadata": {},
   "outputs": [],
   "source": [
    "df_large_prefix_no_access.columns = ['prefix', 'total_file_size_GB']"
   ]
  },
  {
   "cell_type": "code",
   "execution_count": 102,
   "metadata": {},
   "outputs": [],
   "source": [
    "df_large_prefix_no_access.to_csv(os.path.join(data_dir, 'aii-data_prefix_large_size_no_access.csv'))"
   ]
  },
  {
   "cell_type": "code",
   "execution_count": 116,
   "metadata": {},
   "outputs": [],
   "source": [
    "total_move = df_large_prefix_no_access['total_file_size_GB'].map(lambda x: float(x)).sum()"
   ]
  },
  {
   "cell_type": "code",
   "execution_count": null,
   "metadata": {},
   "outputs": [],
   "source": []
  },
  {
   "cell_type": "code",
   "execution_count": 117,
   "metadata": {},
   "outputs": [
    {
     "data": {
      "text/plain": [
       "1002138.7999999999"
      ]
     },
     "execution_count": 117,
     "metadata": {},
     "output_type": "execute_result"
    }
   ],
   "source": [
    "total_move"
   ]
  },
  {
   "cell_type": "code",
   "execution_count": null,
   "metadata": {},
   "outputs": [],
   "source": []
  },
  {
   "cell_type": "code",
   "execution_count": 118,
   "metadata": {},
   "outputs": [],
   "source": [
    "get_set = set(list(pd.read_csv(os.path.join(data_dir, get_access_file), names=['prefix'], header=0)['prefix'].values))"
   ]
  },
  {
   "cell_type": "code",
   "execution_count": 119,
   "metadata": {},
   "outputs": [],
   "source": [
    "get_set = set(['/' + x for x in get_set])"
   ]
  },
  {
   "cell_type": "code",
   "execution_count": 120,
   "metadata": {},
   "outputs": [],
   "source": [
    "df_get_prefixes = df_prefixes[df_prefixes['prefix'].isin(get_set)]"
   ]
  },
  {
   "cell_type": "code",
   "execution_count": 122,
   "metadata": {},
   "outputs": [],
   "source": [
    "df_get_prefixes.columns = ['prefix', 'total_file_size_GB']"
   ]
  },
  {
   "cell_type": "code",
   "execution_count": 123,
   "metadata": {},
   "outputs": [],
   "source": [
    "df_get_prefixes.to_csv(os.path.join(data_dir, 'aii-data_prefix_with_recent_get.csv'))"
   ]
  },
  {
   "cell_type": "code",
   "execution_count": null,
   "metadata": {},
   "outputs": [],
   "source": []
  },
  {
   "cell_type": "code",
   "execution_count": 124,
   "metadata": {},
   "outputs": [],
   "source": [
    "total_keep = df_get_prefixes['total_file_size_GB'].map(lambda x: float(x)).sum()"
   ]
  },
  {
   "cell_type": "code",
   "execution_count": 126,
   "metadata": {},
   "outputs": [
    {
     "data": {
      "text/plain": [
       "692130.01"
      ]
     },
     "execution_count": 126,
     "metadata": {},
     "output_type": "execute_result"
    }
   ],
   "source": [
    "total_keep"
   ]
  },
  {
   "cell_type": "code",
   "execution_count": null,
   "metadata": {},
   "outputs": [],
   "source": []
  }
 ],
 "metadata": {
  "kernelspec": {
   "display_name": "Python 3",
   "language": "python",
   "name": "python3"
  },
  "language_info": {
   "codemirror_mode": {
    "name": "ipython",
    "version": 3
   },
   "file_extension": ".py",
   "mimetype": "text/x-python",
   "name": "python",
   "nbconvert_exporter": "python",
   "pygments_lexer": "ipython3",
   "version": "3.8.5"
  }
 },
 "nbformat": 4,
 "nbformat_minor": 4
}
