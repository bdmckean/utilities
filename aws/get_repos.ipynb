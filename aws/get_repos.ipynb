{
 "cells": [
  {
   "cell_type": "code",
   "execution_count": 18,
   "metadata": {},
   "outputs": [
    {
     "name": "stderr",
     "output_type": "stream",
     "text": [
      "<>:26: SyntaxWarning: \"is\" with a literal. Did you mean \"==\"?\n",
      "<>:26: SyntaxWarning: \"is\" with a literal. Did you mean \"==\"?\n",
      "<ipython-input-18-894fbdccdabc>:26: SyntaxWarning: \"is\" with a literal. Did you mean \"==\"?\n",
      "  if repos.status_code is 200:\n"
     ]
    }
   ],
   "source": [
    "import csv\n",
    "import requests\n",
    "\n"
   ]
  },
  {
   "cell_type": "code",
   "execution_count": null,
   "metadata": {},
   "outputs": [],
   "source": [
    "def get_repo_list():\n",
    "\n",
    "    # change these things for your org\n",
    "    org_name = 'AuroraInsight'\n",
    "    pages_to_fetch = 2 # number of repos you have, divided by 100. kinda hack-y!\n",
    "\n",
    "    api_url = 'https://api.github.com/orgs/%s/repos?per_page=100' % org_name\n",
    "    repos_list = []\n",
    "\n",
    "    fields = ['name',\n",
    "              'html_url',\n",
    "              'stargazers_count',\n",
    "              'forks',\n",
    "              'description',\n",
    "              'homepage',\n",
    "              'language',\n",
    "              'created_at',\n",
    "              'updated_at']\n",
    "\n",
    "    for page in range(1,(pages_to_fetch + 1)):\n",
    "        print(\"Page %s\" % page)\n",
    "        repos = requests.get(api_url + \"&page=\" + str(page))\n",
    "        if repos.status_code is 200:\n",
    "            for r in repos.json():\n",
    "                repos_list.append([r[key] for key in fields])\n",
    "\n",
    "    print(\"Repo list created. Length: %s\" % len(repos_list))\n",
    "    return repos_list\n"
   ]
  },
  {
   "cell_type": "code",
   "execution_count": 19,
   "metadata": {},
   "outputs": [
    {
     "name": "stdout",
     "output_type": "stream",
     "text": [
      "Page 1\n",
      "Page 2\n",
      "Repo list created. Length: 1\n"
     ]
    }
   ],
   "source": [
    "repo_list = get_repo_list()"
   ]
  },
  {
   "cell_type": "code",
   "execution_count": 20,
   "metadata": {},
   "outputs": [
    {
     "data": {
      "text/plain": [
       "[['stac-spec',\n",
       "  'https://github.com/AuroraInsight/stac-spec',\n",
       "  0,\n",
       "  0,\n",
       "  'SpatioTemporal Asset Catalog specification - making geospatial assets openly searchable and crawlable',\n",
       "  'https://gitter.im/SpatioTemporal-Asset-Catalog/Lobby',\n",
       "  'Python',\n",
       "  '2017-12-12T16:28:48Z',\n",
       "  '2017-12-12T16:28:50Z']]"
      ]
     },
     "execution_count": 20,
     "metadata": {},
     "output_type": "execute_result"
    }
   ],
   "source": [
    "repo_list"
   ]
  },
  {
   "cell_type": "code",
   "execution_count": null,
   "metadata": {},
   "outputs": [],
   "source": []
  },
  {
   "cell_type": "code",
   "execution_count": null,
   "metadata": {},
   "outputs": [],
   "source": []
  }
 ],
 "metadata": {
  "kernelspec": {
   "display_name": "Python 3",
   "language": "python",
   "name": "python3"
  },
  "language_info": {
   "codemirror_mode": {
    "name": "ipython",
    "version": 3
   },
   "file_extension": ".py",
   "mimetype": "text/x-python",
   "name": "python",
   "nbconvert_exporter": "python",
   "pygments_lexer": "ipython3",
   "version": "3.8.5"
  }
 },
 "nbformat": 4,
 "nbformat_minor": 4
}
