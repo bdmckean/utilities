{
 "cells": [
  {
   "cell_type": "code",
   "execution_count": 1,
   "metadata": {},
   "outputs": [],
   "source": [
    "# Open file with all data and make file with only gets\n",
    "import pandas as pd\n",
    "import numpy as np\n",
    "import os\n",
    "import csv\n",
    "from collections import defaultdict\n",
    "import dask.dataframe as dd"
   ]
  },
  {
   "cell_type": "code",
   "execution_count": 2,
   "metadata": {},
   "outputs": [],
   "source": [
    "s3_monitor_dir = '/Users/brianm/Dropbox/cc_AuroraInsight/data/s3/s3_monitor/'\n",
    "s3_results_dir = '/Users/brianm/Dropbox/cc_AuroraInsight/data/s3'\n",
    "\n",
    "s3_results_file_in = 's3_scan7.csv'\n",
    "s3_results_file_out = 's3_scan_get7.csv'\n",
    "s3_results_file_path_in = os.path.join(s3_results_dir, s3_results_file_in)\n",
    "s3_results_file_path_out = os.path.join(s3_results_dir, s3_results_file_out)"
   ]
  },
  {
   "cell_type": "code",
   "execution_count": null,
   "metadata": {},
   "outputs": [],
   "source": []
  },
  {
   "cell_type": "code",
   "execution_count": 3,
   "metadata": {},
   "outputs": [],
   "source": [
    "with open(os.path.join(s3_results_dir,s3_results_file_in), 'r') as infile:\n",
    "    with open(os.path.join(s3_results_dir,s3_results_file_out), 'w') as outfile:\n",
    "        line  = infile.readline()\n",
    "        # Write header\n",
    "        outfile.write(line)\n",
    "        # Get GET lines\n",
    "        line  = infile.readline()\n",
    "        while line:\n",
    "            if 'REST.GET.OBJECT' in line:\n",
    "                outfile.write(line)\n",
    "            line  = infile.readline()"
   ]
  },
  {
   "cell_type": "code",
   "execution_count": null,
   "metadata": {},
   "outputs": [],
   "source": []
  },
  {
   "cell_type": "code",
   "execution_count": null,
   "metadata": {},
   "outputs": [],
   "source": []
  },
  {
   "cell_type": "code",
   "execution_count": null,
   "metadata": {},
   "outputs": [],
   "source": []
  },
  {
   "cell_type": "code",
   "execution_count": null,
   "metadata": {},
   "outputs": [],
   "source": []
  },
  {
   "cell_type": "code",
   "execution_count": null,
   "metadata": {},
   "outputs": [],
   "source": []
  },
  {
   "cell_type": "code",
   "execution_count": null,
   "metadata": {},
   "outputs": [],
   "source": []
  },
  {
   "cell_type": "code",
   "execution_count": null,
   "metadata": {},
   "outputs": [],
   "source": []
  }
 ],
 "metadata": {
  "kernelspec": {
   "display_name": "Python 3",
   "language": "python",
   "name": "python3"
  },
  "language_info": {
   "codemirror_mode": {
    "name": "ipython",
    "version": 3
   },
   "file_extension": ".py",
   "mimetype": "text/x-python",
   "name": "python",
   "nbconvert_exporter": "python",
   "pygments_lexer": "ipython3",
   "version": "3.8.5"
  }
 },
 "nbformat": 4,
 "nbformat_minor": 4
}
