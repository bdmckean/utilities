{
 "cells": [
  {
   "cell_type": "code",
   "execution_count": 9,
   "metadata": {},
   "outputs": [],
   "source": [
    "import boto3"
   ]
  },
  {
   "cell_type": "code",
   "execution_count": null,
   "metadata": {},
   "outputs": [],
   "source": []
  },
  {
   "cell_type": "code",
   "execution_count": 10,
   "metadata": {},
   "outputs": [],
   "source": [
    "s3 = boto3.resource('s3')\n",
    "bucket_lifecycle = s3.BucketLifecycle('aii-data')\n",
    "s3client = boto3.client('s3')"
   ]
  },
  {
   "cell_type": "code",
   "execution_count": 11,
   "metadata": {},
   "outputs": [
    {
     "data": {
      "text/plain": [
       "s3.BucketLifecycle(bucket_name='aii-data')"
      ]
     },
     "execution_count": 11,
     "metadata": {},
     "output_type": "execute_result"
    }
   ],
   "source": [
    "bucket_lifecycle"
   ]
  },
  {
   "cell_type": "code",
   "execution_count": 12,
   "metadata": {},
   "outputs": [],
   "source": [
    "bucket_lifecycle.load()"
   ]
  },
  {
   "cell_type": "code",
   "execution_count": 13,
   "metadata": {},
   "outputs": [
    {
     "data": {
      "text/plain": [
       "[{'ID': 'Transition to Intelligent Tiering after 2 weeks',\n",
       "  'Status': 'Enabled',\n",
       "  'Transition': {'Days': 14, 'StorageClass': 'INTELLIGENT_TIERING'}},\n",
       " {'ID': 'archive_older_files',\n",
       "  'Status': 'Enabled',\n",
       "  'Transition': {'Days': 180, 'StorageClass': 'GLACIER'}}]"
      ]
     },
     "execution_count": 13,
     "metadata": {},
     "output_type": "execute_result"
    }
   ],
   "source": [
    "bucket_lifecycle.rules"
   ]
  },
  {
   "cell_type": "code",
   "execution_count": 14,
   "metadata": {},
   "outputs": [],
   "source": [
    "bucket_list = s3client.list_buckets()"
   ]
  },
  {
   "cell_type": "code",
   "execution_count": 15,
   "metadata": {},
   "outputs": [
    {
     "name": "stdout",
     "output_type": "stream",
     "text": [
      "3rd-party-app-location-data : no_life_cycle_policy\n",
      "aii-archive : [{'ID': 'deep_archive_large_files', 'Status': 'Enabled', 'Transition': {'Days': 30, 'StorageClass': 'DEEP_ARCHIVE'}}]\n",
      "aii-backup : [{'ID': 'Backup_2DayRule', 'Status': 'Enabled', 'Transition': {'Days': 2, 'StorageClass': 'GLACIER'}, 'NoncurrentVersionTransition': {'NoncurrentDays': 3, 'StorageClass': 'GLACIER'}, 'AbortIncompleteMultipartUpload': {'DaysAfterInitiation': 21}}]\n",
      "aii-calibration : no_life_cycle_policy\n",
      "aii-compass : no_life_cycle_policy\n",
      "aii-customers : no_life_cycle_policy\n",
      "aii-data : [{'ID': 'Transition to Intelligent Tiering after 2 weeks', 'Status': 'Enabled', 'Transition': {'Days': 14, 'StorageClass': 'INTELLIGENT_TIERING'}}, {'ID': 'archive_older_files', 'Status': 'Enabled', 'Transition': {'Days': 180, 'StorageClass': 'GLACIER'}}]\n",
      "aii-data-science-challenge : no_life_cycle_policy\n",
      "aii-datapipeline : no_life_cycle_policy\n",
      "aii-frontpage-test : no_life_cycle_policy\n",
      "aii-gps-cache : no_life_cycle_policy\n",
      "aii-lte : no_life_cycle_policy\n",
      "aii-lte-dev : no_life_cycle_policy\n",
      "aii-m2 : no_life_cycle_policy\n",
      "aii-measurements : no_life_cycle_policy\n",
      "aii-notebook-export : no_life_cycle_policy\n",
      "aii-projects : no_life_cycle_policy\n",
      "aii-s3-inventory : [{'Expiration': {'Days': 35}, 'ID': 'CleanS3Inventory', 'Status': 'Enabled', 'NoncurrentVersionExpiration': {'NoncurrentDays': 35}}]\n",
      "aii-satellite-measurements-tracker : no_life_cycle_policy\n",
      "aii-shared-drive : no_life_cycle_policy\n",
      "aii-spacequest : no_life_cycle_policy\n",
      "aii-terraform-state : no_life_cycle_policy\n",
      "aii-testdata : no_life_cycle_policy\n",
      "aii-tles : no_life_cycle_policy\n",
      "aii-tools : no_life_cycle_policy\n",
      "aii-vzwmap : no_life_cycle_policy\n",
      "aii-wcdma : no_life_cycle_policy\n",
      "aii-wifi : no_life_cycle_policy\n",
      "aws-athena-query-results-874847117436-us-east-1 : no_life_cycle_policy\n",
      "aws-logs-874847117436-us-east-1 : no_life_cycle_policy\n",
      "aws-logs-874847117436-us-east-2 : no_life_cycle_policy\n",
      "block-definitions : no_life_cycle_policy\n",
      "kc-client-aurora-sync : no_life_cycle_policy\n",
      "project-baker : no_life_cycle_policy\n",
      "signal-detector-data : no_life_cycle_policy\n",
      "wcc4-tacc-test : [{'ID': 'deep_archive_large_files', 'Status': 'Enabled', 'Transition': {'Days': 30, 'StorageClass': 'DEEP_ARCHIVE'}}]\n",
      "zappa-bf6861q6q : no_life_cycle_policy\n",
      "zappa-compute-autoscaler : no_life_cycle_policy\n",
      "zappa-hardware-configs : no_life_cycle_policy\n",
      "zappa-iidfli5eu : no_life_cycle_policy\n",
      "zappa-iq-files : no_life_cycle_policy\n",
      "zappa-lqxuy2oah : no_life_cycle_policy\n",
      "zappa-prune-api : no_life_cycle_policy\n",
      "zappa-s3-inventory : no_life_cycle_policy\n",
      "zappa-update-thea-locations : no_life_cycle_policy\n",
      "zappa-upgjg91l2 : no_life_cycle_policy\n",
      "zappa-w9snlsr1w : no_life_cycle_policy\n",
      "zz-aii-config : no_life_cycle_policy\n"
     ]
    }
   ],
   "source": [
    "for bucket in bucket_list[\"Buckets\"]:\n",
    "    bucket_name = bucket['Name']\n",
    "    #print(bucket_name)\n",
    "    try:\n",
    "        bucket_lifecycle = s3.BucketLifecycle(bucket_name)\n",
    "        bucket_lifecycle.load()\n",
    "        print('{0} : {1}'.format(\n",
    "            bucket_name,\n",
    "            bucket_lifecycle.rules))\n",
    "    except:\n",
    "        print('{0} : no_life_cycle_policy'.format(\n",
    "            bucket_name))\n"
   ]
  },
  {
   "cell_type": "code",
   "execution_count": 16,
   "metadata": {},
   "outputs": [
    {
     "name": "stdout",
     "output_type": "stream",
     "text": [
      "aii-data : [{'ID': 'Transition to Intelligent Tiering after 2 weeks', 'Status': 'Enabled', 'Transition': {'Days': 14, 'StorageClass': 'INTELLIGENT_TIERING'}}, {'ID': 'archive_older_files', 'Status': 'Enabled', 'Transition': {'Days': 180, 'StorageClass': 'GLACIER'}}]\n"
     ]
    }
   ],
   "source": [
    "bucket_name = 'aii-data'\n",
    "bucket_lifecycle = s3.BucketLifecycle(bucket_name)\n",
    "bucket_lifecycle.load()\n",
    "print('{0} : {1}'.format(\n",
    "    bucket_name,\n",
    "    bucket_lifecycle.rules))"
   ]
  },
  {
   "cell_type": "code",
   "execution_count": null,
   "metadata": {},
   "outputs": [],
   "source": []
  },
  {
   "cell_type": "code",
   "execution_count": null,
   "metadata": {},
   "outputs": [],
   "source": []
  },
  {
   "cell_type": "code",
   "execution_count": null,
   "metadata": {},
   "outputs": [],
   "source": []
  }
 ],
 "metadata": {
  "kernelspec": {
   "display_name": "Python 3",
   "language": "python",
   "name": "python3"
  },
  "language_info": {
   "codemirror_mode": {
    "name": "ipython",
    "version": 3
   },
   "file_extension": ".py",
   "mimetype": "text/x-python",
   "name": "python",
   "nbconvert_exporter": "python",
   "pygments_lexer": "ipython3",
   "version": "3.8.5"
  }
 },
 "nbformat": 4,
 "nbformat_minor": 4
}
