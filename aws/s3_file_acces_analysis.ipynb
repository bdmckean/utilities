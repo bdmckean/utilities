{
 "cells": [
  {
   "cell_type": "code",
   "execution_count": 1,
   "metadata": {},
   "outputs": [],
   "source": [
    "import pandas as pd\n",
    "import numpy as np\n",
    "import os\n",
    "import dask"
   ]
  },
  {
   "cell_type": "code",
   "execution_count": 2,
   "metadata": {},
   "outputs": [],
   "source": [
    "s3_monitor_dir = '/Users/brianm/Dropbox/cc_AuroraInsight/data/s3/s3_monitor/'\n",
    "s3_results_dir = '/Users/brianm/Dropbox/cc_AuroraInsight/data/s3'\n",
    "\n",
    "s3_results_file = 's3_scan3.csv'\n",
    "s3_results_file_path = os.path.join(s3_results_dir, s3_results_file)"
   ]
  },
  {
   "cell_type": "code",
   "execution_count": 3,
   "metadata": {},
   "outputs": [],
   "source": [
    "file_list = os.listdir(s3_monitor_dir)\n",
    "file_list_2 = os.listdir(os.path.join(s3_monitor_dir, 's3_monitor'))\n",
    "file_list.remove('s3_monitor')"
   ]
  },
  {
   "cell_type": "code",
   "execution_count": 4,
   "metadata": {},
   "outputs": [
    {
     "data": {
      "text/plain": [
       "412471"
      ]
     },
     "execution_count": 4,
     "metadata": {},
     "output_type": "execute_result"
    }
   ],
   "source": [
    "len(file_list)"
   ]
  },
  {
   "cell_type": "code",
   "execution_count": 5,
   "metadata": {},
   "outputs": [],
   "source": [
    "file_list = [name for name in file_list \n",
    "             if '.swp' not in name and \n",
    "             os.path.isfile(os.path.join(s3_monitor_dir, name))]\n"
   ]
  },
  {
   "cell_type": "code",
   "execution_count": 6,
   "metadata": {},
   "outputs": [
    {
     "data": {
      "text/plain": [
       "412470"
      ]
     },
     "execution_count": 6,
     "metadata": {},
     "output_type": "execute_result"
    }
   ],
   "source": [
    "len(file_list)"
   ]
  },
  {
   "cell_type": "code",
   "execution_count": 7,
   "metadata": {},
   "outputs": [],
   "source": [
    "s3_monitor_lists = []\n",
    "\n",
    "\n"
   ]
  },
  {
   "cell_type": "code",
   "execution_count": 8,
   "metadata": {},
   "outputs": [],
   "source": [
    "# 15 is GET size\n",
    "discard_idx = [6, 13,14,16,17, 18]\n",
    "def line_cleanup(line):\n",
    "    '''\n",
    "    Lines have a variable amount of data at line 19 depending on operation\n",
    "    Collapse 19 until next '-' into one element\n",
    "    '''\n",
    "    if len(line) == 25:\n",
    "        # Handle TRANSITION (25 elemements)\n",
    "        #print(line)\n",
    "        line.pop(6)\n",
    "        new_line = line[:20]\n",
    "        new_line[8] = 'TRANSITION'\n",
    "        #print(new_line)\n",
    "       \n",
    "    else:    \n",
    "        # Handle GET (32 elem), PUT (30 elem) \n",
    "        new_line = []\n",
    "        at_19 = False\n",
    "        line_19 = None\n",
    "        for idx, elem in enumerate(line):\n",
    "            if idx in discard_idx:\n",
    "                continue\n",
    "            if idx == 2:\n",
    "                elem = elem.replace('[','')\n",
    "            if idx == 3:\n",
    "                elem = elem.replace(']','')\n",
    "            #print(idx, elem)\n",
    "            if idx == 19:\n",
    "                at_19 = True\n",
    "            if at_19 == True:\n",
    "                if elem == '-':\n",
    "                    #print('1')\n",
    "                    #print(line_19)\n",
    "                    new_line.append(line_19)\n",
    "                    at_19 = False\n",
    "                else:\n",
    "                    #print('2')\n",
    "                    #print(line_19, elem)\n",
    "                    if line_19:\n",
    "                        line_19 += '|' + elem\n",
    "                    else:\n",
    "                        line_19 = elem\n",
    "\n",
    "                continue\n",
    "            new_line.append(elem)\n",
    "    return new_line\n",
    "            \n",
    "            "
   ]
  },
  {
   "cell_type": "code",
   "execution_count": 9,
   "metadata": {},
   "outputs": [],
   "source": [
    "columns = ['id', 'bucket', 'time', 'time_ms?','accessw_ip', \n",
    "           'arn', 'full_action', 'key', 'basic_action', 'key_extended', \n",
    "           'http', 'response', 'size', 'software_method',\n",
    "           'token', 'sig_version',  'encoding', 'header', 's3_location',\n",
    "           'aws_version'\n",
    "          ]\n",
    "needed_columns =  ['bucket', 'time', 'accessw_ip', \n",
    "          'full_action', 'key', 'basic_action', 'size', \n",
    "            'software_method'\n",
    "                  ]\n",
    "\n"
   ]
  },
  {
   "cell_type": "code",
   "execution_count": 10,
   "metadata": {},
   "outputs": [],
   "source": [
    "def reformat_info(list_of_lines):\n",
    "    '''\n",
    "    There are three types \n",
    "    '''\n",
    "    \n",
    "    df_lines = pd.DataFrame(list_of_lines, columns=columns)\n",
    "    df_results = df_lines[needed_columns].copy()\n",
    "    df_results['file'] = df_results['key'].map(lambda x: os.path.split(x)[1])\n",
    "    df_results['prefix'] = df_results['key'].map(lambda x: os.path.split(x)[0])\n",
    "    return df_results"
   ]
  },
  {
   "cell_type": "code",
   "execution_count": null,
   "metadata": {},
   "outputs": [],
   "source": []
  },
  {
   "cell_type": "code",
   "execution_count": null,
   "metadata": {},
   "outputs": [],
   "source": []
  },
  {
   "cell_type": "code",
   "execution_count": 11,
   "metadata": {},
   "outputs": [
    {
     "name": "stdout",
     "output_type": "stream",
     "text": [
      "     bucket                  time      accessw_ip      full_action key  \\\n",
      "0  aii-data  23/Sep/2020:22:43:18  34.204.179.167  REST.GET.BUCKET   -   \n",
      "\n",
      "  basic_action size                                    software_method file  \\\n",
      "0         \"GET    -  \"Boto3/1.14.48|Python/3.6.12|Linux/4.14.177-10...    -   \n",
      "\n",
      "  prefix  \n",
      "0         \n"
     ]
    }
   ],
   "source": [
    "\n",
    "first_time = True\n",
    "for file_name in file_list:\n",
    "    with open(os.path.join(s3_monitor_dir, file_name)) as s3_monitor_file:\n",
    "        content = s3_monitor_file.readlines()\n",
    "    content_2 = [line.strip().split() for line in content] \n",
    "    content_3 = [line_cleanup(line) for line in content_2]\n",
    "    #print(content)\n",
    "    df_content = reformat_info(content_3)\n",
    "    if '-' in df_content['size'].values:\n",
    "        print(df_content.head())\n",
    "        break\n",
    "    #print(df_content.head())\n",
    "\n",
    "    if first_time:\n",
    "        first_time = False\n",
    "        df_content.to_csv(s3_results_file_path, mode='w', header=True)\n",
    "        \n",
    "            \n",
    "    df_content.to_csv(s3_results_file_path, mode='a', header=False)\n",
    "\n",
    "\n",
    "  \n",
    "    \n",
    "    "
   ]
  },
  {
   "cell_type": "code",
   "execution_count": 12,
   "metadata": {},
   "outputs": [
    {
     "data": {
      "text/plain": [
       "0    -\n",
       "Name: size, dtype: object"
      ]
     },
     "execution_count": 12,
     "metadata": {},
     "output_type": "execute_result"
    }
   ],
   "source": [
    "df_content['size']"
   ]
  },
  {
   "cell_type": "code",
   "execution_count": 13,
   "metadata": {},
   "outputs": [
    {
     "data": {
      "text/plain": [
       "['cce8acfe91eb3a7432b8a2f8b610b830625a027c6c47dd3436ae147a71b71d16 aii-data [23/Sep/2020:22:43:18 +0000] 34.204.179.167 arn:aws:sts::874847117436:assumed-role/aii-lambda/compile-collection-catalog E095F2030E608DA6 REST.GET.BUCKET - \"GET /?prefix=v1%2Fdev%2Fterrestrial%2FL0%2FOmaha%2F&delimiter=%2F&encoding-type=url HTTP/1.1\" 200 - 492 - 37 36 \"-\" \"Boto3/1.14.48 Python/3.6.12 Linux/4.14.177-104.253.amzn2.x86_64 exec-env/AWS_Lambda_python3.6 Botocore/1.17.48\" - vp8LM1Hj1HNeh1QVk9AOvGm1ThcsBeH0JLYUkov/OFjJ0tj8j/63kHfwNEUUxI2h0FBuDs4gXHE= SigV4 ECDHE-RSA-AES128-GCM-SHA256 AuthHeader aii-data.s3.amazonaws.com TLSv1.2\\n']"
      ]
     },
     "execution_count": 13,
     "metadata": {},
     "output_type": "execute_result"
    }
   ],
   "source": [
    "content"
   ]
  },
  {
   "cell_type": "code",
   "execution_count": 14,
   "metadata": {},
   "outputs": [
    {
     "data": {
      "text/plain": [
       "[['cce8acfe91eb3a7432b8a2f8b610b830625a027c6c47dd3436ae147a71b71d16',\n",
       "  'aii-data',\n",
       "  '[23/Sep/2020:22:43:18',\n",
       "  '+0000]',\n",
       "  '34.204.179.167',\n",
       "  'arn:aws:sts::874847117436:assumed-role/aii-lambda/compile-collection-catalog',\n",
       "  'E095F2030E608DA6',\n",
       "  'REST.GET.BUCKET',\n",
       "  '-',\n",
       "  '\"GET',\n",
       "  '/?prefix=v1%2Fdev%2Fterrestrial%2FL0%2FOmaha%2F&delimiter=%2F&encoding-type=url',\n",
       "  'HTTP/1.1\"',\n",
       "  '200',\n",
       "  '-',\n",
       "  '492',\n",
       "  '-',\n",
       "  '37',\n",
       "  '36',\n",
       "  '\"-\"',\n",
       "  '\"Boto3/1.14.48',\n",
       "  'Python/3.6.12',\n",
       "  'Linux/4.14.177-104.253.amzn2.x86_64',\n",
       "  'exec-env/AWS_Lambda_python3.6',\n",
       "  'Botocore/1.17.48\"',\n",
       "  '-',\n",
       "  'vp8LM1Hj1HNeh1QVk9AOvGm1ThcsBeH0JLYUkov/OFjJ0tj8j/63kHfwNEUUxI2h0FBuDs4gXHE=',\n",
       "  'SigV4',\n",
       "  'ECDHE-RSA-AES128-GCM-SHA256',\n",
       "  'AuthHeader',\n",
       "  'aii-data.s3.amazonaws.com',\n",
       "  'TLSv1.2']]"
      ]
     },
     "execution_count": 14,
     "metadata": {},
     "output_type": "execute_result"
    }
   ],
   "source": [
    "content_2"
   ]
  },
  {
   "cell_type": "code",
   "execution_count": 15,
   "metadata": {},
   "outputs": [
    {
     "data": {
      "text/plain": [
       "['cce8acfe91eb3a7432b8a2f8b610b830625a027c6c47dd3436ae147a71b71d16',\n",
       " 'aii-data',\n",
       " '[23/Sep/2020:22:43:18',\n",
       " '+0000]',\n",
       " '34.204.179.167',\n",
       " 'arn:aws:sts::874847117436:assumed-role/aii-lambda/compile-collection-catalog',\n",
       " 'E095F2030E608DA6',\n",
       " 'REST.GET.BUCKET',\n",
       " '-',\n",
       " '\"GET',\n",
       " '/?prefix=v1%2Fdev%2Fterrestrial%2FL0%2FOmaha%2F&delimiter=%2F&encoding-type=url',\n",
       " 'HTTP/1.1\"',\n",
       " '200',\n",
       " '-',\n",
       " '492',\n",
       " '-',\n",
       " '37',\n",
       " '36',\n",
       " '\"-\"',\n",
       " '\"Boto3/1.14.48',\n",
       " 'Python/3.6.12',\n",
       " 'Linux/4.14.177-104.253.amzn2.x86_64',\n",
       " 'exec-env/AWS_Lambda_python3.6',\n",
       " 'Botocore/1.17.48\"',\n",
       " '-',\n",
       " 'vp8LM1Hj1HNeh1QVk9AOvGm1ThcsBeH0JLYUkov/OFjJ0tj8j/63kHfwNEUUxI2h0FBuDs4gXHE=',\n",
       " 'SigV4',\n",
       " 'ECDHE-RSA-AES128-GCM-SHA256',\n",
       " 'AuthHeader',\n",
       " 'aii-data.s3.amazonaws.com',\n",
       " 'TLSv1.2']"
      ]
     },
     "execution_count": 15,
     "metadata": {},
     "output_type": "execute_result"
    }
   ],
   "source": [
    "content_2[0]"
   ]
  },
  {
   "cell_type": "code",
   "execution_count": 16,
   "metadata": {},
   "outputs": [
    {
     "data": {
      "text/plain": [
       "31"
      ]
     },
     "execution_count": 16,
     "metadata": {},
     "output_type": "execute_result"
    }
   ],
   "source": [
    "len(content_2[0])"
   ]
  },
  {
   "cell_type": "code",
   "execution_count": 17,
   "metadata": {},
   "outputs": [
    {
     "name": "stdout",
     "output_type": "stream",
     "text": [
      "     bucket                  time      accessw_ip      full_action  \\\n",
      "0  aii-data  02/Oct/2020:01:05:31  34.201.103.201  REST.GET.OBJECT   \n",
      "1  aii-data  02/Oct/2020:01:05:32  34.201.103.201  REST.GET.OBJECT   \n",
      "2  aii-data  02/Oct/2020:01:05:33  34.201.103.201  REST.GET.OBJECT   \n",
      "3  aii-data  02/Oct/2020:01:05:33  34.201.103.201  REST.GET.OBJECT   \n",
      "4  aii-data  02/Oct/2020:01:05:34  34.201.103.201  REST.GET.OBJECT   \n",
      "\n",
      "                                                 key basic_action        size  \\\n",
      "0  v1/dev/terrestrial/L0/RuralMichigan/20200928/2...         \"GET  3103784960   \n",
      "1  v1/dev/terrestrial/L0/RuralMichigan/20200928/2...         \"GET  3103784960   \n",
      "2  v1/dev/terrestrial/L0/RuralMichigan/20200928/2...         \"GET  3103784960   \n",
      "3  v1/dev/terrestrial/L0/RuralMichigan/20200928/2...         \"GET  3103784960   \n",
      "4  v1/dev/terrestrial/L0/RuralMichigan/20200928/2...         \"GET  3103784960   \n",
      "\n",
      "                                     software_method  \\\n",
      "0  \"Boto3/1.15.10|Python/3.7.9|Linux/4.14.193-149...   \n",
      "1  \"Boto3/1.15.10|Python/3.7.9|Linux/4.14.193-149...   \n",
      "2  \"Boto3/1.15.10|Python/3.7.9|Linux/4.14.193-149...   \n",
      "3  \"Boto3/1.15.10|Python/3.7.9|Linux/4.14.193-149...   \n",
      "4  \"Boto3/1.15.10|Python/3.7.9|Linux/4.14.193-149...   \n",
      "\n",
      "                                         file  \\\n",
      "0  iq_out_RX2_31898A7_0_1601301618.sigmf-data   \n",
      "1  iq_out_RX2_31898A7_0_1601301618.sigmf-data   \n",
      "2  iq_out_RX2_31898A7_0_1601301618.sigmf-data   \n",
      "3  iq_out_RX2_31898A7_0_1601301618.sigmf-data   \n",
      "4  iq_out_RX2_31898A7_0_1601301618.sigmf-data   \n",
      "\n",
      "                                              prefix  \n",
      "0  v1/dev/terrestrial/L0/RuralMichigan/20200928/2...  \n",
      "1  v1/dev/terrestrial/L0/RuralMichigan/20200928/2...  \n",
      "2  v1/dev/terrestrial/L0/RuralMichigan/20200928/2...  \n",
      "3  v1/dev/terrestrial/L0/RuralMichigan/20200928/2...  \n",
      "4  v1/dev/terrestrial/L0/RuralMichigan/20200928/2...  \n"
     ]
    }
   ],
   "source": [
    "\n",
    "\n",
    "for file_name in file_list_2:\n",
    "    with open(os.path.join(os.path.join(s3_monitor_dir, 's3_monitor', file_name))) as s3_monitor_file:\n",
    "        content = s3_monitor_file.readlines()\n",
    "    content_2 = [line.strip().split() for line in content] \n",
    "    content_3 = [line_cleanup(line) for line in content_2]\n",
    "    #print(content)\n",
    "    df_content = reformat_info(content_3)\n",
    "    #print(df_content.head())   \n",
    "    if '-' in df_content['size'].values:\n",
    "        print(df_content.head())\n",
    "        break\n",
    "    df_content.to_csv(s3_results_file_path, mode='a', header=False)"
   ]
  },
  {
   "cell_type": "code",
   "execution_count": 18,
   "metadata": {},
   "outputs": [],
   "source": [
    "test = [line_cleanup(line) for line in content_2]"
   ]
  },
  {
   "cell_type": "code",
   "execution_count": 19,
   "metadata": {},
   "outputs": [
    {
     "data": {
      "text/plain": [
       "['cce8acfe91eb3a7432b8a2f8b610b830625a027c6c47dd3436ae147a71b71d16',\n",
       " 'aii-data',\n",
       " '02/Oct/2020:01:05:31',\n",
       " '+0000',\n",
       " '34.201.103.201',\n",
       " 'arn:aws:sts::874847117436:assumed-role/Michigan_ecs_instance_role/i-01024fd2a1e070393',\n",
       " 'REST.GET.OBJECT',\n",
       " 'v1/dev/terrestrial/L0/RuralMichigan/20200928/2020-09-28T08-12-27_31898A7_C2A47E1729_RuralMichigan/iq_out_RX2_31898A7_0_1601301618.sigmf-data',\n",
       " '\"GET',\n",
       " '/v1/dev/terrestrial/L0/RuralMichigan/20200928/2020-09-28T08-12-27_31898A7_C2A47E1729_RuralMichigan/iq_out_RX2_31898A7_0_1601301618.sigmf-data',\n",
       " 'HTTP/1.1\"',\n",
       " '206',\n",
       " '3103784960',\n",
       " '\"Boto3/1.15.10|Python/3.7.9|Linux/4.14.193-149.317.amzn2.x86_64|exec-env/AWS_ECS_EC2|Botocore/1.18.10|Resource\"',\n",
       " 'nM6h1oghJOL596w2dciNnFKK06UST1vrY/+lvsTmekOHHNNP4boZQbuISlq83+QdwH77x32dZZk=',\n",
       " 'SigV4',\n",
       " 'ECDHE-RSA-AES128-GCM-SHA256',\n",
       " 'AuthHeader',\n",
       " 'aii-data.s3.amazonaws.com',\n",
       " 'TLSv1.2']"
      ]
     },
     "execution_count": 19,
     "metadata": {},
     "output_type": "execute_result"
    }
   ],
   "source": [
    "test[0]"
   ]
  },
  {
   "cell_type": "code",
   "execution_count": 20,
   "metadata": {},
   "outputs": [],
   "source": [
    "df_content = reformat_info(test)"
   ]
  },
  {
   "cell_type": "code",
   "execution_count": 21,
   "metadata": {},
   "outputs": [
    {
     "data": {
      "text/html": [
       "<div>\n",
       "<style scoped>\n",
       "    .dataframe tbody tr th:only-of-type {\n",
       "        vertical-align: middle;\n",
       "    }\n",
       "\n",
       "    .dataframe tbody tr th {\n",
       "        vertical-align: top;\n",
       "    }\n",
       "\n",
       "    .dataframe thead th {\n",
       "        text-align: right;\n",
       "    }\n",
       "</style>\n",
       "<table border=\"1\" class=\"dataframe\">\n",
       "  <thead>\n",
       "    <tr style=\"text-align: right;\">\n",
       "      <th></th>\n",
       "      <th>bucket</th>\n",
       "      <th>time</th>\n",
       "      <th>accessw_ip</th>\n",
       "      <th>full_action</th>\n",
       "      <th>key</th>\n",
       "      <th>basic_action</th>\n",
       "      <th>size</th>\n",
       "      <th>software_method</th>\n",
       "      <th>file</th>\n",
       "      <th>prefix</th>\n",
       "    </tr>\n",
       "  </thead>\n",
       "  <tbody>\n",
       "    <tr>\n",
       "      <th>0</th>\n",
       "      <td>aii-data</td>\n",
       "      <td>02/Oct/2020:01:05:31</td>\n",
       "      <td>34.201.103.201</td>\n",
       "      <td>REST.GET.OBJECT</td>\n",
       "      <td>v1/dev/terrestrial/L0/RuralMichigan/20200928/2...</td>\n",
       "      <td>\"GET</td>\n",
       "      <td>3103784960</td>\n",
       "      <td>\"Boto3/1.15.10|Python/3.7.9|Linux/4.14.193-149...</td>\n",
       "      <td>iq_out_RX2_31898A7_0_1601301618.sigmf-data</td>\n",
       "      <td>v1/dev/terrestrial/L0/RuralMichigan/20200928/2...</td>\n",
       "    </tr>\n",
       "    <tr>\n",
       "      <th>1</th>\n",
       "      <td>aii-data</td>\n",
       "      <td>02/Oct/2020:01:05:32</td>\n",
       "      <td>34.201.103.201</td>\n",
       "      <td>REST.GET.OBJECT</td>\n",
       "      <td>v1/dev/terrestrial/L0/RuralMichigan/20200928/2...</td>\n",
       "      <td>\"GET</td>\n",
       "      <td>3103784960</td>\n",
       "      <td>\"Boto3/1.15.10|Python/3.7.9|Linux/4.14.193-149...</td>\n",
       "      <td>iq_out_RX2_31898A7_0_1601301618.sigmf-data</td>\n",
       "      <td>v1/dev/terrestrial/L0/RuralMichigan/20200928/2...</td>\n",
       "    </tr>\n",
       "    <tr>\n",
       "      <th>2</th>\n",
       "      <td>aii-data</td>\n",
       "      <td>02/Oct/2020:01:05:33</td>\n",
       "      <td>34.201.103.201</td>\n",
       "      <td>REST.GET.OBJECT</td>\n",
       "      <td>v1/dev/terrestrial/L0/RuralMichigan/20200928/2...</td>\n",
       "      <td>\"GET</td>\n",
       "      <td>3103784960</td>\n",
       "      <td>\"Boto3/1.15.10|Python/3.7.9|Linux/4.14.193-149...</td>\n",
       "      <td>iq_out_RX2_31898A7_0_1601301618.sigmf-data</td>\n",
       "      <td>v1/dev/terrestrial/L0/RuralMichigan/20200928/2...</td>\n",
       "    </tr>\n",
       "    <tr>\n",
       "      <th>3</th>\n",
       "      <td>aii-data</td>\n",
       "      <td>02/Oct/2020:01:05:33</td>\n",
       "      <td>34.201.103.201</td>\n",
       "      <td>REST.GET.OBJECT</td>\n",
       "      <td>v1/dev/terrestrial/L0/RuralMichigan/20200928/2...</td>\n",
       "      <td>\"GET</td>\n",
       "      <td>3103784960</td>\n",
       "      <td>\"Boto3/1.15.10|Python/3.7.9|Linux/4.14.193-149...</td>\n",
       "      <td>iq_out_RX2_31898A7_0_1601301618.sigmf-data</td>\n",
       "      <td>v1/dev/terrestrial/L0/RuralMichigan/20200928/2...</td>\n",
       "    </tr>\n",
       "    <tr>\n",
       "      <th>4</th>\n",
       "      <td>aii-data</td>\n",
       "      <td>02/Oct/2020:01:05:34</td>\n",
       "      <td>34.201.103.201</td>\n",
       "      <td>REST.GET.OBJECT</td>\n",
       "      <td>v1/dev/terrestrial/L0/RuralMichigan/20200928/2...</td>\n",
       "      <td>\"GET</td>\n",
       "      <td>3103784960</td>\n",
       "      <td>\"Boto3/1.15.10|Python/3.7.9|Linux/4.14.193-149...</td>\n",
       "      <td>iq_out_RX2_31898A7_0_1601301618.sigmf-data</td>\n",
       "      <td>v1/dev/terrestrial/L0/RuralMichigan/20200928/2...</td>\n",
       "    </tr>\n",
       "    <tr>\n",
       "      <th>...</th>\n",
       "      <td>...</td>\n",
       "      <td>...</td>\n",
       "      <td>...</td>\n",
       "      <td>...</td>\n",
       "      <td>...</td>\n",
       "      <td>...</td>\n",
       "      <td>...</td>\n",
       "      <td>...</td>\n",
       "      <td>...</td>\n",
       "      <td>...</td>\n",
       "    </tr>\n",
       "    <tr>\n",
       "      <th>69</th>\n",
       "      <td>aii-data</td>\n",
       "      <td>02/Oct/2020:01:57:42</td>\n",
       "      <td>100.24.121.22</td>\n",
       "      <td>REST.GET.OBJECT</td>\n",
       "      <td>v1/dev/terrestrial/L0/RuralMichigan/20200928/2...</td>\n",
       "      <td>\"GET</td>\n",
       "      <td>3103784960</td>\n",
       "      <td>\"Boto3/1.15.10|Python/3.7.9|Linux/4.14.193-149...</td>\n",
       "      <td>iq_out_RX2_31898A7_0_1601405000.sigmf-data</td>\n",
       "      <td>v1/dev/terrestrial/L0/RuralMichigan/20200928/2...</td>\n",
       "    </tr>\n",
       "    <tr>\n",
       "      <th>70</th>\n",
       "      <td>aii-data</td>\n",
       "      <td>02/Oct/2020:01:57:42</td>\n",
       "      <td>100.24.121.22</td>\n",
       "      <td>REST.GET.OBJECT</td>\n",
       "      <td>v1/dev/terrestrial/L0/RuralMichigan/20200928/2...</td>\n",
       "      <td>\"GET</td>\n",
       "      <td>3103784960</td>\n",
       "      <td>\"Boto3/1.15.10|Python/3.7.9|Linux/4.14.193-149...</td>\n",
       "      <td>iq_out_RX2_31898A7_0_1601405000.sigmf-data</td>\n",
       "      <td>v1/dev/terrestrial/L0/RuralMichigan/20200928/2...</td>\n",
       "    </tr>\n",
       "    <tr>\n",
       "      <th>71</th>\n",
       "      <td>aii-data</td>\n",
       "      <td>02/Oct/2020:01:57:43</td>\n",
       "      <td>100.24.121.22</td>\n",
       "      <td>REST.GET.OBJECT</td>\n",
       "      <td>v1/dev/terrestrial/L0/RuralMichigan/20200928/2...</td>\n",
       "      <td>\"GET</td>\n",
       "      <td>3103784960</td>\n",
       "      <td>\"Boto3/1.15.10|Python/3.7.9|Linux/4.14.193-149...</td>\n",
       "      <td>iq_out_RX2_31898A7_0_1601405000.sigmf-data</td>\n",
       "      <td>v1/dev/terrestrial/L0/RuralMichigan/20200928/2...</td>\n",
       "    </tr>\n",
       "    <tr>\n",
       "      <th>72</th>\n",
       "      <td>aii-data</td>\n",
       "      <td>02/Oct/2020:01:57:44</td>\n",
       "      <td>100.24.121.22</td>\n",
       "      <td>REST.GET.OBJECT</td>\n",
       "      <td>v1/dev/terrestrial/L0/RuralMichigan/20200928/2...</td>\n",
       "      <td>\"GET</td>\n",
       "      <td>3103784960</td>\n",
       "      <td>\"Boto3/1.15.10|Python/3.7.9|Linux/4.14.193-149...</td>\n",
       "      <td>iq_out_RX2_31898A7_0_1601405000.sigmf-data</td>\n",
       "      <td>v1/dev/terrestrial/L0/RuralMichigan/20200928/2...</td>\n",
       "    </tr>\n",
       "    <tr>\n",
       "      <th>73</th>\n",
       "      <td>aii-data</td>\n",
       "      <td>02/Oct/2020:01:57:45</td>\n",
       "      <td>100.24.121.22</td>\n",
       "      <td>REST.GET.OBJECT</td>\n",
       "      <td>v1/dev/terrestrial/L0/RuralMichigan/20200928/2...</td>\n",
       "      <td>\"GET</td>\n",
       "      <td>3103784960</td>\n",
       "      <td>\"Boto3/1.15.10|Python/3.7.9|Linux/4.14.193-149...</td>\n",
       "      <td>iq_out_RX2_31898A7_0_1601405000.sigmf-data</td>\n",
       "      <td>v1/dev/terrestrial/L0/RuralMichigan/20200928/2...</td>\n",
       "    </tr>\n",
       "  </tbody>\n",
       "</table>\n",
       "<p>74 rows × 10 columns</p>\n",
       "</div>"
      ],
      "text/plain": [
       "      bucket                  time      accessw_ip      full_action  \\\n",
       "0   aii-data  02/Oct/2020:01:05:31  34.201.103.201  REST.GET.OBJECT   \n",
       "1   aii-data  02/Oct/2020:01:05:32  34.201.103.201  REST.GET.OBJECT   \n",
       "2   aii-data  02/Oct/2020:01:05:33  34.201.103.201  REST.GET.OBJECT   \n",
       "3   aii-data  02/Oct/2020:01:05:33  34.201.103.201  REST.GET.OBJECT   \n",
       "4   aii-data  02/Oct/2020:01:05:34  34.201.103.201  REST.GET.OBJECT   \n",
       "..       ...                   ...             ...              ...   \n",
       "69  aii-data  02/Oct/2020:01:57:42   100.24.121.22  REST.GET.OBJECT   \n",
       "70  aii-data  02/Oct/2020:01:57:42   100.24.121.22  REST.GET.OBJECT   \n",
       "71  aii-data  02/Oct/2020:01:57:43   100.24.121.22  REST.GET.OBJECT   \n",
       "72  aii-data  02/Oct/2020:01:57:44   100.24.121.22  REST.GET.OBJECT   \n",
       "73  aii-data  02/Oct/2020:01:57:45   100.24.121.22  REST.GET.OBJECT   \n",
       "\n",
       "                                                  key basic_action  \\\n",
       "0   v1/dev/terrestrial/L0/RuralMichigan/20200928/2...         \"GET   \n",
       "1   v1/dev/terrestrial/L0/RuralMichigan/20200928/2...         \"GET   \n",
       "2   v1/dev/terrestrial/L0/RuralMichigan/20200928/2...         \"GET   \n",
       "3   v1/dev/terrestrial/L0/RuralMichigan/20200928/2...         \"GET   \n",
       "4   v1/dev/terrestrial/L0/RuralMichigan/20200928/2...         \"GET   \n",
       "..                                                ...          ...   \n",
       "69  v1/dev/terrestrial/L0/RuralMichigan/20200928/2...         \"GET   \n",
       "70  v1/dev/terrestrial/L0/RuralMichigan/20200928/2...         \"GET   \n",
       "71  v1/dev/terrestrial/L0/RuralMichigan/20200928/2...         \"GET   \n",
       "72  v1/dev/terrestrial/L0/RuralMichigan/20200928/2...         \"GET   \n",
       "73  v1/dev/terrestrial/L0/RuralMichigan/20200928/2...         \"GET   \n",
       "\n",
       "          size                                    software_method  \\\n",
       "0   3103784960  \"Boto3/1.15.10|Python/3.7.9|Linux/4.14.193-149...   \n",
       "1   3103784960  \"Boto3/1.15.10|Python/3.7.9|Linux/4.14.193-149...   \n",
       "2   3103784960  \"Boto3/1.15.10|Python/3.7.9|Linux/4.14.193-149...   \n",
       "3   3103784960  \"Boto3/1.15.10|Python/3.7.9|Linux/4.14.193-149...   \n",
       "4   3103784960  \"Boto3/1.15.10|Python/3.7.9|Linux/4.14.193-149...   \n",
       "..         ...                                                ...   \n",
       "69  3103784960  \"Boto3/1.15.10|Python/3.7.9|Linux/4.14.193-149...   \n",
       "70  3103784960  \"Boto3/1.15.10|Python/3.7.9|Linux/4.14.193-149...   \n",
       "71  3103784960  \"Boto3/1.15.10|Python/3.7.9|Linux/4.14.193-149...   \n",
       "72  3103784960  \"Boto3/1.15.10|Python/3.7.9|Linux/4.14.193-149...   \n",
       "73  3103784960  \"Boto3/1.15.10|Python/3.7.9|Linux/4.14.193-149...   \n",
       "\n",
       "                                          file  \\\n",
       "0   iq_out_RX2_31898A7_0_1601301618.sigmf-data   \n",
       "1   iq_out_RX2_31898A7_0_1601301618.sigmf-data   \n",
       "2   iq_out_RX2_31898A7_0_1601301618.sigmf-data   \n",
       "3   iq_out_RX2_31898A7_0_1601301618.sigmf-data   \n",
       "4   iq_out_RX2_31898A7_0_1601301618.sigmf-data   \n",
       "..                                         ...   \n",
       "69  iq_out_RX2_31898A7_0_1601405000.sigmf-data   \n",
       "70  iq_out_RX2_31898A7_0_1601405000.sigmf-data   \n",
       "71  iq_out_RX2_31898A7_0_1601405000.sigmf-data   \n",
       "72  iq_out_RX2_31898A7_0_1601405000.sigmf-data   \n",
       "73  iq_out_RX2_31898A7_0_1601405000.sigmf-data   \n",
       "\n",
       "                                               prefix  \n",
       "0   v1/dev/terrestrial/L0/RuralMichigan/20200928/2...  \n",
       "1   v1/dev/terrestrial/L0/RuralMichigan/20200928/2...  \n",
       "2   v1/dev/terrestrial/L0/RuralMichigan/20200928/2...  \n",
       "3   v1/dev/terrestrial/L0/RuralMichigan/20200928/2...  \n",
       "4   v1/dev/terrestrial/L0/RuralMichigan/20200928/2...  \n",
       "..                                                ...  \n",
       "69  v1/dev/terrestrial/L0/RuralMichigan/20200928/2...  \n",
       "70  v1/dev/terrestrial/L0/RuralMichigan/20200928/2...  \n",
       "71  v1/dev/terrestrial/L0/RuralMichigan/20200928/2...  \n",
       "72  v1/dev/terrestrial/L0/RuralMichigan/20200928/2...  \n",
       "73  v1/dev/terrestrial/L0/RuralMichigan/20200928/2...  \n",
       "\n",
       "[74 rows x 10 columns]"
      ]
     },
     "execution_count": 21,
     "metadata": {},
     "output_type": "execute_result"
    }
   ],
   "source": [
    "df_content"
   ]
  },
  {
   "cell_type": "code",
   "execution_count": null,
   "metadata": {},
   "outputs": [],
   "source": []
  },
  {
   "cell_type": "code",
   "execution_count": null,
   "metadata": {},
   "outputs": [],
   "source": []
  },
  {
   "cell_type": "code",
   "execution_count": null,
   "metadata": {},
   "outputs": [],
   "source": []
  }
 ],
 "metadata": {
  "kernelspec": {
   "display_name": "Python 3",
   "language": "python",
   "name": "python3"
  },
  "language_info": {
   "codemirror_mode": {
    "name": "ipython",
    "version": 3
   },
   "file_extension": ".py",
   "mimetype": "text/x-python",
   "name": "python",
   "nbconvert_exporter": "python",
   "pygments_lexer": "ipython3",
   "version": "3.8.5"
  }
 },
 "nbformat": 4,
 "nbformat_minor": 4
}
