{
 "cells": [
  {
   "cell_type": "code",
   "execution_count": 1,
   "metadata": {},
   "outputs": [],
   "source": [
    "#\n",
    "#s3 Glacier Functions\n",
    "#1. get_file_info\n",
    "#  \n",
    "#\n"
   ]
  },
  {
   "cell_type": "code",
   "execution_count": 2,
   "metadata": {},
   "outputs": [],
   "source": [
    "import boto3\n",
    "import os\n",
    "import subprocess"
   ]
  },
  {
   "cell_type": "code",
   "execution_count": 3,
   "metadata": {},
   "outputs": [],
   "source": [
    "\n",
    "\n",
    "s3 = boto3.resource('s3')\n",
    "s3_client = boto3.client('s3')\n",
    "\n"
   ]
  },
  {
   "cell_type": "code",
   "execution_count": 4,
   "metadata": {},
   "outputs": [],
   "source": [
    "bucket_list =  [bucket.name for bucket in s3.buckets.all()]\n"
   ]
  },
  {
   "cell_type": "code",
   "execution_count": 5,
   "metadata": {},
   "outputs": [],
   "source": [
    "#test_bucket = 'aii-datapipeline'\n",
    "#test_prefix = 'test-data/s3-functions/'\n",
    "test_bucket = 'aii-archive'\n",
    "test_prefix = ''"
   ]
  },
  {
   "cell_type": "code",
   "execution_count": 6,
   "metadata": {},
   "outputs": [],
   "source": [
    "s3_objects = {}"
   ]
  },
  {
   "cell_type": "code",
   "execution_count": 7,
   "metadata": {},
   "outputs": [],
   "source": [
    "object_data = {\n",
    "    \n",
    "    \n",
    "}"
   ]
  },
  {
   "cell_type": "code",
   "execution_count": 8,
   "metadata": {},
   "outputs": [],
   "source": [
    "def get_objects_matching_prefix(bucket, prefix):    \n",
    "    s3_client = boto3.client(\"s3\")\n",
    "    s3_bucket = s3.Bucket(bucket)\n",
    "\n",
    "    print(s3_bucket)\n",
    "    for obj in s3_bucket.objects.filter(Prefix=prefix):\n",
    "        print(obj)\n",
    "        yield(obj)"
   ]
  },
  {
   "cell_type": "code",
   "execution_count": 9,
   "metadata": {},
   "outputs": [],
   "source": [
    "test_file_keys = get_objects_matching_prefix(test_bucket,test_prefix)"
   ]
  },
  {
   "cell_type": "code",
   "execution_count": 10,
   "metadata": {},
   "outputs": [],
   "source": [
    "count = 0\n",
    "limit = 100\n"
   ]
  },
  {
   "cell_type": "code",
   "execution_count": 11,
   "metadata": {},
   "outputs": [
    {
     "name": "stdout",
     "output_type": "stream",
     "text": [
      "s3.Bucket(name='aii-archive')\n",
      "s3.ObjectSummary(bucket_name='aii-archive', key='SpectrumSight/ARL-ALL_ss_20200601.xlsx.sb-ba4aa63b-VJ24aL/Icon\\r')\n",
      "s3.ObjectSummary(bucket_name='aii-archive', key='SpectrumSight/ARL-ALL_ss_20200601.xlsx.sb-ba4aa63b-VJ24aL/Icon\\r')\n",
      "s3.ObjectSummary(bucket_name='aii-archive', key='SpectrumSight/ARL-ALL_ss_20200602.xlsx.sb-ba4aa63b-X2pPSU/Icon\\r')\n",
      "s3.ObjectSummary(bucket_name='aii-archive', key='SpectrumSight/ARL-ALL_ss_20200602.xlsx.sb-ba4aa63b-X2pPSU/Icon\\r')\n",
      "s3.ObjectSummary(bucket_name='aii-archive', key='SpectrumSight/Arlington/')\n",
      "s3.ObjectSummary(bucket_name='aii-archive', key='SpectrumSight/Arlington/')\n",
      "s3.ObjectSummary(bucket_name='aii-archive', key='SpectrumSight/Arlington/ARL-ALL_ss_0403-04192020.xlsx')\n",
      "s3.ObjectSummary(bucket_name='aii-archive', key='SpectrumSight/Arlington/ARL-ALL_ss_0403-04192020.xlsx')\n",
      "s3.ObjectSummary(bucket_name='aii-archive', key='SpectrumSight/Arlington/ARL-ALL_ss_04202020.csv')\n",
      "s3.ObjectSummary(bucket_name='aii-archive', key='SpectrumSight/Arlington/ARL-ALL_ss_04202020.csv')\n",
      "s3.ObjectSummary(bucket_name='aii-archive', key='SpectrumSight/Arlington/ARL-ALL_ss_04202020.xlsx')\n",
      "s3.ObjectSummary(bucket_name='aii-archive', key='SpectrumSight/Arlington/ARL-ALL_ss_04202020.xlsx')\n",
      "s3.ObjectSummary(bucket_name='aii-archive', key='SpectrumSight/Arlington/ARL-ALL_ss_04212020.csv')\n",
      "s3.ObjectSummary(bucket_name='aii-archive', key='SpectrumSight/Arlington/ARL-ALL_ss_04212020.csv')\n",
      "s3.ObjectSummary(bucket_name='aii-archive', key='SpectrumSight/Arlington/ARL-ALL_ss_04212020.xlsx')\n",
      "s3.ObjectSummary(bucket_name='aii-archive', key='SpectrumSight/Arlington/ARL-ALL_ss_04212020.xlsx')\n",
      "s3.ObjectSummary(bucket_name='aii-archive', key='SpectrumSight/Arlington/ARL-ALL_ss_04222020.csv')\n",
      "s3.ObjectSummary(bucket_name='aii-archive', key='SpectrumSight/Arlington/ARL-ALL_ss_04222020.csv')\n",
      "s3.ObjectSummary(bucket_name='aii-archive', key='SpectrumSight/Arlington/ARL-ALL_ss_04222020.xlsx')\n",
      "s3.ObjectSummary(bucket_name='aii-archive', key='SpectrumSight/Arlington/ARL-ALL_ss_04222020.xlsx')\n",
      "s3.ObjectSummary(bucket_name='aii-archive', key='SpectrumSight/Arlington/ARL-ALL_ss_04222020_pare.csv')\n",
      "s3.ObjectSummary(bucket_name='aii-archive', key='SpectrumSight/Arlington/ARL-ALL_ss_04222020_pare.csv')\n",
      "s3.ObjectSummary(bucket_name='aii-archive', key='SpectrumSight/Arlington/ARL-ALL_ss_04232020.csv')\n",
      "s3.ObjectSummary(bucket_name='aii-archive', key='SpectrumSight/Arlington/ARL-ALL_ss_04232020.csv')\n",
      "s3.ObjectSummary(bucket_name='aii-archive', key='SpectrumSight/Arlington/ARL-ALL_ss_04232020.xlsx')\n",
      "s3.ObjectSummary(bucket_name='aii-archive', key='SpectrumSight/Arlington/ARL-ALL_ss_04232020.xlsx')\n",
      "s3.ObjectSummary(bucket_name='aii-archive', key='SpectrumSight/Arlington/ARL-ALL_ss_04232020_pare.csv')\n",
      "s3.ObjectSummary(bucket_name='aii-archive', key='SpectrumSight/Arlington/ARL-ALL_ss_04232020_pare.csv')\n",
      "s3.ObjectSummary(bucket_name='aii-archive', key='SpectrumSight/Arlington/ARL-ALL_ss_04242020.csv')\n",
      "s3.ObjectSummary(bucket_name='aii-archive', key='SpectrumSight/Arlington/ARL-ALL_ss_04242020.csv')\n",
      "s3.ObjectSummary(bucket_name='aii-archive', key='SpectrumSight/Arlington/ARL-ALL_ss_04242020.xlsx')\n",
      "s3.ObjectSummary(bucket_name='aii-archive', key='SpectrumSight/Arlington/ARL-ALL_ss_04242020.xlsx')\n",
      "s3.ObjectSummary(bucket_name='aii-archive', key='SpectrumSight/Arlington/ARL-ALL_ss_04242020_pare.csv')\n",
      "s3.ObjectSummary(bucket_name='aii-archive', key='SpectrumSight/Arlington/ARL-ALL_ss_04242020_pare.csv')\n",
      "s3.ObjectSummary(bucket_name='aii-archive', key='SpectrumSight/Arlington/ARL-ALL_ss_04252020.csv')\n",
      "s3.ObjectSummary(bucket_name='aii-archive', key='SpectrumSight/Arlington/ARL-ALL_ss_04252020.csv')\n",
      "s3.ObjectSummary(bucket_name='aii-archive', key='SpectrumSight/Arlington/ARL-ALL_ss_04252020.xlsx')\n",
      "s3.ObjectSummary(bucket_name='aii-archive', key='SpectrumSight/Arlington/ARL-ALL_ss_04252020.xlsx')\n",
      "s3.ObjectSummary(bucket_name='aii-archive', key='SpectrumSight/Arlington/ARL-ALL_ss_04252020_pare.csv')\n",
      "s3.ObjectSummary(bucket_name='aii-archive', key='SpectrumSight/Arlington/ARL-ALL_ss_04252020_pare.csv')\n",
      "s3.ObjectSummary(bucket_name='aii-archive', key='SpectrumSight/Arlington/ARL-ALL_ss_04262020.csv')\n",
      "s3.ObjectSummary(bucket_name='aii-archive', key='SpectrumSight/Arlington/ARL-ALL_ss_04262020.csv')\n",
      "s3.ObjectSummary(bucket_name='aii-archive', key='SpectrumSight/Arlington/ARL-ALL_ss_04262020.xlsx')\n",
      "s3.ObjectSummary(bucket_name='aii-archive', key='SpectrumSight/Arlington/ARL-ALL_ss_04262020.xlsx')\n",
      "s3.ObjectSummary(bucket_name='aii-archive', key='SpectrumSight/Arlington/ARL-ALL_ss_04262020_pare.csv')\n",
      "s3.ObjectSummary(bucket_name='aii-archive', key='SpectrumSight/Arlington/ARL-ALL_ss_04262020_pare.csv')\n",
      "s3.ObjectSummary(bucket_name='aii-archive', key='SpectrumSight/Arlington/ARL-ALL_ss_04272020.csv')\n",
      "s3.ObjectSummary(bucket_name='aii-archive', key='SpectrumSight/Arlington/ARL-ALL_ss_04272020.csv')\n",
      "s3.ObjectSummary(bucket_name='aii-archive', key='SpectrumSight/Arlington/ARL-ALL_ss_04272020.xlsx')\n",
      "s3.ObjectSummary(bucket_name='aii-archive', key='SpectrumSight/Arlington/ARL-ALL_ss_04272020.xlsx')\n",
      "s3.ObjectSummary(bucket_name='aii-archive', key='SpectrumSight/Arlington/ARL-ALL_ss_04272020_pare.csv')\n",
      "s3.ObjectSummary(bucket_name='aii-archive', key='SpectrumSight/Arlington/ARL-ALL_ss_04272020_pare.csv')\n",
      "s3.ObjectSummary(bucket_name='aii-archive', key='SpectrumSight/Arlington/ARL-ALL_ss_04282020.csv')\n",
      "s3.ObjectSummary(bucket_name='aii-archive', key='SpectrumSight/Arlington/ARL-ALL_ss_04282020.csv')\n",
      "s3.ObjectSummary(bucket_name='aii-archive', key='SpectrumSight/Arlington/ARL-ALL_ss_04282020.xlsx')\n",
      "s3.ObjectSummary(bucket_name='aii-archive', key='SpectrumSight/Arlington/ARL-ALL_ss_04282020.xlsx')\n",
      "s3.ObjectSummary(bucket_name='aii-archive', key='SpectrumSight/Arlington/ARL-ALL_ss_04282020_pare.csv')\n",
      "s3.ObjectSummary(bucket_name='aii-archive', key='SpectrumSight/Arlington/ARL-ALL_ss_04282020_pare.csv')\n",
      "s3.ObjectSummary(bucket_name='aii-archive', key='SpectrumSight/Arlington/ARL-ALL_ss_04292020.csv')\n",
      "s3.ObjectSummary(bucket_name='aii-archive', key='SpectrumSight/Arlington/ARL-ALL_ss_04292020.csv')\n",
      "s3.ObjectSummary(bucket_name='aii-archive', key='SpectrumSight/Arlington/ARL-ALL_ss_04292020.xlsx')\n",
      "s3.ObjectSummary(bucket_name='aii-archive', key='SpectrumSight/Arlington/ARL-ALL_ss_04292020.xlsx')\n",
      "s3.ObjectSummary(bucket_name='aii-archive', key='SpectrumSight/Arlington/ARL-ALL_ss_04292020_pare.xlsx')\n",
      "s3.ObjectSummary(bucket_name='aii-archive', key='SpectrumSight/Arlington/ARL-ALL_ss_04292020_pare.xlsx')\n",
      "s3.ObjectSummary(bucket_name='aii-archive', key='SpectrumSight/Arlington/ARL-ALL_ss_04302020.csv')\n",
      "s3.ObjectSummary(bucket_name='aii-archive', key='SpectrumSight/Arlington/ARL-ALL_ss_04302020.csv')\n",
      "s3.ObjectSummary(bucket_name='aii-archive', key='SpectrumSight/Arlington/ARL-ALL_ss_04302020.xlsx')\n",
      "s3.ObjectSummary(bucket_name='aii-archive', key='SpectrumSight/Arlington/ARL-ALL_ss_04302020.xlsx')\n",
      "s3.ObjectSummary(bucket_name='aii-archive', key='SpectrumSight/Arlington/ARL-ALL_ss_04302020_pare.csv')\n",
      "s3.ObjectSummary(bucket_name='aii-archive', key='SpectrumSight/Arlington/ARL-ALL_ss_04302020_pare.csv')\n",
      "s3.ObjectSummary(bucket_name='aii-archive', key='SpectrumSight/Arlington/ARL-ALL_ss_05012020.csv')\n",
      "s3.ObjectSummary(bucket_name='aii-archive', key='SpectrumSight/Arlington/ARL-ALL_ss_05012020.csv')\n",
      "s3.ObjectSummary(bucket_name='aii-archive', key='SpectrumSight/Arlington/ARL-ALL_ss_05012020.xlsx')\n",
      "s3.ObjectSummary(bucket_name='aii-archive', key='SpectrumSight/Arlington/ARL-ALL_ss_05012020.xlsx')\n",
      "s3.ObjectSummary(bucket_name='aii-archive', key='SpectrumSight/Arlington/ARL-ALL_ss_05012020_pare.csv')\n",
      "s3.ObjectSummary(bucket_name='aii-archive', key='SpectrumSight/Arlington/ARL-ALL_ss_05012020_pare.csv')\n",
      "s3.ObjectSummary(bucket_name='aii-archive', key='SpectrumSight/Arlington/ARL-ALL_ss_05022020.csv')\n",
      "s3.ObjectSummary(bucket_name='aii-archive', key='SpectrumSight/Arlington/ARL-ALL_ss_05022020.csv')\n",
      "s3.ObjectSummary(bucket_name='aii-archive', key='SpectrumSight/Arlington/ARL-ALL_ss_05022020.xlsx')\n",
      "s3.ObjectSummary(bucket_name='aii-archive', key='SpectrumSight/Arlington/ARL-ALL_ss_05022020.xlsx')\n",
      "s3.ObjectSummary(bucket_name='aii-archive', key='SpectrumSight/Arlington/ARL-ALL_ss_05022020_pare.csv')\n",
      "s3.ObjectSummary(bucket_name='aii-archive', key='SpectrumSight/Arlington/ARL-ALL_ss_05022020_pare.csv')\n",
      "s3.ObjectSummary(bucket_name='aii-archive', key='SpectrumSight/Arlington/ARL-ALL_ss_05032020.csv')\n",
      "s3.ObjectSummary(bucket_name='aii-archive', key='SpectrumSight/Arlington/ARL-ALL_ss_05032020.csv')\n",
      "s3.ObjectSummary(bucket_name='aii-archive', key='SpectrumSight/Arlington/ARL-ALL_ss_05032020.xlsx')\n",
      "s3.ObjectSummary(bucket_name='aii-archive', key='SpectrumSight/Arlington/ARL-ALL_ss_05032020.xlsx')\n",
      "s3.ObjectSummary(bucket_name='aii-archive', key='SpectrumSight/Arlington/ARL-ALL_ss_05032020_pare.csv')\n",
      "s3.ObjectSummary(bucket_name='aii-archive', key='SpectrumSight/Arlington/ARL-ALL_ss_05032020_pare.csv')\n",
      "s3.ObjectSummary(bucket_name='aii-archive', key='SpectrumSight/Arlington/ARL-ALL_ss_05042020.csv')\n",
      "s3.ObjectSummary(bucket_name='aii-archive', key='SpectrumSight/Arlington/ARL-ALL_ss_05042020.csv')\n",
      "s3.ObjectSummary(bucket_name='aii-archive', key='SpectrumSight/Arlington/ARL-ALL_ss_05042020.xlsx')\n",
      "s3.ObjectSummary(bucket_name='aii-archive', key='SpectrumSight/Arlington/ARL-ALL_ss_05042020.xlsx')\n",
      "s3.ObjectSummary(bucket_name='aii-archive', key='SpectrumSight/Arlington/ARL-ALL_ss_05042020_pare.csv')\n",
      "s3.ObjectSummary(bucket_name='aii-archive', key='SpectrumSight/Arlington/ARL-ALL_ss_05042020_pare.csv')\n",
      "s3.ObjectSummary(bucket_name='aii-archive', key='SpectrumSight/Arlington/ARL-ALL_ss_05052020.csv')\n",
      "s3.ObjectSummary(bucket_name='aii-archive', key='SpectrumSight/Arlington/ARL-ALL_ss_05052020.csv')\n",
      "s3.ObjectSummary(bucket_name='aii-archive', key='SpectrumSight/Arlington/ARL-ALL_ss_05052020.xlsx')\n",
      "s3.ObjectSummary(bucket_name='aii-archive', key='SpectrumSight/Arlington/ARL-ALL_ss_05052020.xlsx')\n",
      "s3.ObjectSummary(bucket_name='aii-archive', key='SpectrumSight/Arlington/ARL-ALL_ss_05052020_pare.csv')\n",
      "s3.ObjectSummary(bucket_name='aii-archive', key='SpectrumSight/Arlington/ARL-ALL_ss_05052020_pare.csv')\n",
      "s3.ObjectSummary(bucket_name='aii-archive', key='SpectrumSight/Arlington/ARL-ALL_ss_05062020.csv')\n",
      "s3.ObjectSummary(bucket_name='aii-archive', key='SpectrumSight/Arlington/ARL-ALL_ss_05062020.csv')\n",
      "s3.ObjectSummary(bucket_name='aii-archive', key='SpectrumSight/Arlington/ARL-ALL_ss_05062020.xlsx')\n",
      "s3.ObjectSummary(bucket_name='aii-archive', key='SpectrumSight/Arlington/ARL-ALL_ss_05062020.xlsx')\n",
      "s3.ObjectSummary(bucket_name='aii-archive', key='SpectrumSight/Arlington/ARL-ALL_ss_05062020_pare.csv')\n",
      "s3.ObjectSummary(bucket_name='aii-archive', key='SpectrumSight/Arlington/ARL-ALL_ss_05062020_pare.csv')\n",
      "s3.ObjectSummary(bucket_name='aii-archive', key='SpectrumSight/Arlington/ARL-ALL_ss_05072020.csv')\n",
      "s3.ObjectSummary(bucket_name='aii-archive', key='SpectrumSight/Arlington/ARL-ALL_ss_05072020.csv')\n",
      "s3.ObjectSummary(bucket_name='aii-archive', key='SpectrumSight/Arlington/ARL-ALL_ss_05072020.xlsx')\n",
      "s3.ObjectSummary(bucket_name='aii-archive', key='SpectrumSight/Arlington/ARL-ALL_ss_05072020.xlsx')\n",
      "s3.ObjectSummary(bucket_name='aii-archive', key='SpectrumSight/Arlington/ARL-ALL_ss_05072020_pare.csv')\n",
      "s3.ObjectSummary(bucket_name='aii-archive', key='SpectrumSight/Arlington/ARL-ALL_ss_05072020_pare.csv')\n",
      "s3.ObjectSummary(bucket_name='aii-archive', key='SpectrumSight/Arlington/ARL-ALL_ss_05082020.csv')\n",
      "s3.ObjectSummary(bucket_name='aii-archive', key='SpectrumSight/Arlington/ARL-ALL_ss_05082020.csv')\n",
      "s3.ObjectSummary(bucket_name='aii-archive', key='SpectrumSight/Arlington/ARL-ALL_ss_05082020.xlsx')\n",
      "s3.ObjectSummary(bucket_name='aii-archive', key='SpectrumSight/Arlington/ARL-ALL_ss_05082020.xlsx')\n",
      "s3.ObjectSummary(bucket_name='aii-archive', key='SpectrumSight/Arlington/ARL-ALL_ss_05082020_pare.csv')\n",
      "s3.ObjectSummary(bucket_name='aii-archive', key='SpectrumSight/Arlington/ARL-ALL_ss_05082020_pare.csv')\n",
      "s3.ObjectSummary(bucket_name='aii-archive', key='SpectrumSight/Arlington/ARL-ALL_ss_05092020.csv')\n",
      "s3.ObjectSummary(bucket_name='aii-archive', key='SpectrumSight/Arlington/ARL-ALL_ss_05092020.csv')\n",
      "s3.ObjectSummary(bucket_name='aii-archive', key='SpectrumSight/Arlington/ARL-ALL_ss_05092020.xlsx')\n",
      "s3.ObjectSummary(bucket_name='aii-archive', key='SpectrumSight/Arlington/ARL-ALL_ss_05092020.xlsx')\n",
      "s3.ObjectSummary(bucket_name='aii-archive', key='SpectrumSight/Arlington/ARL-ALL_ss_05092020_pare.csv')\n",
      "s3.ObjectSummary(bucket_name='aii-archive', key='SpectrumSight/Arlington/ARL-ALL_ss_05092020_pare.csv')\n",
      "s3.ObjectSummary(bucket_name='aii-archive', key='SpectrumSight/Arlington/ARL-ALL_ss_05102020.csv')\n",
      "s3.ObjectSummary(bucket_name='aii-archive', key='SpectrumSight/Arlington/ARL-ALL_ss_05102020.csv')\n",
      "s3.ObjectSummary(bucket_name='aii-archive', key='SpectrumSight/Arlington/ARL-ALL_ss_05102020.xlsx')\n",
      "s3.ObjectSummary(bucket_name='aii-archive', key='SpectrumSight/Arlington/ARL-ALL_ss_05102020.xlsx')\n",
      "s3.ObjectSummary(bucket_name='aii-archive', key='SpectrumSight/Arlington/ARL-ALL_ss_05102020_pare.csv')\n",
      "s3.ObjectSummary(bucket_name='aii-archive', key='SpectrumSight/Arlington/ARL-ALL_ss_05102020_pare.csv')\n",
      "s3.ObjectSummary(bucket_name='aii-archive', key='SpectrumSight/Arlington/ARL-ALL_ss_05112020.csv')\n",
      "s3.ObjectSummary(bucket_name='aii-archive', key='SpectrumSight/Arlington/ARL-ALL_ss_05112020.csv')\n",
      "s3.ObjectSummary(bucket_name='aii-archive', key='SpectrumSight/Arlington/ARL-ALL_ss_05112020.xlsx')\n",
      "s3.ObjectSummary(bucket_name='aii-archive', key='SpectrumSight/Arlington/ARL-ALL_ss_05112020.xlsx')\n",
      "s3.ObjectSummary(bucket_name='aii-archive', key='SpectrumSight/Arlington/ARL-ALL_ss_05112020_pare.csv')\n",
      "s3.ObjectSummary(bucket_name='aii-archive', key='SpectrumSight/Arlington/ARL-ALL_ss_05112020_pare.csv')\n",
      "s3.ObjectSummary(bucket_name='aii-archive', key='SpectrumSight/Arlington/ARL-ALL_ss_05122020.csv')\n",
      "s3.ObjectSummary(bucket_name='aii-archive', key='SpectrumSight/Arlington/ARL-ALL_ss_05122020.csv')\n",
      "s3.ObjectSummary(bucket_name='aii-archive', key='SpectrumSight/Arlington/ARL-ALL_ss_05122020.xlsx')\n",
      "s3.ObjectSummary(bucket_name='aii-archive', key='SpectrumSight/Arlington/ARL-ALL_ss_05122020.xlsx')\n",
      "s3.ObjectSummary(bucket_name='aii-archive', key='SpectrumSight/Arlington/ARL-ALL_ss_05122020_pare.csv')\n",
      "s3.ObjectSummary(bucket_name='aii-archive', key='SpectrumSight/Arlington/ARL-ALL_ss_05122020_pare.csv')\n",
      "s3.ObjectSummary(bucket_name='aii-archive', key='SpectrumSight/Arlington/ARL-ALL_ss_05132020.csv')\n",
      "s3.ObjectSummary(bucket_name='aii-archive', key='SpectrumSight/Arlington/ARL-ALL_ss_05132020.csv')\n",
      "s3.ObjectSummary(bucket_name='aii-archive', key='SpectrumSight/Arlington/ARL-ALL_ss_05132020.xlsx')\n",
      "s3.ObjectSummary(bucket_name='aii-archive', key='SpectrumSight/Arlington/ARL-ALL_ss_05132020.xlsx')\n",
      "s3.ObjectSummary(bucket_name='aii-archive', key='SpectrumSight/Arlington/ARL-ALL_ss_05132020_pare.csv')\n",
      "s3.ObjectSummary(bucket_name='aii-archive', key='SpectrumSight/Arlington/ARL-ALL_ss_05132020_pare.csv')\n",
      "s3.ObjectSummary(bucket_name='aii-archive', key='SpectrumSight/Arlington/ARL-ALL_ss_05142020.csv')\n",
      "s3.ObjectSummary(bucket_name='aii-archive', key='SpectrumSight/Arlington/ARL-ALL_ss_05142020.csv')\n",
      "s3.ObjectSummary(bucket_name='aii-archive', key='SpectrumSight/Arlington/ARL-ALL_ss_05142020.xlsx')\n",
      "s3.ObjectSummary(bucket_name='aii-archive', key='SpectrumSight/Arlington/ARL-ALL_ss_05142020.xlsx')\n",
      "s3.ObjectSummary(bucket_name='aii-archive', key='SpectrumSight/Arlington/ARL-ALL_ss_05142020_pare.csv')\n",
      "s3.ObjectSummary(bucket_name='aii-archive', key='SpectrumSight/Arlington/ARL-ALL_ss_05142020_pare.csv')\n",
      "s3.ObjectSummary(bucket_name='aii-archive', key='SpectrumSight/Arlington/ARL-ALL_ss_05152020.csv')\n",
      "s3.ObjectSummary(bucket_name='aii-archive', key='SpectrumSight/Arlington/ARL-ALL_ss_05152020.csv')\n",
      "s3.ObjectSummary(bucket_name='aii-archive', key='SpectrumSight/Arlington/ARL-ALL_ss_05152020.xlsx')\n",
      "s3.ObjectSummary(bucket_name='aii-archive', key='SpectrumSight/Arlington/ARL-ALL_ss_05152020.xlsx')\n",
      "s3.ObjectSummary(bucket_name='aii-archive', key='SpectrumSight/Arlington/ARL-ALL_ss_05152020_pare.csv')\n",
      "s3.ObjectSummary(bucket_name='aii-archive', key='SpectrumSight/Arlington/ARL-ALL_ss_05152020_pare.csv')\n",
      "s3.ObjectSummary(bucket_name='aii-archive', key='SpectrumSight/Arlington/ARL-ALL_ss_05162020.csv')\n",
      "s3.ObjectSummary(bucket_name='aii-archive', key='SpectrumSight/Arlington/ARL-ALL_ss_05162020.csv')\n",
      "s3.ObjectSummary(bucket_name='aii-archive', key='SpectrumSight/Arlington/ARL-ALL_ss_05162020.xlsx')\n",
      "s3.ObjectSummary(bucket_name='aii-archive', key='SpectrumSight/Arlington/ARL-ALL_ss_05162020.xlsx')\n",
      "s3.ObjectSummary(bucket_name='aii-archive', key='SpectrumSight/Arlington/ARL-ALL_ss_05162020_pare.csv')\n",
      "s3.ObjectSummary(bucket_name='aii-archive', key='SpectrumSight/Arlington/ARL-ALL_ss_05162020_pare.csv')\n",
      "s3.ObjectSummary(bucket_name='aii-archive', key='SpectrumSight/Arlington/ARL-ALL_ss_05172020.csv')\n",
      "s3.ObjectSummary(bucket_name='aii-archive', key='SpectrumSight/Arlington/ARL-ALL_ss_05172020.csv')\n",
      "s3.ObjectSummary(bucket_name='aii-archive', key='SpectrumSight/Arlington/ARL-ALL_ss_05172020.xlsx')\n",
      "s3.ObjectSummary(bucket_name='aii-archive', key='SpectrumSight/Arlington/ARL-ALL_ss_05172020.xlsx')\n",
      "s3.ObjectSummary(bucket_name='aii-archive', key='SpectrumSight/Arlington/ARL-ALL_ss_05172020_pare.csv')\n",
      "s3.ObjectSummary(bucket_name='aii-archive', key='SpectrumSight/Arlington/ARL-ALL_ss_05172020_pare.csv')\n",
      "s3.ObjectSummary(bucket_name='aii-archive', key='SpectrumSight/Arlington/ARL-ALL_ss_05182020.csv')\n",
      "s3.ObjectSummary(bucket_name='aii-archive', key='SpectrumSight/Arlington/ARL-ALL_ss_05182020.csv')\n",
      "s3.ObjectSummary(bucket_name='aii-archive', key='SpectrumSight/Arlington/ARL-ALL_ss_05182020.xlsx')\n",
      "s3.ObjectSummary(bucket_name='aii-archive', key='SpectrumSight/Arlington/ARL-ALL_ss_05182020.xlsx')\n",
      "s3.ObjectSummary(bucket_name='aii-archive', key='SpectrumSight/Arlington/ARL-ALL_ss_05182020_pare.csv')\n",
      "s3.ObjectSummary(bucket_name='aii-archive', key='SpectrumSight/Arlington/ARL-ALL_ss_05182020_pare.csv')\n",
      "s3.ObjectSummary(bucket_name='aii-archive', key='SpectrumSight/Arlington/ARL-ALL_ss_05192020.csv')\n",
      "s3.ObjectSummary(bucket_name='aii-archive', key='SpectrumSight/Arlington/ARL-ALL_ss_05192020.csv')\n",
      "s3.ObjectSummary(bucket_name='aii-archive', key='SpectrumSight/Arlington/ARL-ALL_ss_05192020.xlsx')\n",
      "s3.ObjectSummary(bucket_name='aii-archive', key='SpectrumSight/Arlington/ARL-ALL_ss_05192020.xlsx')\n",
      "s3.ObjectSummary(bucket_name='aii-archive', key='SpectrumSight/Arlington/ARL-ALL_ss_05192020_pare.csv')\n",
      "s3.ObjectSummary(bucket_name='aii-archive', key='SpectrumSight/Arlington/ARL-ALL_ss_05192020_pare.csv')\n",
      "s3.ObjectSummary(bucket_name='aii-archive', key='SpectrumSight/Arlington/ARL-ALL_ss_05202020.csv')\n",
      "s3.ObjectSummary(bucket_name='aii-archive', key='SpectrumSight/Arlington/ARL-ALL_ss_05202020.csv')\n",
      "s3.ObjectSummary(bucket_name='aii-archive', key='SpectrumSight/Arlington/ARL-ALL_ss_05202020.xlsx')\n",
      "s3.ObjectSummary(bucket_name='aii-archive', key='SpectrumSight/Arlington/ARL-ALL_ss_05202020.xlsx')\n",
      "s3.ObjectSummary(bucket_name='aii-archive', key='SpectrumSight/Arlington/ARL-ALL_ss_05202020_pare.csv')\n",
      "s3.ObjectSummary(bucket_name='aii-archive', key='SpectrumSight/Arlington/ARL-ALL_ss_05202020_pare.csv')\n",
      "s3.ObjectSummary(bucket_name='aii-archive', key='SpectrumSight/Arlington/ARL-ALL_ss_05212020.csv')\n",
      "s3.ObjectSummary(bucket_name='aii-archive', key='SpectrumSight/Arlington/ARL-ALL_ss_05212020.csv')\n",
      "s3.ObjectSummary(bucket_name='aii-archive', key='SpectrumSight/Arlington/ARL-ALL_ss_05212020.xlsx')\n",
      "s3.ObjectSummary(bucket_name='aii-archive', key='SpectrumSight/Arlington/ARL-ALL_ss_05212020.xlsx')\n",
      "s3.ObjectSummary(bucket_name='aii-archive', key='SpectrumSight/Arlington/ARL-ALL_ss_05212020_pare.csv')\n",
      "s3.ObjectSummary(bucket_name='aii-archive', key='SpectrumSight/Arlington/ARL-ALL_ss_05212020_pare.csv')\n",
      "s3.ObjectSummary(bucket_name='aii-archive', key='SpectrumSight/Arlington/ARL-ALL_ss_05222020.csv')\n",
      "s3.ObjectSummary(bucket_name='aii-archive', key='SpectrumSight/Arlington/ARL-ALL_ss_05222020.csv')\n",
      "s3.ObjectSummary(bucket_name='aii-archive', key='SpectrumSight/Arlington/ARL-ALL_ss_05222020.xlsx')\n",
      "s3.ObjectSummary(bucket_name='aii-archive', key='SpectrumSight/Arlington/ARL-ALL_ss_05222020.xlsx')\n",
      "s3.ObjectSummary(bucket_name='aii-archive', key='SpectrumSight/Arlington/ARL-ALL_ss_05222020_pare.csv')\n",
      "s3.ObjectSummary(bucket_name='aii-archive', key='SpectrumSight/Arlington/ARL-ALL_ss_05222020_pare.csv')\n"
     ]
    }
   ],
   "source": [
    "for key in test_file_keys:\n",
    "    object_data[\"s3://\" + key.bucket_name + \"/\" + key.key] = key\n",
    "    print(key)\n",
    "    count = count + 1\n",
    "    if count > limit:\n",
    "        break\n"
   ]
  },
  {
   "cell_type": "code",
   "execution_count": 12,
   "metadata": {},
   "outputs": [],
   "source": [
    "#\n",
    "# Get storage class\n",
    "#"
   ]
  },
  {
   "cell_type": "code",
   "execution_count": 13,
   "metadata": {},
   "outputs": [
    {
     "data": {
      "text/plain": [
       "{'s3://aii-archive/SpectrumSight/ARL-ALL_ss_20200601.xlsx.sb-ba4aa63b-VJ24aL/Icon\\r': s3.ObjectSummary(bucket_name='aii-archive', key='SpectrumSight/ARL-ALL_ss_20200601.xlsx.sb-ba4aa63b-VJ24aL/Icon\\r'),\n",
       " 's3://aii-archive/SpectrumSight/ARL-ALL_ss_20200602.xlsx.sb-ba4aa63b-X2pPSU/Icon\\r': s3.ObjectSummary(bucket_name='aii-archive', key='SpectrumSight/ARL-ALL_ss_20200602.xlsx.sb-ba4aa63b-X2pPSU/Icon\\r'),\n",
       " 's3://aii-archive/SpectrumSight/Arlington/': s3.ObjectSummary(bucket_name='aii-archive', key='SpectrumSight/Arlington/'),\n",
       " 's3://aii-archive/SpectrumSight/Arlington/ARL-ALL_ss_0403-04192020.xlsx': s3.ObjectSummary(bucket_name='aii-archive', key='SpectrumSight/Arlington/ARL-ALL_ss_0403-04192020.xlsx'),\n",
       " 's3://aii-archive/SpectrumSight/Arlington/ARL-ALL_ss_04202020.csv': s3.ObjectSummary(bucket_name='aii-archive', key='SpectrumSight/Arlington/ARL-ALL_ss_04202020.csv'),\n",
       " 's3://aii-archive/SpectrumSight/Arlington/ARL-ALL_ss_04202020.xlsx': s3.ObjectSummary(bucket_name='aii-archive', key='SpectrumSight/Arlington/ARL-ALL_ss_04202020.xlsx'),\n",
       " 's3://aii-archive/SpectrumSight/Arlington/ARL-ALL_ss_04212020.csv': s3.ObjectSummary(bucket_name='aii-archive', key='SpectrumSight/Arlington/ARL-ALL_ss_04212020.csv'),\n",
       " 's3://aii-archive/SpectrumSight/Arlington/ARL-ALL_ss_04212020.xlsx': s3.ObjectSummary(bucket_name='aii-archive', key='SpectrumSight/Arlington/ARL-ALL_ss_04212020.xlsx'),\n",
       " 's3://aii-archive/SpectrumSight/Arlington/ARL-ALL_ss_04222020.csv': s3.ObjectSummary(bucket_name='aii-archive', key='SpectrumSight/Arlington/ARL-ALL_ss_04222020.csv'),\n",
       " 's3://aii-archive/SpectrumSight/Arlington/ARL-ALL_ss_04222020.xlsx': s3.ObjectSummary(bucket_name='aii-archive', key='SpectrumSight/Arlington/ARL-ALL_ss_04222020.xlsx'),\n",
       " 's3://aii-archive/SpectrumSight/Arlington/ARL-ALL_ss_04222020_pare.csv': s3.ObjectSummary(bucket_name='aii-archive', key='SpectrumSight/Arlington/ARL-ALL_ss_04222020_pare.csv'),\n",
       " 's3://aii-archive/SpectrumSight/Arlington/ARL-ALL_ss_04232020.csv': s3.ObjectSummary(bucket_name='aii-archive', key='SpectrumSight/Arlington/ARL-ALL_ss_04232020.csv'),\n",
       " 's3://aii-archive/SpectrumSight/Arlington/ARL-ALL_ss_04232020.xlsx': s3.ObjectSummary(bucket_name='aii-archive', key='SpectrumSight/Arlington/ARL-ALL_ss_04232020.xlsx'),\n",
       " 's3://aii-archive/SpectrumSight/Arlington/ARL-ALL_ss_04232020_pare.csv': s3.ObjectSummary(bucket_name='aii-archive', key='SpectrumSight/Arlington/ARL-ALL_ss_04232020_pare.csv'),\n",
       " 's3://aii-archive/SpectrumSight/Arlington/ARL-ALL_ss_04242020.csv': s3.ObjectSummary(bucket_name='aii-archive', key='SpectrumSight/Arlington/ARL-ALL_ss_04242020.csv'),\n",
       " 's3://aii-archive/SpectrumSight/Arlington/ARL-ALL_ss_04242020.xlsx': s3.ObjectSummary(bucket_name='aii-archive', key='SpectrumSight/Arlington/ARL-ALL_ss_04242020.xlsx'),\n",
       " 's3://aii-archive/SpectrumSight/Arlington/ARL-ALL_ss_04242020_pare.csv': s3.ObjectSummary(bucket_name='aii-archive', key='SpectrumSight/Arlington/ARL-ALL_ss_04242020_pare.csv'),\n",
       " 's3://aii-archive/SpectrumSight/Arlington/ARL-ALL_ss_04252020.csv': s3.ObjectSummary(bucket_name='aii-archive', key='SpectrumSight/Arlington/ARL-ALL_ss_04252020.csv'),\n",
       " 's3://aii-archive/SpectrumSight/Arlington/ARL-ALL_ss_04252020.xlsx': s3.ObjectSummary(bucket_name='aii-archive', key='SpectrumSight/Arlington/ARL-ALL_ss_04252020.xlsx'),\n",
       " 's3://aii-archive/SpectrumSight/Arlington/ARL-ALL_ss_04252020_pare.csv': s3.ObjectSummary(bucket_name='aii-archive', key='SpectrumSight/Arlington/ARL-ALL_ss_04252020_pare.csv'),\n",
       " 's3://aii-archive/SpectrumSight/Arlington/ARL-ALL_ss_04262020.csv': s3.ObjectSummary(bucket_name='aii-archive', key='SpectrumSight/Arlington/ARL-ALL_ss_04262020.csv'),\n",
       " 's3://aii-archive/SpectrumSight/Arlington/ARL-ALL_ss_04262020.xlsx': s3.ObjectSummary(bucket_name='aii-archive', key='SpectrumSight/Arlington/ARL-ALL_ss_04262020.xlsx'),\n",
       " 's3://aii-archive/SpectrumSight/Arlington/ARL-ALL_ss_04262020_pare.csv': s3.ObjectSummary(bucket_name='aii-archive', key='SpectrumSight/Arlington/ARL-ALL_ss_04262020_pare.csv'),\n",
       " 's3://aii-archive/SpectrumSight/Arlington/ARL-ALL_ss_04272020.csv': s3.ObjectSummary(bucket_name='aii-archive', key='SpectrumSight/Arlington/ARL-ALL_ss_04272020.csv'),\n",
       " 's3://aii-archive/SpectrumSight/Arlington/ARL-ALL_ss_04272020.xlsx': s3.ObjectSummary(bucket_name='aii-archive', key='SpectrumSight/Arlington/ARL-ALL_ss_04272020.xlsx'),\n",
       " 's3://aii-archive/SpectrumSight/Arlington/ARL-ALL_ss_04272020_pare.csv': s3.ObjectSummary(bucket_name='aii-archive', key='SpectrumSight/Arlington/ARL-ALL_ss_04272020_pare.csv'),\n",
       " 's3://aii-archive/SpectrumSight/Arlington/ARL-ALL_ss_04282020.csv': s3.ObjectSummary(bucket_name='aii-archive', key='SpectrumSight/Arlington/ARL-ALL_ss_04282020.csv'),\n",
       " 's3://aii-archive/SpectrumSight/Arlington/ARL-ALL_ss_04282020.xlsx': s3.ObjectSummary(bucket_name='aii-archive', key='SpectrumSight/Arlington/ARL-ALL_ss_04282020.xlsx'),\n",
       " 's3://aii-archive/SpectrumSight/Arlington/ARL-ALL_ss_04282020_pare.csv': s3.ObjectSummary(bucket_name='aii-archive', key='SpectrumSight/Arlington/ARL-ALL_ss_04282020_pare.csv'),\n",
       " 's3://aii-archive/SpectrumSight/Arlington/ARL-ALL_ss_04292020.csv': s3.ObjectSummary(bucket_name='aii-archive', key='SpectrumSight/Arlington/ARL-ALL_ss_04292020.csv'),\n",
       " 's3://aii-archive/SpectrumSight/Arlington/ARL-ALL_ss_04292020.xlsx': s3.ObjectSummary(bucket_name='aii-archive', key='SpectrumSight/Arlington/ARL-ALL_ss_04292020.xlsx'),\n",
       " 's3://aii-archive/SpectrumSight/Arlington/ARL-ALL_ss_04292020_pare.xlsx': s3.ObjectSummary(bucket_name='aii-archive', key='SpectrumSight/Arlington/ARL-ALL_ss_04292020_pare.xlsx'),\n",
       " 's3://aii-archive/SpectrumSight/Arlington/ARL-ALL_ss_04302020.csv': s3.ObjectSummary(bucket_name='aii-archive', key='SpectrumSight/Arlington/ARL-ALL_ss_04302020.csv'),\n",
       " 's3://aii-archive/SpectrumSight/Arlington/ARL-ALL_ss_04302020.xlsx': s3.ObjectSummary(bucket_name='aii-archive', key='SpectrumSight/Arlington/ARL-ALL_ss_04302020.xlsx'),\n",
       " 's3://aii-archive/SpectrumSight/Arlington/ARL-ALL_ss_04302020_pare.csv': s3.ObjectSummary(bucket_name='aii-archive', key='SpectrumSight/Arlington/ARL-ALL_ss_04302020_pare.csv'),\n",
       " 's3://aii-archive/SpectrumSight/Arlington/ARL-ALL_ss_05012020.csv': s3.ObjectSummary(bucket_name='aii-archive', key='SpectrumSight/Arlington/ARL-ALL_ss_05012020.csv'),\n",
       " 's3://aii-archive/SpectrumSight/Arlington/ARL-ALL_ss_05012020.xlsx': s3.ObjectSummary(bucket_name='aii-archive', key='SpectrumSight/Arlington/ARL-ALL_ss_05012020.xlsx'),\n",
       " 's3://aii-archive/SpectrumSight/Arlington/ARL-ALL_ss_05012020_pare.csv': s3.ObjectSummary(bucket_name='aii-archive', key='SpectrumSight/Arlington/ARL-ALL_ss_05012020_pare.csv'),\n",
       " 's3://aii-archive/SpectrumSight/Arlington/ARL-ALL_ss_05022020.csv': s3.ObjectSummary(bucket_name='aii-archive', key='SpectrumSight/Arlington/ARL-ALL_ss_05022020.csv'),\n",
       " 's3://aii-archive/SpectrumSight/Arlington/ARL-ALL_ss_05022020.xlsx': s3.ObjectSummary(bucket_name='aii-archive', key='SpectrumSight/Arlington/ARL-ALL_ss_05022020.xlsx'),\n",
       " 's3://aii-archive/SpectrumSight/Arlington/ARL-ALL_ss_05022020_pare.csv': s3.ObjectSummary(bucket_name='aii-archive', key='SpectrumSight/Arlington/ARL-ALL_ss_05022020_pare.csv'),\n",
       " 's3://aii-archive/SpectrumSight/Arlington/ARL-ALL_ss_05032020.csv': s3.ObjectSummary(bucket_name='aii-archive', key='SpectrumSight/Arlington/ARL-ALL_ss_05032020.csv'),\n",
       " 's3://aii-archive/SpectrumSight/Arlington/ARL-ALL_ss_05032020.xlsx': s3.ObjectSummary(bucket_name='aii-archive', key='SpectrumSight/Arlington/ARL-ALL_ss_05032020.xlsx'),\n",
       " 's3://aii-archive/SpectrumSight/Arlington/ARL-ALL_ss_05032020_pare.csv': s3.ObjectSummary(bucket_name='aii-archive', key='SpectrumSight/Arlington/ARL-ALL_ss_05032020_pare.csv'),\n",
       " 's3://aii-archive/SpectrumSight/Arlington/ARL-ALL_ss_05042020.csv': s3.ObjectSummary(bucket_name='aii-archive', key='SpectrumSight/Arlington/ARL-ALL_ss_05042020.csv'),\n",
       " 's3://aii-archive/SpectrumSight/Arlington/ARL-ALL_ss_05042020.xlsx': s3.ObjectSummary(bucket_name='aii-archive', key='SpectrumSight/Arlington/ARL-ALL_ss_05042020.xlsx'),\n",
       " 's3://aii-archive/SpectrumSight/Arlington/ARL-ALL_ss_05042020_pare.csv': s3.ObjectSummary(bucket_name='aii-archive', key='SpectrumSight/Arlington/ARL-ALL_ss_05042020_pare.csv'),\n",
       " 's3://aii-archive/SpectrumSight/Arlington/ARL-ALL_ss_05052020.csv': s3.ObjectSummary(bucket_name='aii-archive', key='SpectrumSight/Arlington/ARL-ALL_ss_05052020.csv'),\n",
       " 's3://aii-archive/SpectrumSight/Arlington/ARL-ALL_ss_05052020.xlsx': s3.ObjectSummary(bucket_name='aii-archive', key='SpectrumSight/Arlington/ARL-ALL_ss_05052020.xlsx'),\n",
       " 's3://aii-archive/SpectrumSight/Arlington/ARL-ALL_ss_05052020_pare.csv': s3.ObjectSummary(bucket_name='aii-archive', key='SpectrumSight/Arlington/ARL-ALL_ss_05052020_pare.csv'),\n",
       " 's3://aii-archive/SpectrumSight/Arlington/ARL-ALL_ss_05062020.csv': s3.ObjectSummary(bucket_name='aii-archive', key='SpectrumSight/Arlington/ARL-ALL_ss_05062020.csv'),\n",
       " 's3://aii-archive/SpectrumSight/Arlington/ARL-ALL_ss_05062020.xlsx': s3.ObjectSummary(bucket_name='aii-archive', key='SpectrumSight/Arlington/ARL-ALL_ss_05062020.xlsx'),\n",
       " 's3://aii-archive/SpectrumSight/Arlington/ARL-ALL_ss_05062020_pare.csv': s3.ObjectSummary(bucket_name='aii-archive', key='SpectrumSight/Arlington/ARL-ALL_ss_05062020_pare.csv'),\n",
       " 's3://aii-archive/SpectrumSight/Arlington/ARL-ALL_ss_05072020.csv': s3.ObjectSummary(bucket_name='aii-archive', key='SpectrumSight/Arlington/ARL-ALL_ss_05072020.csv'),\n",
       " 's3://aii-archive/SpectrumSight/Arlington/ARL-ALL_ss_05072020.xlsx': s3.ObjectSummary(bucket_name='aii-archive', key='SpectrumSight/Arlington/ARL-ALL_ss_05072020.xlsx'),\n",
       " 's3://aii-archive/SpectrumSight/Arlington/ARL-ALL_ss_05072020_pare.csv': s3.ObjectSummary(bucket_name='aii-archive', key='SpectrumSight/Arlington/ARL-ALL_ss_05072020_pare.csv'),\n",
       " 's3://aii-archive/SpectrumSight/Arlington/ARL-ALL_ss_05082020.csv': s3.ObjectSummary(bucket_name='aii-archive', key='SpectrumSight/Arlington/ARL-ALL_ss_05082020.csv'),\n",
       " 's3://aii-archive/SpectrumSight/Arlington/ARL-ALL_ss_05082020.xlsx': s3.ObjectSummary(bucket_name='aii-archive', key='SpectrumSight/Arlington/ARL-ALL_ss_05082020.xlsx'),\n",
       " 's3://aii-archive/SpectrumSight/Arlington/ARL-ALL_ss_05082020_pare.csv': s3.ObjectSummary(bucket_name='aii-archive', key='SpectrumSight/Arlington/ARL-ALL_ss_05082020_pare.csv'),\n",
       " 's3://aii-archive/SpectrumSight/Arlington/ARL-ALL_ss_05092020.csv': s3.ObjectSummary(bucket_name='aii-archive', key='SpectrumSight/Arlington/ARL-ALL_ss_05092020.csv'),\n",
       " 's3://aii-archive/SpectrumSight/Arlington/ARL-ALL_ss_05092020.xlsx': s3.ObjectSummary(bucket_name='aii-archive', key='SpectrumSight/Arlington/ARL-ALL_ss_05092020.xlsx'),\n",
       " 's3://aii-archive/SpectrumSight/Arlington/ARL-ALL_ss_05092020_pare.csv': s3.ObjectSummary(bucket_name='aii-archive', key='SpectrumSight/Arlington/ARL-ALL_ss_05092020_pare.csv'),\n",
       " 's3://aii-archive/SpectrumSight/Arlington/ARL-ALL_ss_05102020.csv': s3.ObjectSummary(bucket_name='aii-archive', key='SpectrumSight/Arlington/ARL-ALL_ss_05102020.csv'),\n",
       " 's3://aii-archive/SpectrumSight/Arlington/ARL-ALL_ss_05102020.xlsx': s3.ObjectSummary(bucket_name='aii-archive', key='SpectrumSight/Arlington/ARL-ALL_ss_05102020.xlsx'),\n",
       " 's3://aii-archive/SpectrumSight/Arlington/ARL-ALL_ss_05102020_pare.csv': s3.ObjectSummary(bucket_name='aii-archive', key='SpectrumSight/Arlington/ARL-ALL_ss_05102020_pare.csv'),\n",
       " 's3://aii-archive/SpectrumSight/Arlington/ARL-ALL_ss_05112020.csv': s3.ObjectSummary(bucket_name='aii-archive', key='SpectrumSight/Arlington/ARL-ALL_ss_05112020.csv'),\n",
       " 's3://aii-archive/SpectrumSight/Arlington/ARL-ALL_ss_05112020.xlsx': s3.ObjectSummary(bucket_name='aii-archive', key='SpectrumSight/Arlington/ARL-ALL_ss_05112020.xlsx'),\n",
       " 's3://aii-archive/SpectrumSight/Arlington/ARL-ALL_ss_05112020_pare.csv': s3.ObjectSummary(bucket_name='aii-archive', key='SpectrumSight/Arlington/ARL-ALL_ss_05112020_pare.csv'),\n",
       " 's3://aii-archive/SpectrumSight/Arlington/ARL-ALL_ss_05122020.csv': s3.ObjectSummary(bucket_name='aii-archive', key='SpectrumSight/Arlington/ARL-ALL_ss_05122020.csv'),\n",
       " 's3://aii-archive/SpectrumSight/Arlington/ARL-ALL_ss_05122020.xlsx': s3.ObjectSummary(bucket_name='aii-archive', key='SpectrumSight/Arlington/ARL-ALL_ss_05122020.xlsx'),\n",
       " 's3://aii-archive/SpectrumSight/Arlington/ARL-ALL_ss_05122020_pare.csv': s3.ObjectSummary(bucket_name='aii-archive', key='SpectrumSight/Arlington/ARL-ALL_ss_05122020_pare.csv'),\n",
       " 's3://aii-archive/SpectrumSight/Arlington/ARL-ALL_ss_05132020.csv': s3.ObjectSummary(bucket_name='aii-archive', key='SpectrumSight/Arlington/ARL-ALL_ss_05132020.csv'),\n",
       " 's3://aii-archive/SpectrumSight/Arlington/ARL-ALL_ss_05132020.xlsx': s3.ObjectSummary(bucket_name='aii-archive', key='SpectrumSight/Arlington/ARL-ALL_ss_05132020.xlsx'),\n",
       " 's3://aii-archive/SpectrumSight/Arlington/ARL-ALL_ss_05132020_pare.csv': s3.ObjectSummary(bucket_name='aii-archive', key='SpectrumSight/Arlington/ARL-ALL_ss_05132020_pare.csv'),\n",
       " 's3://aii-archive/SpectrumSight/Arlington/ARL-ALL_ss_05142020.csv': s3.ObjectSummary(bucket_name='aii-archive', key='SpectrumSight/Arlington/ARL-ALL_ss_05142020.csv'),\n",
       " 's3://aii-archive/SpectrumSight/Arlington/ARL-ALL_ss_05142020.xlsx': s3.ObjectSummary(bucket_name='aii-archive', key='SpectrumSight/Arlington/ARL-ALL_ss_05142020.xlsx'),\n",
       " 's3://aii-archive/SpectrumSight/Arlington/ARL-ALL_ss_05142020_pare.csv': s3.ObjectSummary(bucket_name='aii-archive', key='SpectrumSight/Arlington/ARL-ALL_ss_05142020_pare.csv'),\n",
       " 's3://aii-archive/SpectrumSight/Arlington/ARL-ALL_ss_05152020.csv': s3.ObjectSummary(bucket_name='aii-archive', key='SpectrumSight/Arlington/ARL-ALL_ss_05152020.csv'),\n",
       " 's3://aii-archive/SpectrumSight/Arlington/ARL-ALL_ss_05152020.xlsx': s3.ObjectSummary(bucket_name='aii-archive', key='SpectrumSight/Arlington/ARL-ALL_ss_05152020.xlsx'),\n",
       " 's3://aii-archive/SpectrumSight/Arlington/ARL-ALL_ss_05152020_pare.csv': s3.ObjectSummary(bucket_name='aii-archive', key='SpectrumSight/Arlington/ARL-ALL_ss_05152020_pare.csv'),\n",
       " 's3://aii-archive/SpectrumSight/Arlington/ARL-ALL_ss_05162020.csv': s3.ObjectSummary(bucket_name='aii-archive', key='SpectrumSight/Arlington/ARL-ALL_ss_05162020.csv'),\n",
       " 's3://aii-archive/SpectrumSight/Arlington/ARL-ALL_ss_05162020.xlsx': s3.ObjectSummary(bucket_name='aii-archive', key='SpectrumSight/Arlington/ARL-ALL_ss_05162020.xlsx'),\n",
       " 's3://aii-archive/SpectrumSight/Arlington/ARL-ALL_ss_05162020_pare.csv': s3.ObjectSummary(bucket_name='aii-archive', key='SpectrumSight/Arlington/ARL-ALL_ss_05162020_pare.csv'),\n",
       " 's3://aii-archive/SpectrumSight/Arlington/ARL-ALL_ss_05172020.csv': s3.ObjectSummary(bucket_name='aii-archive', key='SpectrumSight/Arlington/ARL-ALL_ss_05172020.csv'),\n",
       " 's3://aii-archive/SpectrumSight/Arlington/ARL-ALL_ss_05172020.xlsx': s3.ObjectSummary(bucket_name='aii-archive', key='SpectrumSight/Arlington/ARL-ALL_ss_05172020.xlsx'),\n",
       " 's3://aii-archive/SpectrumSight/Arlington/ARL-ALL_ss_05172020_pare.csv': s3.ObjectSummary(bucket_name='aii-archive', key='SpectrumSight/Arlington/ARL-ALL_ss_05172020_pare.csv'),\n",
       " 's3://aii-archive/SpectrumSight/Arlington/ARL-ALL_ss_05182020.csv': s3.ObjectSummary(bucket_name='aii-archive', key='SpectrumSight/Arlington/ARL-ALL_ss_05182020.csv'),\n",
       " 's3://aii-archive/SpectrumSight/Arlington/ARL-ALL_ss_05182020.xlsx': s3.ObjectSummary(bucket_name='aii-archive', key='SpectrumSight/Arlington/ARL-ALL_ss_05182020.xlsx'),\n",
       " 's3://aii-archive/SpectrumSight/Arlington/ARL-ALL_ss_05182020_pare.csv': s3.ObjectSummary(bucket_name='aii-archive', key='SpectrumSight/Arlington/ARL-ALL_ss_05182020_pare.csv'),\n",
       " 's3://aii-archive/SpectrumSight/Arlington/ARL-ALL_ss_05192020.csv': s3.ObjectSummary(bucket_name='aii-archive', key='SpectrumSight/Arlington/ARL-ALL_ss_05192020.csv'),\n",
       " 's3://aii-archive/SpectrumSight/Arlington/ARL-ALL_ss_05192020.xlsx': s3.ObjectSummary(bucket_name='aii-archive', key='SpectrumSight/Arlington/ARL-ALL_ss_05192020.xlsx'),\n",
       " 's3://aii-archive/SpectrumSight/Arlington/ARL-ALL_ss_05192020_pare.csv': s3.ObjectSummary(bucket_name='aii-archive', key='SpectrumSight/Arlington/ARL-ALL_ss_05192020_pare.csv'),\n",
       " 's3://aii-archive/SpectrumSight/Arlington/ARL-ALL_ss_05202020.csv': s3.ObjectSummary(bucket_name='aii-archive', key='SpectrumSight/Arlington/ARL-ALL_ss_05202020.csv'),\n",
       " 's3://aii-archive/SpectrumSight/Arlington/ARL-ALL_ss_05202020.xlsx': s3.ObjectSummary(bucket_name='aii-archive', key='SpectrumSight/Arlington/ARL-ALL_ss_05202020.xlsx'),\n",
       " 's3://aii-archive/SpectrumSight/Arlington/ARL-ALL_ss_05202020_pare.csv': s3.ObjectSummary(bucket_name='aii-archive', key='SpectrumSight/Arlington/ARL-ALL_ss_05202020_pare.csv'),\n",
       " 's3://aii-archive/SpectrumSight/Arlington/ARL-ALL_ss_05212020.csv': s3.ObjectSummary(bucket_name='aii-archive', key='SpectrumSight/Arlington/ARL-ALL_ss_05212020.csv'),\n",
       " 's3://aii-archive/SpectrumSight/Arlington/ARL-ALL_ss_05212020.xlsx': s3.ObjectSummary(bucket_name='aii-archive', key='SpectrumSight/Arlington/ARL-ALL_ss_05212020.xlsx'),\n",
       " 's3://aii-archive/SpectrumSight/Arlington/ARL-ALL_ss_05212020_pare.csv': s3.ObjectSummary(bucket_name='aii-archive', key='SpectrumSight/Arlington/ARL-ALL_ss_05212020_pare.csv'),\n",
       " 's3://aii-archive/SpectrumSight/Arlington/ARL-ALL_ss_05222020.csv': s3.ObjectSummary(bucket_name='aii-archive', key='SpectrumSight/Arlington/ARL-ALL_ss_05222020.csv'),\n",
       " 's3://aii-archive/SpectrumSight/Arlington/ARL-ALL_ss_05222020.xlsx': s3.ObjectSummary(bucket_name='aii-archive', key='SpectrumSight/Arlington/ARL-ALL_ss_05222020.xlsx'),\n",
       " 's3://aii-archive/SpectrumSight/Arlington/ARL-ALL_ss_05222020_pare.csv': s3.ObjectSummary(bucket_name='aii-archive', key='SpectrumSight/Arlington/ARL-ALL_ss_05222020_pare.csv')}"
      ]
     },
     "execution_count": 13,
     "metadata": {},
     "output_type": "execute_result"
    }
   ],
   "source": [
    "object_data\n",
    "        "
   ]
  },
  {
   "cell_type": "code",
   "execution_count": 14,
   "metadata": {},
   "outputs": [
    {
     "ename": "KeyError",
     "evalue": "'aii-datapipeline/test-data/s3-functions/iq_out_RX2_318EE20_0_1586104985.sigmf-data'",
     "output_type": "error",
     "traceback": [
      "\u001b[0;31m---------------------------------------------------------------------------\u001b[0m",
      "\u001b[0;31mKeyError\u001b[0m                                  Traceback (most recent call last)",
      "\u001b[0;32m<ipython-input-14-e61b150c2033>\u001b[0m in \u001b[0;36m<module>\u001b[0;34m\u001b[0m\n\u001b[0;32m----> 1\u001b[0;31m \u001b[0mobject_data\u001b[0m\u001b[0;34m[\u001b[0m\u001b[0;34m'aii-datapipeline/test-data/s3-functions/iq_out_RX2_318EE20_0_1586104985.sigmf-data'\u001b[0m\u001b[0;34m]\u001b[0m\u001b[0;34m.\u001b[0m\u001b[0m__dict__\u001b[0m\u001b[0;34m\u001b[0m\u001b[0;34m\u001b[0m\u001b[0m\n\u001b[0m",
      "\u001b[0;31mKeyError\u001b[0m: 'aii-datapipeline/test-data/s3-functions/iq_out_RX2_318EE20_0_1586104985.sigmf-data'"
     ]
    }
   ],
   "source": [
    "object_data['aii-datapipeline/test-data/s3-functions/iq_out_RX2_318EE20_0_1586104985.sigmf-data'].__dict__"
   ]
  },
  {
   "cell_type": "code",
   "execution_count": 15,
   "metadata": {},
   "outputs": [
    {
     "ename": "KeyError",
     "evalue": "'aii-datapipeline/test-data/s3-functions/iq_out_RX2_318EE20_0_1586104985.sigmf-data'",
     "output_type": "error",
     "traceback": [
      "\u001b[0;31m---------------------------------------------------------------------------\u001b[0m",
      "\u001b[0;31mKeyError\u001b[0m                                  Traceback (most recent call last)",
      "\u001b[0;32m<ipython-input-15-bee631ddb958>\u001b[0m in \u001b[0;36m<module>\u001b[0;34m\u001b[0m\n\u001b[0;32m----> 1\u001b[0;31m \u001b[0mobject_data\u001b[0m\u001b[0;34m[\u001b[0m\u001b[0;34m'aii-datapipeline/test-data/s3-functions/iq_out_RX2_318EE20_0_1586104985.sigmf-data'\u001b[0m\u001b[0;34m]\u001b[0m\u001b[0;34m.\u001b[0m\u001b[0mstorage_class\u001b[0m\u001b[0;34m\u001b[0m\u001b[0;34m\u001b[0m\u001b[0m\n\u001b[0m",
      "\u001b[0;31mKeyError\u001b[0m: 'aii-datapipeline/test-data/s3-functions/iq_out_RX2_318EE20_0_1586104985.sigmf-data'"
     ]
    }
   ],
   "source": [
    "object_data['aii-datapipeline/test-data/s3-functions/iq_out_RX2_318EE20_0_1586104985.sigmf-data'].storage_class"
   ]
  },
  {
   "cell_type": "code",
   "execution_count": 16,
   "metadata": {},
   "outputs": [
    {
     "ename": "KeyError",
     "evalue": "'aii-datapipeline/test-data/s3-functions/iq_out_RX2_318EE20_0_1586104985.sigmf-data'",
     "output_type": "error",
     "traceback": [
      "\u001b[0;31m---------------------------------------------------------------------------\u001b[0m",
      "\u001b[0;31mKeyError\u001b[0m                                  Traceback (most recent call last)",
      "\u001b[0;32m<ipython-input-16-9e6e609d8c33>\u001b[0m in \u001b[0;36m<module>\u001b[0;34m\u001b[0m\n\u001b[0;32m----> 1\u001b[0;31m \u001b[0mobject_data\u001b[0m\u001b[0;34m[\u001b[0m\u001b[0;34m'aii-datapipeline/test-data/s3-functions/iq_out_RX2_318EE20_0_1586104985.sigmf-data'\u001b[0m\u001b[0;34m]\u001b[0m\u001b[0;34m\u001b[0m\u001b[0;34m\u001b[0m\u001b[0m\n\u001b[0m",
      "\u001b[0;31mKeyError\u001b[0m: 'aii-datapipeline/test-data/s3-functions/iq_out_RX2_318EE20_0_1586104985.sigmf-data'"
     ]
    }
   ],
   "source": [
    "object_data['aii-datapipeline/test-data/s3-functions/iq_out_RX2_318EE20_0_1586104985.sigmf-data']"
   ]
  },
  {
   "cell_type": "code",
   "execution_count": 17,
   "metadata": {},
   "outputs": [
    {
     "ename": "KeyError",
     "evalue": "'aii-datapipeline/test-data/s3-functions/iq_out_RX2_318EE20_0_1586104985.sigmf-data'",
     "output_type": "error",
     "traceback": [
      "\u001b[0;31m---------------------------------------------------------------------------\u001b[0m",
      "\u001b[0;31mKeyError\u001b[0m                                  Traceback (most recent call last)",
      "\u001b[0;32m<ipython-input-17-af8a26c695a0>\u001b[0m in \u001b[0;36m<module>\u001b[0;34m\u001b[0m\n\u001b[0;32m----> 1\u001b[0;31m \u001b[0mobject_data\u001b[0m\u001b[0;34m[\u001b[0m\u001b[0;34m'aii-datapipeline/test-data/s3-functions/iq_out_RX2_318EE20_0_1586104985.sigmf-data'\u001b[0m\u001b[0;34m]\u001b[0m\u001b[0;34m.\u001b[0m\u001b[0m__dir__\u001b[0m\u001b[0;34m(\u001b[0m\u001b[0;34m)\u001b[0m\u001b[0;34m\u001b[0m\u001b[0;34m\u001b[0m\u001b[0m\n\u001b[0m",
      "\u001b[0;31mKeyError\u001b[0m: 'aii-datapipeline/test-data/s3-functions/iq_out_RX2_318EE20_0_1586104985.sigmf-data'"
     ]
    }
   ],
   "source": [
    "object_data['aii-datapipeline/test-data/s3-functions/iq_out_RX2_318EE20_0_1586104985.sigmf-data'].__dir__()"
   ]
  },
  {
   "cell_type": "code",
   "execution_count": 25,
   "metadata": {},
   "outputs": [
    {
     "data": {
      "text/plain": [
       "dict_keys(['s3://aii-archive/SpectrumSight/ARL-ALL_ss_20200601.xlsx.sb-ba4aa63b-VJ24aL/Icon\\r', 's3://aii-archive/SpectrumSight/ARL-ALL_ss_20200602.xlsx.sb-ba4aa63b-X2pPSU/Icon\\r', 's3://aii-archive/SpectrumSight/Arlington/', 's3://aii-archive/SpectrumSight/Arlington/ARL-ALL_ss_0403-04192020.xlsx', 's3://aii-archive/SpectrumSight/Arlington/ARL-ALL_ss_04202020.csv', 's3://aii-archive/SpectrumSight/Arlington/ARL-ALL_ss_04202020.xlsx', 's3://aii-archive/SpectrumSight/Arlington/ARL-ALL_ss_04212020.csv', 's3://aii-archive/SpectrumSight/Arlington/ARL-ALL_ss_04212020.xlsx', 's3://aii-archive/SpectrumSight/Arlington/ARL-ALL_ss_04222020.csv', 's3://aii-archive/SpectrumSight/Arlington/ARL-ALL_ss_04222020.xlsx', 's3://aii-archive/SpectrumSight/Arlington/ARL-ALL_ss_04222020_pare.csv', 's3://aii-archive/SpectrumSight/Arlington/ARL-ALL_ss_04232020.csv', 's3://aii-archive/SpectrumSight/Arlington/ARL-ALL_ss_04232020.xlsx', 's3://aii-archive/SpectrumSight/Arlington/ARL-ALL_ss_04232020_pare.csv', 's3://aii-archive/SpectrumSight/Arlington/ARL-ALL_ss_04242020.csv', 's3://aii-archive/SpectrumSight/Arlington/ARL-ALL_ss_04242020.xlsx', 's3://aii-archive/SpectrumSight/Arlington/ARL-ALL_ss_04242020_pare.csv', 's3://aii-archive/SpectrumSight/Arlington/ARL-ALL_ss_04252020.csv', 's3://aii-archive/SpectrumSight/Arlington/ARL-ALL_ss_04252020.xlsx', 's3://aii-archive/SpectrumSight/Arlington/ARL-ALL_ss_04252020_pare.csv', 's3://aii-archive/SpectrumSight/Arlington/ARL-ALL_ss_04262020.csv', 's3://aii-archive/SpectrumSight/Arlington/ARL-ALL_ss_04262020.xlsx', 's3://aii-archive/SpectrumSight/Arlington/ARL-ALL_ss_04262020_pare.csv', 's3://aii-archive/SpectrumSight/Arlington/ARL-ALL_ss_04272020.csv', 's3://aii-archive/SpectrumSight/Arlington/ARL-ALL_ss_04272020.xlsx', 's3://aii-archive/SpectrumSight/Arlington/ARL-ALL_ss_04272020_pare.csv', 's3://aii-archive/SpectrumSight/Arlington/ARL-ALL_ss_04282020.csv', 's3://aii-archive/SpectrumSight/Arlington/ARL-ALL_ss_04282020.xlsx', 's3://aii-archive/SpectrumSight/Arlington/ARL-ALL_ss_04282020_pare.csv', 's3://aii-archive/SpectrumSight/Arlington/ARL-ALL_ss_04292020.csv', 's3://aii-archive/SpectrumSight/Arlington/ARL-ALL_ss_04292020.xlsx', 's3://aii-archive/SpectrumSight/Arlington/ARL-ALL_ss_04292020_pare.xlsx', 's3://aii-archive/SpectrumSight/Arlington/ARL-ALL_ss_04302020.csv', 's3://aii-archive/SpectrumSight/Arlington/ARL-ALL_ss_04302020.xlsx', 's3://aii-archive/SpectrumSight/Arlington/ARL-ALL_ss_04302020_pare.csv', 's3://aii-archive/SpectrumSight/Arlington/ARL-ALL_ss_05012020.csv', 's3://aii-archive/SpectrumSight/Arlington/ARL-ALL_ss_05012020.xlsx', 's3://aii-archive/SpectrumSight/Arlington/ARL-ALL_ss_05012020_pare.csv', 's3://aii-archive/SpectrumSight/Arlington/ARL-ALL_ss_05022020.csv', 's3://aii-archive/SpectrumSight/Arlington/ARL-ALL_ss_05022020.xlsx', 's3://aii-archive/SpectrumSight/Arlington/ARL-ALL_ss_05022020_pare.csv', 's3://aii-archive/SpectrumSight/Arlington/ARL-ALL_ss_05032020.csv', 's3://aii-archive/SpectrumSight/Arlington/ARL-ALL_ss_05032020.xlsx', 's3://aii-archive/SpectrumSight/Arlington/ARL-ALL_ss_05032020_pare.csv', 's3://aii-archive/SpectrumSight/Arlington/ARL-ALL_ss_05042020.csv', 's3://aii-archive/SpectrumSight/Arlington/ARL-ALL_ss_05042020.xlsx', 's3://aii-archive/SpectrumSight/Arlington/ARL-ALL_ss_05042020_pare.csv', 's3://aii-archive/SpectrumSight/Arlington/ARL-ALL_ss_05052020.csv', 's3://aii-archive/SpectrumSight/Arlington/ARL-ALL_ss_05052020.xlsx', 's3://aii-archive/SpectrumSight/Arlington/ARL-ALL_ss_05052020_pare.csv', 's3://aii-archive/SpectrumSight/Arlington/ARL-ALL_ss_05062020.csv', 's3://aii-archive/SpectrumSight/Arlington/ARL-ALL_ss_05062020.xlsx', 's3://aii-archive/SpectrumSight/Arlington/ARL-ALL_ss_05062020_pare.csv', 's3://aii-archive/SpectrumSight/Arlington/ARL-ALL_ss_05072020.csv', 's3://aii-archive/SpectrumSight/Arlington/ARL-ALL_ss_05072020.xlsx', 's3://aii-archive/SpectrumSight/Arlington/ARL-ALL_ss_05072020_pare.csv', 's3://aii-archive/SpectrumSight/Arlington/ARL-ALL_ss_05082020.csv', 's3://aii-archive/SpectrumSight/Arlington/ARL-ALL_ss_05082020.xlsx', 's3://aii-archive/SpectrumSight/Arlington/ARL-ALL_ss_05082020_pare.csv', 's3://aii-archive/SpectrumSight/Arlington/ARL-ALL_ss_05092020.csv', 's3://aii-archive/SpectrumSight/Arlington/ARL-ALL_ss_05092020.xlsx', 's3://aii-archive/SpectrumSight/Arlington/ARL-ALL_ss_05092020_pare.csv', 's3://aii-archive/SpectrumSight/Arlington/ARL-ALL_ss_05102020.csv', 's3://aii-archive/SpectrumSight/Arlington/ARL-ALL_ss_05102020.xlsx', 's3://aii-archive/SpectrumSight/Arlington/ARL-ALL_ss_05102020_pare.csv', 's3://aii-archive/SpectrumSight/Arlington/ARL-ALL_ss_05112020.csv', 's3://aii-archive/SpectrumSight/Arlington/ARL-ALL_ss_05112020.xlsx', 's3://aii-archive/SpectrumSight/Arlington/ARL-ALL_ss_05112020_pare.csv', 's3://aii-archive/SpectrumSight/Arlington/ARL-ALL_ss_05122020.csv', 's3://aii-archive/SpectrumSight/Arlington/ARL-ALL_ss_05122020.xlsx', 's3://aii-archive/SpectrumSight/Arlington/ARL-ALL_ss_05122020_pare.csv', 's3://aii-archive/SpectrumSight/Arlington/ARL-ALL_ss_05132020.csv', 's3://aii-archive/SpectrumSight/Arlington/ARL-ALL_ss_05132020.xlsx', 's3://aii-archive/SpectrumSight/Arlington/ARL-ALL_ss_05132020_pare.csv', 's3://aii-archive/SpectrumSight/Arlington/ARL-ALL_ss_05142020.csv', 's3://aii-archive/SpectrumSight/Arlington/ARL-ALL_ss_05142020.xlsx', 's3://aii-archive/SpectrumSight/Arlington/ARL-ALL_ss_05142020_pare.csv', 's3://aii-archive/SpectrumSight/Arlington/ARL-ALL_ss_05152020.csv', 's3://aii-archive/SpectrumSight/Arlington/ARL-ALL_ss_05152020.xlsx', 's3://aii-archive/SpectrumSight/Arlington/ARL-ALL_ss_05152020_pare.csv', 's3://aii-archive/SpectrumSight/Arlington/ARL-ALL_ss_05162020.csv', 's3://aii-archive/SpectrumSight/Arlington/ARL-ALL_ss_05162020.xlsx', 's3://aii-archive/SpectrumSight/Arlington/ARL-ALL_ss_05162020_pare.csv', 's3://aii-archive/SpectrumSight/Arlington/ARL-ALL_ss_05172020.csv', 's3://aii-archive/SpectrumSight/Arlington/ARL-ALL_ss_05172020.xlsx', 's3://aii-archive/SpectrumSight/Arlington/ARL-ALL_ss_05172020_pare.csv', 's3://aii-archive/SpectrumSight/Arlington/ARL-ALL_ss_05182020.csv', 's3://aii-archive/SpectrumSight/Arlington/ARL-ALL_ss_05182020.xlsx', 's3://aii-archive/SpectrumSight/Arlington/ARL-ALL_ss_05182020_pare.csv', 's3://aii-archive/SpectrumSight/Arlington/ARL-ALL_ss_05192020.csv', 's3://aii-archive/SpectrumSight/Arlington/ARL-ALL_ss_05192020.xlsx', 's3://aii-archive/SpectrumSight/Arlington/ARL-ALL_ss_05192020_pare.csv', 's3://aii-archive/SpectrumSight/Arlington/ARL-ALL_ss_05202020.csv', 's3://aii-archive/SpectrumSight/Arlington/ARL-ALL_ss_05202020.xlsx', 's3://aii-archive/SpectrumSight/Arlington/ARL-ALL_ss_05202020_pare.csv', 's3://aii-archive/SpectrumSight/Arlington/ARL-ALL_ss_05212020.csv', 's3://aii-archive/SpectrumSight/Arlington/ARL-ALL_ss_05212020.xlsx', 's3://aii-archive/SpectrumSight/Arlington/ARL-ALL_ss_05212020_pare.csv', 's3://aii-archive/SpectrumSight/Arlington/ARL-ALL_ss_05222020.csv', 's3://aii-archive/SpectrumSight/Arlington/ARL-ALL_ss_05222020.xlsx', 's3://aii-archive/SpectrumSight/Arlington/ARL-ALL_ss_05222020_pare.csv'])"
      ]
     },
     "execution_count": 25,
     "metadata": {},
     "output_type": "execute_result"
    }
   ],
   "source": [
    "object_data.keys()"
   ]
  },
  {
   "cell_type": "code",
   "execution_count": 34,
   "metadata": {},
   "outputs": [],
   "source": [
    "item = list(object_data.keys())[20]"
   ]
  },
  {
   "cell_type": "code",
   "execution_count": 37,
   "metadata": {},
   "outputs": [
    {
     "name": "stdout",
     "output_type": "stream",
     "text": [
      "s3://aii-archive/SpectrumSight/Arlington/ARL-ALL_ss_04262020.csv\n",
      "s3.ObjectSummary(bucket_name='aii-archive', key='SpectrumSight/Arlington/ARL-ALL_ss_04262020.csv')\n",
      "DEEP_ARCHIVE\n"
     ]
    }
   ],
   "source": [
    "print(item)\n",
    "print(object_data[item])\n",
    "print(object_data[item].storage_class)\n",
    "#print(object_data[item].restore)"
   ]
  },
  {
   "cell_type": "code",
   "execution_count": null,
   "metadata": {},
   "outputs": [],
   "source": []
  },
  {
   "cell_type": "code",
   "execution_count": 315,
   "metadata": {},
   "outputs": [
    {
     "data": {
      "text/plain": [
       "{'ResponseMetadata': {'RequestId': '29A5F0EA0720F583',\n",
       "  'HostId': 'FaS/4ZCqWgu7E+HcgMgAVcG8cn6i3VkOijFYs7Ry5uLtOdFDhLpROVylfuKMvSX+WsXyte5E/Mw=',\n",
       "  'HTTPStatusCode': 202,\n",
       "  'HTTPHeaders': {'x-amz-id-2': 'FaS/4ZCqWgu7E+HcgMgAVcG8cn6i3VkOijFYs7Ry5uLtOdFDhLpROVylfuKMvSX+WsXyte5E/Mw=',\n",
       "   'x-amz-request-id': '29A5F0EA0720F583',\n",
       "   'date': 'Tue, 27 Oct 2020 16:01:04 GMT',\n",
       "   'content-length': '0',\n",
       "   'server': 'AmazonS3'},\n",
       "  'RetryAttempts': 0}}"
      ]
     },
     "execution_count": 315,
     "metadata": {},
     "output_type": "execute_result"
    }
   ],
   "source": [
    "\n",
    "bucket = s3.Bucket(object_data[item].bucket_name)\n",
    "this_object = s3.Object(object_data[item].bucket_name,object_data[item].key)\n",
    "this_object.restore_object(RestoreRequest={'Days': 1})"
   ]
  },
  {
   "cell_type": "code",
   "execution_count": 41,
   "metadata": {},
   "outputs": [],
   "source": [
    "this_object = s3.Object(object_data[item].bucket_name,object_data[item].key)"
   ]
  },
  {
   "cell_type": "code",
   "execution_count": 43,
   "metadata": {},
   "outputs": [],
   "source": [
    "this_object.restore"
   ]
  },
  {
   "cell_type": "code",
   "execution_count": 44,
   "metadata": {},
   "outputs": [],
   "source": [
    "this_object.expiration"
   ]
  },
  {
   "cell_type": "code",
   "execution_count": 324,
   "metadata": {},
   "outputs": [
    {
     "data": {
      "text/plain": [
       "s3.Object(bucket_name='aii-archive', key='SpectrumSight/Arlington/ARL-ALL_ss_04202020.csv')"
      ]
     },
     "execution_count": 324,
     "metadata": {},
     "output_type": "execute_result"
    }
   ],
   "source": [
    "this_object"
   ]
  },
  {
   "cell_type": "code",
   "execution_count": 328,
   "metadata": {},
   "outputs": [
    {
     "name": "stdout",
     "output_type": "stream",
     "text": [
      "None\n"
     ]
    }
   ],
   "source": [
    "status = "
   ]
  },
  {
   "cell_type": "code",
   "execution_count": 325,
   "metadata": {},
   "outputs": [
    {
     "ename": "AttributeError",
     "evalue": "'s3.Bucket' object has no attribute 'Key'",
     "output_type": "error",
     "traceback": [
      "\u001b[0;31m---------------------------------------------------------------------------\u001b[0m",
      "\u001b[0;31mAttributeError\u001b[0m                            Traceback (most recent call last)",
      "\u001b[0;32m<ipython-input-325-028df4703f93>\u001b[0m in \u001b[0;36m<module>\u001b[0;34m\u001b[0m\n\u001b[0;32m----> 1\u001b[0;31m \u001b[0mthis_key\u001b[0m \u001b[0;34m=\u001b[0m \u001b[0mbucket\u001b[0m\u001b[0;34m.\u001b[0m\u001b[0mKey\u001b[0m\u001b[0;34m(\u001b[0m\u001b[0mobject_data\u001b[0m\u001b[0;34m[\u001b[0m\u001b[0mitem\u001b[0m\u001b[0;34m]\u001b[0m\u001b[0;34m.\u001b[0m\u001b[0mkey\u001b[0m\u001b[0;34m)\u001b[0m\u001b[0;34m\u001b[0m\u001b[0;34m\u001b[0m\u001b[0m\n\u001b[0m",
      "\u001b[0;31mAttributeError\u001b[0m: 's3.Bucket' object has no attribute 'Key'"
     ]
    }
   ],
   "source": [
    "this_key = bucket.Key(object_data[item].key)"
   ]
  },
  {
   "cell_type": "code",
   "execution_count": 326,
   "metadata": {},
   "outputs": [
    {
     "data": {
      "text/plain": [
       "['meta',\n",
       " '_name',\n",
       " 'name',\n",
       " 'create',\n",
       " 'delete',\n",
       " 'delete_objects',\n",
       " 'put_object',\n",
       " 'creation_date',\n",
       " 'multipart_uploads',\n",
       " 'object_versions',\n",
       " 'objects',\n",
       " 'Acl',\n",
       " 'Cors',\n",
       " 'Lifecycle',\n",
       " 'LifecycleConfiguration',\n",
       " 'Logging',\n",
       " 'Notification',\n",
       " 'Object',\n",
       " 'Policy',\n",
       " 'RequestPayment',\n",
       " 'Tagging',\n",
       " 'Versioning',\n",
       " 'Website',\n",
       " 'get_available_subresources',\n",
       " 'wait_until_exists',\n",
       " 'wait_until_not_exists',\n",
       " 'load',\n",
       " 'upload_file',\n",
       " 'download_file',\n",
       " 'copy',\n",
       " 'upload_fileobj',\n",
       " 'download_fileobj',\n",
       " '__module__',\n",
       " '__doc__',\n",
       " '__init__',\n",
       " '__repr__',\n",
       " '__eq__',\n",
       " '__hash__',\n",
       " '__dict__',\n",
       " '__weakref__',\n",
       " '__str__',\n",
       " '__getattribute__',\n",
       " '__setattr__',\n",
       " '__delattr__',\n",
       " '__lt__',\n",
       " '__le__',\n",
       " '__ne__',\n",
       " '__gt__',\n",
       " '__ge__',\n",
       " '__new__',\n",
       " '__reduce_ex__',\n",
       " '__reduce__',\n",
       " '__subclasshook__',\n",
       " '__init_subclass__',\n",
       " '__format__',\n",
       " '__sizeof__',\n",
       " '__dir__',\n",
       " '__class__']"
      ]
     },
     "execution_count": 326,
     "metadata": {},
     "output_type": "execute_result"
    }
   ],
   "source": []
  },
  {
   "cell_type": "code",
   "execution_count": null,
   "metadata": {},
   "outputs": [],
   "source": []
  },
  {
   "cell_type": "code",
   "execution_count": null,
   "metadata": {},
   "outputs": [],
   "source": []
  },
  {
   "cell_type": "code",
   "execution_count": 312,
   "metadata": {},
   "outputs": [
    {
     "data": {
      "text/plain": [
       "['meta',\n",
       " '_bucket_name',\n",
       " '_key',\n",
       " 'bucket_name',\n",
       " 'key',\n",
       " 'load',\n",
       " 'reload',\n",
       " 'copy_from',\n",
       " 'delete',\n",
       " 'get',\n",
       " 'initiate_multipart_upload',\n",
       " 'put',\n",
       " 'restore_object',\n",
       " 'delete_marker',\n",
       " 'accept_ranges',\n",
       " 'expiration',\n",
       " 'restore',\n",
       " 'last_modified',\n",
       " 'content_length',\n",
       " 'e_tag',\n",
       " 'missing_meta',\n",
       " 'version_id',\n",
       " 'cache_control',\n",
       " 'content_disposition',\n",
       " 'content_encoding',\n",
       " 'content_language',\n",
       " 'content_type',\n",
       " 'expires',\n",
       " 'website_redirect_location',\n",
       " 'server_side_encryption',\n",
       " 'metadata',\n",
       " 'sse_customer_algorithm',\n",
       " 'sse_customer_key_md5',\n",
       " 'ssekms_key_id',\n",
       " 'storage_class',\n",
       " 'request_charged',\n",
       " 'replication_status',\n",
       " 'parts_count',\n",
       " 'object_lock_mode',\n",
       " 'object_lock_retain_until_date',\n",
       " 'object_lock_legal_hold_status',\n",
       " 'Acl',\n",
       " 'Bucket',\n",
       " 'MultipartUpload',\n",
       " 'Version',\n",
       " 'get_available_subresources',\n",
       " 'wait_until_exists',\n",
       " 'wait_until_not_exists',\n",
       " 'upload_file',\n",
       " 'download_file',\n",
       " 'copy',\n",
       " 'upload_fileobj',\n",
       " 'download_fileobj',\n",
       " '__module__',\n",
       " '__doc__',\n",
       " '__init__',\n",
       " '__repr__',\n",
       " '__eq__',\n",
       " '__hash__',\n",
       " '__dict__',\n",
       " '__weakref__',\n",
       " '__str__',\n",
       " '__getattribute__',\n",
       " '__setattr__',\n",
       " '__delattr__',\n",
       " '__lt__',\n",
       " '__le__',\n",
       " '__ne__',\n",
       " '__gt__',\n",
       " '__ge__',\n",
       " '__new__',\n",
       " '__reduce_ex__',\n",
       " '__reduce__',\n",
       " '__subclasshook__',\n",
       " '__init_subclass__',\n",
       " '__format__',\n",
       " '__sizeof__',\n",
       " '__dir__',\n",
       " '__class__']"
      ]
     },
     "execution_count": 312,
     "metadata": {},
     "output_type": "execute_result"
    }
   ],
   "source": [
    "this_object.__dir__()"
   ]
  },
  {
   "cell_type": "code",
   "execution_count": null,
   "metadata": {},
   "outputs": [],
   "source": []
  },
  {
   "cell_type": "code",
   "execution_count": null,
   "metadata": {},
   "outputs": [],
   "source": [
    "#\n",
    "#\n",
    "#\n",
    "def is_file_available(bucket, key):\n",
    "    s3 = boto3.resource('s3')\n",
    "    this_object = s3.Object(object_data[item].bucket_name,object_data[item].key)\n",
    "    ans = False\n",
    "    while(True):\n",
    "\n",
    "    \n",
    "    "
   ]
  },
  {
   "cell_type": "code",
   "execution_count": 186,
   "metadata": {},
   "outputs": [],
   "source": [
    "# File info conisists of one or three parts\n",
    "# 1. storage class\n",
    "# If storage class is GLACIER or DEEP_ARCHIVE\n",
    "# 2. expiration date (if file has been recalled)\n",
    "# 3. restore_status (will be None if )\n"
   ]
  },
  {
   "cell_type": "code",
   "execution_count": 176,
   "metadata": {},
   "outputs": [],
   "source": [
    "# Recall can be \n",
    "# 1. Expedited 1-5 minutes (Not avaialable for DEEP_ARCHIVE)\n",
    "# 2. Standard 2-5 hours GLACIER, up to 12 hourse DEEP_ARCIVE\n",
    "# 3. Bulk 5-12 hours GLACIER up to 48 HOURS DEEP_ARCHIVE\n",
    "# We will typically use Sstandard restore"
   ]
  },
  {
   "cell_type": "code",
   "execution_count": 178,
   "metadata": {},
   "outputs": [],
   "source": [
    "def get_s3_object_info(bucket, key, data_update=False):\n",
    "    '''\n",
    "    Returns info if we have it. Gets it if we do not of id data_update=True\n",
    "\n",
    "    Paramaters:\n",
    "        bucket (str): s3 bucket name\n",
    "        key (str): object key\n",
    "        data_update (bool): if true the always fetch new data\n",
    "    \n",
    "    Returns:  \n",
    "        obj_data (dict): information about the status of an object\n",
    "    \n",
    "    '''\n",
    "    global s3_objects\n",
    "    global s3_client\n",
    "    \n",
    "    dict_key = bucket + '/' + key\n",
    "    if dict_key in s3_objects and not data_update:\n",
    "        ans = s3_objects[dict_key]\n",
    "    else:\n",
    "        # Get object\n",
    "        if not s3:\n",
    "            s3_client = boto3.resource('s3')\n",
    "        this_object = s3.Object(bucket, key)\n",
    "        print(this_object, this_object['Storage_Class'])\n",
    "        \n",
    "    \n",
    "        \n",
    "    \n",
    "    "
   ]
  },
  {
   "cell_type": "code",
   "execution_count": 202,
   "metadata": {},
   "outputs": [],
   "source": [
    "prefix_match_pattern = 's3_functions/*'"
   ]
  },
  {
   "cell_type": "code",
   "execution_count": 203,
   "metadata": {},
   "outputs": [],
   "source": [
    "aws_cli_prefix_match = f'aws s3 ls s3://aii-pipeline/test-data/ .\\ --recursive --exclude * --include {prefix_match_pattern}'"
   ]
  },
  {
   "cell_type": "code",
   "execution_count": 204,
   "metadata": {},
   "outputs": [
    {
     "data": {
      "text/plain": [
       "'aws s3 ls s3://aii-pipeline/test-data/ .\\\\ --recursive --exclude * --include s3_functions/*'"
      ]
     },
     "execution_count": 204,
     "metadata": {},
     "output_type": "execute_result"
    }
   ],
   "source": [
    "aws_cli_prefix_match"
   ]
  },
  {
   "cell_type": "code",
   "execution_count": 205,
   "metadata": {},
   "outputs": [],
   "source": [
    "s3_results = subprocess.run( aws_cli_prefix_match.split(' '), capture_output=True)\n",
    "               \n"
   ]
  },
  {
   "cell_type": "code",
   "execution_count": 206,
   "metadata": {},
   "outputs": [
    {
     "data": {
      "text/plain": [
       "CompletedProcess(args=['aws', 's3', 'ls', 's3://aii-pipeline/test-data/', '.\\\\', '--recursive', '--exclude', '*', '--include', 's3_functions/*'], returncode=255, stdout=b'', stderr=b'\\nUnknown options: .\\\\,--exclude,*,--include,s3_functions/*\\n')"
      ]
     },
     "execution_count": 206,
     "metadata": {},
     "output_type": "execute_result"
    }
   ],
   "source": [
    "s3_results"
   ]
  },
  {
   "cell_type": "code",
   "execution_count": null,
   "metadata": {},
   "outputs": [],
   "source": []
  },
  {
   "cell_type": "code",
   "execution_count": null,
   "metadata": {},
   "outputs": [],
   "source": []
  },
  {
   "cell_type": "code",
   "execution_count": null,
   "metadata": {},
   "outputs": [],
   "source": []
  },
  {
   "cell_type": "code",
   "execution_count": 152,
   "metadata": {},
   "outputs": [],
   "source": [
    "def get_s3_key_storage_class(bucket, key):\n",
    "    pass\n",
    "    "
   ]
  },
  {
   "cell_type": "code",
   "execution_count": 153,
   "metadata": {},
   "outputs": [],
   "source": [
    "def check_s3_key_for_availability(bucket, key):\n",
    "    pass\n",
    "    \n",
    "    "
   ]
  },
  {
   "cell_type": "code",
   "execution_count": null,
   "metadata": {},
   "outputs": [],
   "source": []
  },
  {
   "cell_type": "code",
   "execution_count": null,
   "metadata": {},
   "outputs": [],
   "source": []
  },
  {
   "cell_type": "code",
   "execution_count": 154,
   "metadata": {},
   "outputs": [],
   "source": [
    "def check_s3_key_list_for_availability(bucket, key_list):\n",
    "    '''\n",
    "    Checks if s3 files can be directly copyied\n",
    "    If not, check restore status of each file\n",
    "    If a file is not in process of being restored, start the restore\n",
    "    \n",
    "\n",
    "\t\tbucket (str): s3 bucket name\n",
    "\t\tkey_list (list): list of strings with keys to be tested\n",
    "\n",
    "\tReturns:\n",
    "\t\tavailability_by_key (list):  True if file is avaialble to be accessed\n",
    "    \n",
    "    '''\n",
    "    pass\n",
    "    \n",
    "    "
   ]
  },
  {
   "cell_type": "code",
   "execution_count": 155,
   "metadata": {},
   "outputs": [],
   "source": [
    "def copy_s3_files_to_local(bucket, key_list, local_dir):\n",
    "    pass"
   ]
  },
  {
   "cell_type": "code",
   "execution_count": null,
   "metadata": {},
   "outputs": [],
   "source": []
  },
  {
   "cell_type": "code",
   "execution_count": 156,
   "metadata": {},
   "outputs": [
    {
     "data": {
      "text/plain": [
       "['3rd-party-app-location-data', 'aii-archive']"
      ]
     },
     "execution_count": 156,
     "metadata": {},
     "output_type": "execute_result"
    }
   ],
   "source": [
    "bucket_list[:2]"
   ]
  },
  {
   "cell_type": "code",
   "execution_count": 157,
   "metadata": {},
   "outputs": [],
   "source": [
    "target_bucket = 'aii-data'"
   ]
  },
  {
   "cell_type": "code",
   "execution_count": 158,
   "metadata": {},
   "outputs": [],
   "source": [
    "def clear_tags(bucket, key):\n",
    "    \"\"\"\n",
    "    Clears tags for an object\n",
    "    \"\"\"\n",
    "    response = s3_client.delete_object_tagging(\n",
    "        Bucket=bucket,\n",
    "        Key=key)"
   ]
  },
  {
   "cell_type": "code",
   "execution_count": 168,
   "metadata": {},
   "outputs": [],
   "source": [
    "def get_matching_s3_keys(bucket, prefix='', suffix='', min_size=0, storage_class=None, restore_status=None):\n",
    "    \"\"\"\n",
    "    Generate the keys in an S3 bucket.\n",
    "\n",
    "    Paramaters:\n",
    "        bucket (str): s3 bucket name\n",
    "        key (str): object key\n",
    "        data_update (bool): if true the always fetch new data\n",
    "    \n",
    "    Returns:  \n",
    "        obj_data (dict): information about the status of an object\n",
    "    :param bucket: Name of the S3 bucket.\n",
    "    :param prefix: Only fetch keys that start with this prefix (optional).\n",
    "    :param suffix: Only fetch keys that end with this suffix (optional).\n",
    "    \"\"\"\n",
    "    s3 = boto3.client('s3')\n",
    "    kwargs = {'Bucket': bucket}\n",
    "\n",
    "    # If the prefix is a single string (not a tuple of strings), we can\n",
    "    # do the filtering directly in the S3 API.\n",
    "    if isinstance(prefix, str):\n",
    "        kwargs['Prefix'] = prefix\n",
    "\n",
    "    while True:\n",
    "        # The S3 API response is a large blob of metadata.\n",
    "        # 'Contents' contains information about the listed objects.\n",
    "        resp = s3.list_objects_v2(**kwargs)\n",
    "        print(resp)\n",
    "        for obj in resp['Contents']:\n",
    "\n",
    "             \n",
    "            if storage_class and storage_class != obj['StorageClass']:\n",
    "                continue\n",
    "                \n",
    "            if min_size and min_size > obj['Size']:\n",
    "                continue\n",
    "                \n",
    "            #print(obj)\n",
    "            #print(tags)\n",
    "\n",
    "            \n",
    "            get_restore = False\n",
    "            if obj['StorageClass'] in ['GLACIER', 'DEEP_ARCIVE']:\n",
    "                get_restore = True\n",
    "        \n",
    "            key = obj['Key']\n",
    "            if key.startswith(prefix) and key.endswith(suffix):\n",
    "                tags = s3.get_object_tagging(\n",
    "                    Bucket=bucket,\n",
    "                    Key=key)\n",
    "                obj['tags'] = tags['TagSet']\n",
    "                if get_restore:\n",
    "                    restore = obj2.restore\n",
    "                    \n",
    "                yield obj\n",
    "\n",
    "        # The S3 API is paginated, returning up to 1000 keys at a time.\n",
    "        # Pass the continuation token into the next response, until we\n",
    "        # reach the final page (when this field is missing).\n",
    "        try:\n",
    "            kwargs['ContinuationToken'] = resp['NextContinuationToken']\n",
    "        except KeyError:\n",
    "            break"
   ]
  },
  {
   "cell_type": "code",
   "execution_count": 169,
   "metadata": {},
   "outputs": [],
   "source": [
    "count = 0\n",
    "limit = 10"
   ]
  },
  {
   "cell_type": "code",
   "execution_count": 170,
   "metadata": {},
   "outputs": [],
   "source": [
    "glacier_list = []"
   ]
  },
  {
   "cell_type": "code",
   "execution_count": 171,
   "metadata": {},
   "outputs": [],
   "source": [
    "test_file_list = []"
   ]
  },
  {
   "cell_type": "code",
   "execution_count": 172,
   "metadata": {},
   "outputs": [],
   "source": [
    "target_bucket = 'aii-datapipeline'"
   ]
  },
  {
   "cell_type": "code",
   "execution_count": 173,
   "metadata": {},
   "outputs": [
    {
     "name": "stdout",
     "output_type": "stream",
     "text": [
      "{'ResponseMetadata': {'RequestId': 'A71A34D814E22650', 'HostId': 'Kj0egY5EU5CK1rUY/FGqtqp7aGgJX51vPLOTqRNDU6cBD4vI+XcG6W0N2UHOZG372bHuLXF1UhQ=', 'HTTPStatusCode': 200, 'HTTPHeaders': {'x-amz-id-2': 'Kj0egY5EU5CK1rUY/FGqtqp7aGgJX51vPLOTqRNDU6cBD4vI+XcG6W0N2UHOZG372bHuLXF1UhQ=', 'x-amz-request-id': 'A71A34D814E22650', 'date': 'Fri, 23 Oct 2020 23:01:05 GMT', 'x-amz-bucket-region': 'us-east-1', 'content-type': 'application/xml', 'transfer-encoding': 'chunked', 'server': 'AmazonS3'}, 'RetryAttempts': 0}, 'IsTruncated': False, 'Name': 'aii-datapipeline', 'Prefix': 'v1', 'MaxKeys': 1000, 'EncodingType': 'url', 'KeyCount': 0}\n"
     ]
    },
    {
     "ename": "KeyError",
     "evalue": "'Contents'",
     "output_type": "error",
     "traceback": [
      "\u001b[0;31m---------------------------------------------------------------------------\u001b[0m",
      "\u001b[0;31mKeyError\u001b[0m                                  Traceback (most recent call last)",
      "\u001b[0;32m<ipython-input-173-248c4dc09fb1>\u001b[0m in \u001b[0;36m<module>\u001b[0;34m\u001b[0m\n\u001b[0;32m----> 1\u001b[0;31m \u001b[0;32mfor\u001b[0m \u001b[0mobj\u001b[0m \u001b[0;32min\u001b[0m \u001b[0mget_matching_s3_keys\u001b[0m\u001b[0;34m(\u001b[0m\u001b[0mtarget_bucket\u001b[0m\u001b[0;34m,\u001b[0m \u001b[0mprefix\u001b[0m\u001b[0;34m)\u001b[0m\u001b[0;34m:\u001b[0m\u001b[0;34m\u001b[0m\u001b[0;34m\u001b[0m\u001b[0m\n\u001b[0m\u001b[1;32m      2\u001b[0m     \u001b[0mprint\u001b[0m\u001b[0;34m(\u001b[0m\u001b[0mobj\u001b[0m\u001b[0;34m)\u001b[0m\u001b[0;34m\u001b[0m\u001b[0;34m\u001b[0m\u001b[0m\n\u001b[1;32m      3\u001b[0m \u001b[0;34m\u001b[0m\u001b[0m\n\u001b[1;32m      4\u001b[0m     \u001b[0;32mif\u001b[0m \u001b[0mobj\u001b[0m\u001b[0;34m[\u001b[0m\u001b[0;34m'StorageClass'\u001b[0m\u001b[0;34m]\u001b[0m \u001b[0;34m==\u001b[0m \u001b[0;34m'GLACIER'\u001b[0m\u001b[0;34m:\u001b[0m\u001b[0;34m\u001b[0m\u001b[0;34m\u001b[0m\u001b[0m\n\u001b[1;32m      5\u001b[0m         \u001b[0mobj2\u001b[0m \u001b[0;34m=\u001b[0m \u001b[0ms3\u001b[0m\u001b[0;34m.\u001b[0m\u001b[0mObject\u001b[0m\u001b[0;34m(\u001b[0m\u001b[0mtarget_bucket\u001b[0m\u001b[0;34m,\u001b[0m \u001b[0mobj\u001b[0m\u001b[0;34m[\u001b[0m\u001b[0;34m'Key'\u001b[0m\u001b[0;34m]\u001b[0m\u001b[0;34m)\u001b[0m\u001b[0;34m\u001b[0m\u001b[0;34m\u001b[0m\u001b[0m\n",
      "\u001b[0;32m<ipython-input-168-d165b968bc61>\u001b[0m in \u001b[0;36mget_matching_s3_keys\u001b[0;34m(bucket, prefix, suffix, min_size, storage_class, restore_status)\u001b[0m\n\u001b[1;32m     27\u001b[0m         \u001b[0mresp\u001b[0m \u001b[0;34m=\u001b[0m \u001b[0ms3\u001b[0m\u001b[0;34m.\u001b[0m\u001b[0mlist_objects_v2\u001b[0m\u001b[0;34m(\u001b[0m\u001b[0;34m**\u001b[0m\u001b[0mkwargs\u001b[0m\u001b[0;34m)\u001b[0m\u001b[0;34m\u001b[0m\u001b[0;34m\u001b[0m\u001b[0m\n\u001b[1;32m     28\u001b[0m         \u001b[0mprint\u001b[0m\u001b[0;34m(\u001b[0m\u001b[0mresp\u001b[0m\u001b[0;34m)\u001b[0m\u001b[0;34m\u001b[0m\u001b[0;34m\u001b[0m\u001b[0m\n\u001b[0;32m---> 29\u001b[0;31m         \u001b[0;32mfor\u001b[0m \u001b[0mobj\u001b[0m \u001b[0;32min\u001b[0m \u001b[0mresp\u001b[0m\u001b[0;34m[\u001b[0m\u001b[0;34m'Contents'\u001b[0m\u001b[0;34m]\u001b[0m\u001b[0;34m:\u001b[0m\u001b[0;34m\u001b[0m\u001b[0;34m\u001b[0m\u001b[0m\n\u001b[0m\u001b[1;32m     30\u001b[0m \u001b[0;34m\u001b[0m\u001b[0m\n\u001b[1;32m     31\u001b[0m \u001b[0;34m\u001b[0m\u001b[0m\n",
      "\u001b[0;31mKeyError\u001b[0m: 'Contents'"
     ]
    }
   ],
   "source": [
    "\n",
    "for obj in get_matching_s3_keys(target_bucket, prefix):\n",
    "    print(obj)\n",
    "    \n",
    "    if obj['StorageClass'] == 'GLACIER':\n",
    "        obj2 = s3.Object(target_bucket, obj['Key'])\n",
    "        storage_class = obj2.storage_class\n",
    "        restore = obj2.restore\n",
    "        print(obj2.__dict__.keys())\n",
    "        print(obj2.meta.__dict__.keys())\n",
    "        for key in obj2.meta.__dict__.keys():\n",
    "            print(obj2.meta.__dict__[key])\n",
    "        print(obj2._bucket_name)\n",
    "        print(obj2._key)\n",
    "        print(storage_class, restore)\n",
    "        print(obj2)\n",
    "        glacier_list.append(obj)\n",
    "    count += 1\n",
    "    #clear_tags(target_bucket, obj['Key'])\n",
    "    if count >= limit:\n",
    "        break"
   ]
  },
  {
   "cell_type": "code",
   "execution_count": 166,
   "metadata": {},
   "outputs": [
    {
     "data": {
      "text/plain": [
       "{'ResponseMetadata': {'RequestId': 'C577AD2859014AD1',\n",
       "  'HostId': 'Eka7azro0b4In8dQnGuDHbcfis9Wo+tq/alXm+v5soG9LiZDXKHBwoGZXScEEi1XOG8De0ZkR8A=',\n",
       "  'HTTPStatusCode': 202,\n",
       "  'HTTPHeaders': {'x-amz-id-2': 'Eka7azro0b4In8dQnGuDHbcfis9Wo+tq/alXm+v5soG9LiZDXKHBwoGZXScEEi1XOG8De0ZkR8A=',\n",
       "   'x-amz-request-id': 'C577AD2859014AD1',\n",
       "   'date': 'Thu, 22 Oct 2020 21:10:16 GMT',\n",
       "   'content-length': '0',\n",
       "   'server': 'AmazonS3'},\n",
       "  'RetryAttempts': 0}}"
      ]
     },
     "execution_count": 166,
     "metadata": {},
     "output_type": "execute_result"
    }
   ],
   "source": [
    "resp"
   ]
  },
  {
   "cell_type": "code",
   "execution_count": 85,
   "metadata": {},
   "outputs": [
    {
     "data": {
      "text/plain": [
       "[{'Key': '.md5/v1/dev/stationary/DC/aiigps_log.csv.md5',\n",
       "  'LastModified': datetime.datetime(2018, 11, 12, 0, 25, 30, tzinfo=tzutc()),\n",
       "  'ETag': '\"5f16f5ab15f0c6d7ba2ad9fbf0e3d670\"',\n",
       "  'Size': 32,\n",
       "  'StorageClass': 'GLACIER',\n",
       "  'tags': []},\n",
       " {'Key': '.md5/v1/dev/stationary/DC/gpgga_log.csv.md5',\n",
       "  'LastModified': datetime.datetime(2018, 11, 12, 0, 25, 43, tzinfo=tzutc()),\n",
       "  'ETag': '\"2668d5ec8d97a98fa23070de0ecc2c6f\"',\n",
       "  'Size': 32,\n",
       "  'StorageClass': 'GLACIER',\n",
       "  'tags': []}]"
      ]
     },
     "execution_count": 85,
     "metadata": {},
     "output_type": "execute_result"
    }
   ],
   "source": [
    "glacier_list"
   ]
  },
  {
   "cell_type": "code",
   "execution_count": null,
   "metadata": {},
   "outputs": [],
   "source": [
    "count = 0\n",
    "limit = 5"
   ]
  },
  {
   "cell_type": "code",
   "execution_count": 70,
   "metadata": {},
   "outputs": [
    {
     "name": "stdout",
     "output_type": "stream",
     "text": [
      "{'Key': '.md5/v1/dev/stationary/DC/aiigps_log.csv.md5', 'LastModified': datetime.datetime(2018, 11, 12, 0, 25, 30, tzinfo=tzutc()), 'ETag': '\"5f16f5ab15f0c6d7ba2ad9fbf0e3d670\"', 'Size': 32, 'StorageClass': 'GLACIER'}\n"
     ]
    },
    {
     "ename": "AttributeError",
     "evalue": "'dict' object has no attribute 'ongoing_restore'",
     "output_type": "error",
     "traceback": [
      "\u001b[0;31m---------------------------------------------------------------------------\u001b[0m",
      "\u001b[0;31mAttributeError\u001b[0m                            Traceback (most recent call last)",
      "\u001b[0;32m<ipython-input-70-43c7a6559834>\u001b[0m in \u001b[0;36m<module>\u001b[0;34m\u001b[0m\n\u001b[1;32m     10\u001b[0m         \u001b[0;32mif\u001b[0m \u001b[0mobj\u001b[0m\u001b[0;34m[\u001b[0m\u001b[0;34m'StorageClass'\u001b[0m\u001b[0;34m]\u001b[0m \u001b[0;34m==\u001b[0m \u001b[0;34m'GLACIER'\u001b[0m\u001b[0;34m:\u001b[0m\u001b[0;34m\u001b[0m\u001b[0;34m\u001b[0m\u001b[0m\n\u001b[1;32m     11\u001b[0m             \u001b[0mprint\u001b[0m\u001b[0;34m(\u001b[0m\u001b[0mobj\u001b[0m\u001b[0;34m)\u001b[0m\u001b[0;34m\u001b[0m\u001b[0;34m\u001b[0m\u001b[0m\n\u001b[0;32m---> 12\u001b[0;31m             \u001b[0;32mif\u001b[0m \u001b[0mobj\u001b[0m\u001b[0;34m.\u001b[0m\u001b[0mongoing_restore\u001b[0m \u001b[0;32mis\u001b[0m \u001b[0;32mNone\u001b[0m\u001b[0;34m:\u001b[0m\u001b[0;34m\u001b[0m\u001b[0;34m\u001b[0m\u001b[0m\n\u001b[0m\u001b[1;32m     13\u001b[0m                 \u001b[0mprint\u001b[0m\u001b[0;34m(\u001b[0m\u001b[0;34m'Key %s is not being restored'\u001b[0m \u001b[0;34m%\u001b[0m \u001b[0mobj\u001b[0m\u001b[0;34m.\u001b[0m\u001b[0mname\u001b[0m\u001b[0;34m)\u001b[0m\u001b[0;34m\u001b[0m\u001b[0;34m\u001b[0m\u001b[0m\n\u001b[1;32m     14\u001b[0m             \u001b[0;32melif\u001b[0m \u001b[0mfull_key\u001b[0m\u001b[0;34m.\u001b[0m\u001b[0mongoing_restore\u001b[0m \u001b[0;34m==\u001b[0m \u001b[0;32mTrue\u001b[0m\u001b[0;34m:\u001b[0m\u001b[0;34m\u001b[0m\u001b[0;34m\u001b[0m\u001b[0m\n",
      "\u001b[0;31mAttributeError\u001b[0m: 'dict' object has no attribute 'ongoing_restore'"
     ]
    }
   ],
   "source": [
    "\n",
    "\n",
    "\n",
    "\n",
    "kwargs = {'Bucket': target_bucket}\n",
    "\n",
    "s3 = boto3.client('s3')\n",
    "while True:\n",
    "    # The S3 API response is a large blob of metadata.\n",
    "    # 'Contents' contains information about the listed objects.\n",
    "    resp = s3.list_objects_v2(**kwargs)\n",
    "    for obj in resp['Contents']:        \n",
    "\n",
    "        if obj['StorageClass'] == 'GLACIER':\n",
    "            print(obj)\n",
    "            if obj.ongoing_restore is None:\n",
    "                print('Key %s is not being restored' % obj.name)\n",
    "            elif full_key.ongoing_restore == True:\n",
    "                print('Key %s restore is in progress' % obj.name)\n",
    "            else:\n",
    "                print('Key %s has been restored and will expire %s' % (key.name, key.expiry_date))\n",
    "            count += 1\n",
    "\n",
    "            if count > limit:\n",
    "                break\n",
    "\n",
    "    # The S3 API is paginated, returning up to 1000 keys at a time.\n",
    "    # Pass the continuation token into the next response, until we\n",
    "    # reach the final page (when this field is missing).\n",
    "    try:\n",
    "        kwargs['ContinuationToken'] = resp['NextContinuationToken']\n",
    "    except KeyError:\n",
    "        break\n",
    "\n",
    "    \n",
    "    if count > limit:\n",
    "        break"
   ]
  },
  {
   "cell_type": "code",
   "execution_count": 102,
   "metadata": {},
   "outputs": [
    {
     "name": "stdout",
     "output_type": "stream",
     "text": [
      " None Noneght/ARL-ALL_ss_20200601.xlsx.sb-ba4aa63b-VJ24aL/Icon\n",
      " None Noneght/ARL-ALL_ss_20200601.xlsx.sb-ba4aa63b-VJ24aL/Icon\n"
     ]
    }
   ],
   "source": [
    "\n",
    "s3 = boto3.resource('s3')\n",
    "#bucket = s3.Bucket('aii-data')\n",
    "bucket = s3.Bucket('aii-archive')\n",
    "for obj_sum in bucket.objects.all():\n",
    "    obj = s3.Object(obj_sum.bucket_name, obj_sum.key)\n",
    "    storage_class = obj.storags3 = boto3.resource('s3')\n",
    "    print(obj.key, obj.storage_class, obj.restore)\n",
    "    break\n",
    "    \n"
   ]
  },
  {
   "cell_type": "code",
   "execution_count": 73,
   "metadata": {},
   "outputs": [
    {
     "data": {
      "text/plain": [
       "'ongoing-request=\"false\", expiry-date=\"Tue, 17 Nov 2020 00:00:00 GMT\"'"
      ]
     },
     "execution_count": 73,
     "metadata": {},
     "output_type": "execute_result"
    }
   ],
   "source": [
    "restore"
   ]
  },
  {
   "cell_type": "code",
   "execution_count": 125,
   "metadata": {},
   "outputs": [],
   "source": [
    "count = 0 \n",
    "limit = 10"
   ]
  },
  {
   "cell_type": "code",
   "execution_count": null,
   "metadata": {},
   "outputs": [],
   "source": [
    "obj_list = []"
   ]
  },
  {
   "cell_type": "code",
   "execution_count": 126,
   "metadata": {},
   "outputs": [
    {
     "name": "stdout",
     "output_type": "stream",
     "text": [
      "s3.ObjectSummary(bucket_name='aii-archive', key='SpectrumSight/ARL-ALL_ss_20200601.xlsx.sb-ba4aa63b-VJ24aL/Icon\\r')\n",
      " DEEP_ARCHIVE NoneALL_ss_20200601.xlsx.sb-ba4aa63b-VJ24aL/Icon\n",
      "s3.ObjectSummary(bucket_name='aii-archive', key='SpectrumSight/ARL-ALL_ss_20200602.xlsx.sb-ba4aa63b-X2pPSU/Icon\\r')\n",
      " None Noneght/ARL-ALL_ss_20200602.xlsx.sb-ba4aa63b-X2pPSU/Icon\n",
      "s3.ObjectSummary(bucket_name='aii-archive', key='SpectrumSight/Arlington/')\n",
      "SpectrumSight/Arlington/ None None\n",
      "s3.ObjectSummary(bucket_name='aii-archive', key='SpectrumSight/Arlington/ARL-ALL_ss_0403-04192020.xlsx')\n",
      "SpectrumSight/Arlington/ARL-ALL_ss_0403-04192020.xlsx DEEP_ARCHIVE None\n",
      "s3.ObjectSummary(bucket_name='aii-archive', key='SpectrumSight/Arlington/ARL-ALL_ss_04202020.csv')\n",
      "SpectrumSight/Arlington/ARL-ALL_ss_04202020.csv DEEP_ARCHIVE None\n",
      "s3.ObjectSummary(bucket_name='aii-archive', key='SpectrumSight/Arlington/ARL-ALL_ss_04202020.xlsx')\n",
      "SpectrumSight/Arlington/ARL-ALL_ss_04202020.xlsx DEEP_ARCHIVE None\n",
      "s3.ObjectSummary(bucket_name='aii-archive', key='SpectrumSight/Arlington/ARL-ALL_ss_04212020.csv')\n",
      "SpectrumSight/Arlington/ARL-ALL_ss_04212020.csv DEEP_ARCHIVE None\n",
      "s3.ObjectSummary(bucket_name='aii-archive', key='SpectrumSight/Arlington/ARL-ALL_ss_04212020.xlsx')\n",
      "SpectrumSight/Arlington/ARL-ALL_ss_04212020.xlsx DEEP_ARCHIVE None\n",
      "s3.ObjectSummary(bucket_name='aii-archive', key='SpectrumSight/Arlington/ARL-ALL_ss_04222020.csv')\n",
      "SpectrumSight/Arlington/ARL-ALL_ss_04222020.csv DEEP_ARCHIVE None\n",
      "s3.ObjectSummary(bucket_name='aii-archive', key='SpectrumSight/Arlington/ARL-ALL_ss_04222020.xlsx')\n",
      "SpectrumSight/Arlington/ARL-ALL_ss_04222020.xlsx DEEP_ARCHIVE None\n"
     ]
    }
   ],
   "source": [
    "bucket = s3.Bucket('aii-archive')\n",
    "for obj_sum in bucket.objects.all():\n",
    "    print(obj_sum)\n",
    "    obj = s3.Object(obj_sum.bucket_name, obj_sum.key)\n",
    "    storage_class = obj.storage_class\n",
    "    restore = obj.restore\n",
    "    print(obj.key, obj.storage_class, obj.restore)\n",
    "    obj_list.append(obj)\n",
    "\n",
    "    count += 1\n",
    "    if count >= limit:    \n",
    "        break"
   ]
  },
  {
   "cell_type": "code",
   "execution_count": 132,
   "metadata": {},
   "outputs": [
    {
     "name": "stdout",
     "output_type": "stream",
     "text": [
      "s3.Object(bucket_name='aii-archive', key='SpectrumSight/Arlington/ARL-ALL_ss_04222020.xlsx')\n"
     ]
    }
   ],
   "source": [
    "print(obj)"
   ]
  },
  {
   "cell_type": "code",
   "execution_count": 131,
   "metadata": {},
   "outputs": [
    {
     "name": "stdout",
     "output_type": "stream",
     "text": [
      "{'Bucket': 'aii-archive', 'Key': 'SpectrumSight/Arlington/ARL-ALL_ss_04222020.xlsx'}\n"
     ]
    },
    {
     "ename": "ClientError",
     "evalue": "An error occurred (InvalidObjectState) when calling the UploadPartCopy operation: Operation is not valid for the source object's storage class",
     "output_type": "error",
     "traceback": [
      "\u001b[0;31m---------------------------------------------------------------------------\u001b[0m",
      "\u001b[0;31mClientError\u001b[0m                               Traceback (most recent call last)",
      "\u001b[0;32m<ipython-input-131-36731f572cef>\u001b[0m in \u001b[0;36m<module>\u001b[0;34m\u001b[0m\n\u001b[1;32m      4\u001b[0m }\n\u001b[1;32m      5\u001b[0m \u001b[0mprint\u001b[0m\u001b[0;34m(\u001b[0m\u001b[0mcopy_source\u001b[0m\u001b[0;34m)\u001b[0m\u001b[0;34m\u001b[0m\u001b[0;34m\u001b[0m\u001b[0m\n\u001b[0;32m----> 6\u001b[0;31m s3_client.copy(copy_source, bucket.name, obj.key, \n\u001b[0m\u001b[1;32m      7\u001b[0m                ExtraArgs = {'StorageClass': 'STANDARD_IA','MetadataDirective': 'COPY'})\n",
      "\u001b[0;32m~/opt/anaconda3/envs/p38_jupy/lib/python3.8/site-packages/boto3/s3/inject.py\u001b[0m in \u001b[0;36mcopy\u001b[0;34m(self, CopySource, Bucket, Key, ExtraArgs, Callback, SourceClient, Config)\u001b[0m\n\u001b[1;32m    377\u001b[0m             \u001b[0mextra_args\u001b[0m\u001b[0;34m=\u001b[0m\u001b[0mExtraArgs\u001b[0m\u001b[0;34m,\u001b[0m \u001b[0msubscribers\u001b[0m\u001b[0;34m=\u001b[0m\u001b[0msubscribers\u001b[0m\u001b[0;34m,\u001b[0m\u001b[0;34m\u001b[0m\u001b[0;34m\u001b[0m\u001b[0m\n\u001b[1;32m    378\u001b[0m             source_client=SourceClient)\n\u001b[0;32m--> 379\u001b[0;31m         \u001b[0;32mreturn\u001b[0m \u001b[0mfuture\u001b[0m\u001b[0;34m.\u001b[0m\u001b[0mresult\u001b[0m\u001b[0;34m(\u001b[0m\u001b[0;34m)\u001b[0m\u001b[0;34m\u001b[0m\u001b[0;34m\u001b[0m\u001b[0m\n\u001b[0m\u001b[1;32m    380\u001b[0m \u001b[0;34m\u001b[0m\u001b[0m\n\u001b[1;32m    381\u001b[0m \u001b[0;34m\u001b[0m\u001b[0m\n",
      "\u001b[0;32m~/opt/anaconda3/envs/p38_jupy/lib/python3.8/site-packages/s3transfer/futures.py\u001b[0m in \u001b[0;36mresult\u001b[0;34m(self)\u001b[0m\n\u001b[1;32m    104\u001b[0m             \u001b[0;31m# however if a KeyboardInterrupt is raised we want want to exit\u001b[0m\u001b[0;34m\u001b[0m\u001b[0;34m\u001b[0m\u001b[0;34m\u001b[0m\u001b[0m\n\u001b[1;32m    105\u001b[0m             \u001b[0;31m# out of this and propogate the exception.\u001b[0m\u001b[0;34m\u001b[0m\u001b[0;34m\u001b[0m\u001b[0;34m\u001b[0m\u001b[0m\n\u001b[0;32m--> 106\u001b[0;31m             \u001b[0;32mreturn\u001b[0m \u001b[0mself\u001b[0m\u001b[0;34m.\u001b[0m\u001b[0m_coordinator\u001b[0m\u001b[0;34m.\u001b[0m\u001b[0mresult\u001b[0m\u001b[0;34m(\u001b[0m\u001b[0;34m)\u001b[0m\u001b[0;34m\u001b[0m\u001b[0;34m\u001b[0m\u001b[0m\n\u001b[0m\u001b[1;32m    107\u001b[0m         \u001b[0;32mexcept\u001b[0m \u001b[0mKeyboardInterrupt\u001b[0m \u001b[0;32mas\u001b[0m \u001b[0me\u001b[0m\u001b[0;34m:\u001b[0m\u001b[0;34m\u001b[0m\u001b[0;34m\u001b[0m\u001b[0m\n\u001b[1;32m    108\u001b[0m             \u001b[0mself\u001b[0m\u001b[0;34m.\u001b[0m\u001b[0mcancel\u001b[0m\u001b[0;34m(\u001b[0m\u001b[0;34m)\u001b[0m\u001b[0;34m\u001b[0m\u001b[0;34m\u001b[0m\u001b[0m\n",
      "\u001b[0;32m~/opt/anaconda3/envs/p38_jupy/lib/python3.8/site-packages/s3transfer/futures.py\u001b[0m in \u001b[0;36mresult\u001b[0;34m(self)\u001b[0m\n\u001b[1;32m    263\u001b[0m         \u001b[0;31m# final result.\u001b[0m\u001b[0;34m\u001b[0m\u001b[0;34m\u001b[0m\u001b[0;34m\u001b[0m\u001b[0m\n\u001b[1;32m    264\u001b[0m         \u001b[0;32mif\u001b[0m \u001b[0mself\u001b[0m\u001b[0;34m.\u001b[0m\u001b[0m_exception\u001b[0m\u001b[0;34m:\u001b[0m\u001b[0;34m\u001b[0m\u001b[0;34m\u001b[0m\u001b[0m\n\u001b[0;32m--> 265\u001b[0;31m             \u001b[0;32mraise\u001b[0m \u001b[0mself\u001b[0m\u001b[0;34m.\u001b[0m\u001b[0m_exception\u001b[0m\u001b[0;34m\u001b[0m\u001b[0;34m\u001b[0m\u001b[0m\n\u001b[0m\u001b[1;32m    266\u001b[0m         \u001b[0;32mreturn\u001b[0m \u001b[0mself\u001b[0m\u001b[0;34m.\u001b[0m\u001b[0m_result\u001b[0m\u001b[0;34m\u001b[0m\u001b[0;34m\u001b[0m\u001b[0m\n\u001b[1;32m    267\u001b[0m \u001b[0;34m\u001b[0m\u001b[0m\n",
      "\u001b[0;32m~/opt/anaconda3/envs/p38_jupy/lib/python3.8/site-packages/s3transfer/tasks.py\u001b[0m in \u001b[0;36m__call__\u001b[0;34m(self)\u001b[0m\n\u001b[1;32m    124\u001b[0m             \u001b[0;31m# main() method.\u001b[0m\u001b[0;34m\u001b[0m\u001b[0;34m\u001b[0m\u001b[0;34m\u001b[0m\u001b[0m\n\u001b[1;32m    125\u001b[0m             \u001b[0;32mif\u001b[0m \u001b[0;32mnot\u001b[0m \u001b[0mself\u001b[0m\u001b[0;34m.\u001b[0m\u001b[0m_transfer_coordinator\u001b[0m\u001b[0;34m.\u001b[0m\u001b[0mdone\u001b[0m\u001b[0;34m(\u001b[0m\u001b[0;34m)\u001b[0m\u001b[0;34m:\u001b[0m\u001b[0;34m\u001b[0m\u001b[0;34m\u001b[0m\u001b[0m\n\u001b[0;32m--> 126\u001b[0;31m                 \u001b[0;32mreturn\u001b[0m \u001b[0mself\u001b[0m\u001b[0;34m.\u001b[0m\u001b[0m_execute_main\u001b[0m\u001b[0;34m(\u001b[0m\u001b[0mkwargs\u001b[0m\u001b[0;34m)\u001b[0m\u001b[0;34m\u001b[0m\u001b[0;34m\u001b[0m\u001b[0m\n\u001b[0m\u001b[1;32m    127\u001b[0m         \u001b[0;32mexcept\u001b[0m \u001b[0mException\u001b[0m \u001b[0;32mas\u001b[0m \u001b[0me\u001b[0m\u001b[0;34m:\u001b[0m\u001b[0;34m\u001b[0m\u001b[0;34m\u001b[0m\u001b[0m\n\u001b[1;32m    128\u001b[0m             \u001b[0mself\u001b[0m\u001b[0;34m.\u001b[0m\u001b[0m_log_and_set_exception\u001b[0m\u001b[0;34m(\u001b[0m\u001b[0me\u001b[0m\u001b[0;34m)\u001b[0m\u001b[0;34m\u001b[0m\u001b[0;34m\u001b[0m\u001b[0m\n",
      "\u001b[0;32m~/opt/anaconda3/envs/p38_jupy/lib/python3.8/site-packages/s3transfer/tasks.py\u001b[0m in \u001b[0;36m_execute_main\u001b[0;34m(self, kwargs)\u001b[0m\n\u001b[1;32m    148\u001b[0m         )\n\u001b[1;32m    149\u001b[0m \u001b[0;34m\u001b[0m\u001b[0m\n\u001b[0;32m--> 150\u001b[0;31m         \u001b[0mreturn_value\u001b[0m \u001b[0;34m=\u001b[0m \u001b[0mself\u001b[0m\u001b[0;34m.\u001b[0m\u001b[0m_main\u001b[0m\u001b[0;34m(\u001b[0m\u001b[0;34m**\u001b[0m\u001b[0mkwargs\u001b[0m\u001b[0;34m)\u001b[0m\u001b[0;34m\u001b[0m\u001b[0;34m\u001b[0m\u001b[0m\n\u001b[0m\u001b[1;32m    151\u001b[0m         \u001b[0;31m# If the task is the final task, then set the TransferFuture's\u001b[0m\u001b[0;34m\u001b[0m\u001b[0;34m\u001b[0m\u001b[0;34m\u001b[0m\u001b[0m\n\u001b[1;32m    152\u001b[0m         \u001b[0;31m# value to the return value from main().\u001b[0m\u001b[0;34m\u001b[0m\u001b[0;34m\u001b[0m\u001b[0;34m\u001b[0m\u001b[0m\n",
      "\u001b[0;32m~/opt/anaconda3/envs/p38_jupy/lib/python3.8/site-packages/s3transfer/copies.py\u001b[0m in \u001b[0;36m_main\u001b[0;34m(self, client, copy_source, bucket, key, upload_id, part_number, extra_args, callbacks, size)\u001b[0m\n\u001b[1;32m    316\u001b[0m             \u001b[0mthe\u001b[0m \u001b[0mmultipart\u001b[0m \u001b[0mupload\u001b[0m\u001b[0;34m.\u001b[0m\u001b[0;34m\u001b[0m\u001b[0;34m\u001b[0m\u001b[0m\n\u001b[1;32m    317\u001b[0m         \"\"\"\n\u001b[0;32m--> 318\u001b[0;31m         response = client.upload_part_copy(\n\u001b[0m\u001b[1;32m    319\u001b[0m             \u001b[0mCopySource\u001b[0m\u001b[0;34m=\u001b[0m\u001b[0mcopy_source\u001b[0m\u001b[0;34m,\u001b[0m \u001b[0mBucket\u001b[0m\u001b[0;34m=\u001b[0m\u001b[0mbucket\u001b[0m\u001b[0;34m,\u001b[0m \u001b[0mKey\u001b[0m\u001b[0;34m=\u001b[0m\u001b[0mkey\u001b[0m\u001b[0;34m,\u001b[0m\u001b[0;34m\u001b[0m\u001b[0;34m\u001b[0m\u001b[0m\n\u001b[1;32m    320\u001b[0m             UploadId=upload_id, PartNumber=part_number, **extra_args)\n",
      "\u001b[0;32m~/opt/anaconda3/envs/p38_jupy/lib/python3.8/site-packages/botocore/client.py\u001b[0m in \u001b[0;36m_api_call\u001b[0;34m(self, *args, **kwargs)\u001b[0m\n\u001b[1;32m    355\u001b[0m                     \"%s() only accepts keyword arguments.\" % py_operation_name)\n\u001b[1;32m    356\u001b[0m             \u001b[0;31m# The \"self\" in this scope is referring to the BaseClient.\u001b[0m\u001b[0;34m\u001b[0m\u001b[0;34m\u001b[0m\u001b[0;34m\u001b[0m\u001b[0m\n\u001b[0;32m--> 357\u001b[0;31m             \u001b[0;32mreturn\u001b[0m \u001b[0mself\u001b[0m\u001b[0;34m.\u001b[0m\u001b[0m_make_api_call\u001b[0m\u001b[0;34m(\u001b[0m\u001b[0moperation_name\u001b[0m\u001b[0;34m,\u001b[0m \u001b[0mkwargs\u001b[0m\u001b[0;34m)\u001b[0m\u001b[0;34m\u001b[0m\u001b[0;34m\u001b[0m\u001b[0m\n\u001b[0m\u001b[1;32m    358\u001b[0m \u001b[0;34m\u001b[0m\u001b[0m\n\u001b[1;32m    359\u001b[0m         \u001b[0m_api_call\u001b[0m\u001b[0;34m.\u001b[0m\u001b[0m__name__\u001b[0m \u001b[0;34m=\u001b[0m \u001b[0mstr\u001b[0m\u001b[0;34m(\u001b[0m\u001b[0mpy_operation_name\u001b[0m\u001b[0;34m)\u001b[0m\u001b[0;34m\u001b[0m\u001b[0;34m\u001b[0m\u001b[0m\n",
      "\u001b[0;32m~/opt/anaconda3/envs/p38_jupy/lib/python3.8/site-packages/botocore/client.py\u001b[0m in \u001b[0;36m_make_api_call\u001b[0;34m(self, operation_name, api_params)\u001b[0m\n\u001b[1;32m    674\u001b[0m             \u001b[0merror_code\u001b[0m \u001b[0;34m=\u001b[0m \u001b[0mparsed_response\u001b[0m\u001b[0;34m.\u001b[0m\u001b[0mget\u001b[0m\u001b[0;34m(\u001b[0m\u001b[0;34m\"Error\"\u001b[0m\u001b[0;34m,\u001b[0m \u001b[0;34m{\u001b[0m\u001b[0;34m}\u001b[0m\u001b[0;34m)\u001b[0m\u001b[0;34m.\u001b[0m\u001b[0mget\u001b[0m\u001b[0;34m(\u001b[0m\u001b[0;34m\"Code\"\u001b[0m\u001b[0;34m)\u001b[0m\u001b[0;34m\u001b[0m\u001b[0;34m\u001b[0m\u001b[0m\n\u001b[1;32m    675\u001b[0m             \u001b[0merror_class\u001b[0m \u001b[0;34m=\u001b[0m \u001b[0mself\u001b[0m\u001b[0;34m.\u001b[0m\u001b[0mexceptions\u001b[0m\u001b[0;34m.\u001b[0m\u001b[0mfrom_code\u001b[0m\u001b[0;34m(\u001b[0m\u001b[0merror_code\u001b[0m\u001b[0;34m)\u001b[0m\u001b[0;34m\u001b[0m\u001b[0;34m\u001b[0m\u001b[0m\n\u001b[0;32m--> 676\u001b[0;31m             \u001b[0;32mraise\u001b[0m \u001b[0merror_class\u001b[0m\u001b[0;34m(\u001b[0m\u001b[0mparsed_response\u001b[0m\u001b[0;34m,\u001b[0m \u001b[0moperation_name\u001b[0m\u001b[0;34m)\u001b[0m\u001b[0;34m\u001b[0m\u001b[0;34m\u001b[0m\u001b[0m\n\u001b[0m\u001b[1;32m    677\u001b[0m         \u001b[0;32melse\u001b[0m\u001b[0;34m:\u001b[0m\u001b[0;34m\u001b[0m\u001b[0;34m\u001b[0m\u001b[0m\n\u001b[1;32m    678\u001b[0m             \u001b[0;32mreturn\u001b[0m \u001b[0mparsed_response\u001b[0m\u001b[0;34m\u001b[0m\u001b[0;34m\u001b[0m\u001b[0m\n",
      "\u001b[0;31mClientError\u001b[0m: An error occurred (InvalidObjectState) when calling the UploadPartCopy operation: Operation is not valid for the source object's storage class"
     ]
    }
   ],
   "source": [
    "\n",
    "copy_source = {\n",
    "    'Bucket': bucket.name,\n",
    "    'Key': obj.key\n",
    "}\n",
    "print(copy_source)\n",
    "s3_client.copy(copy_source, bucket.name, obj.key, \n",
    "               ExtraArgs = {'StorageClass': 'STANDARD_IA','MetadataDirective': 'COPY'})"
   ]
  },
  {
   "cell_type": "code",
   "execution_count": 133,
   "metadata": {},
   "outputs": [],
   "source": [
    "resp = bucket.meta.client.restore_object(\n",
    "    Bucket=bucket.name,\n",
    "    Key=obj.key,\n",
    "    RestoreRequest={'Days': 1}\n",
    ")"
   ]
  },
  {
   "cell_type": "code",
   "execution_count": 74,
   "metadata": {},
   "outputs": [
    {
     "data": {
      "text/plain": [
       "s3.Object(bucket_name='aii-data', key='.md5/v1/dev/stationary/DC/aiigps_log.csv.md5')"
      ]
     },
     "execution_count": 74,
     "metadata": {},
     "output_type": "execute_result"
    }
   ],
   "source": [
    "obj"
   ]
  },
  {
   "cell_type": "code",
   "execution_count": 75,
   "metadata": {},
   "outputs": [
    {
     "data": {
      "text/plain": [
       "s3.ObjectSummary(bucket_name='aii-data', key='.md5/v1/dev/stationary/DC/aiigps_log.csv.md5')"
      ]
     },
     "execution_count": 75,
     "metadata": {},
     "output_type": "execute_result"
    }
   ],
   "source": [
    "obj_sum"
   ]
  },
  {
   "cell_type": "code",
   "execution_count": 112,
   "metadata": {},
   "outputs": [
    {
     "ename": "ClientError",
     "evalue": "An error occurred (InvalidObjectState) when calling the RestoreObject operation: Restore is not allowed for the object's current storage class",
     "output_type": "error",
     "traceback": [
      "\u001b[0;31m---------------------------------------------------------------------------\u001b[0m",
      "\u001b[0;31mClientError\u001b[0m                               Traceback (most recent call last)",
      "\u001b[0;32m<ipython-input-112-49c5c91014b4>\u001b[0m in \u001b[0;36m<module>\u001b[0;34m\u001b[0m\n\u001b[1;32m      2\u001b[0m \u001b[0mbucket\u001b[0m \u001b[0;34m=\u001b[0m \u001b[0ms3\u001b[0m\u001b[0;34m.\u001b[0m\u001b[0mBucket\u001b[0m\u001b[0;34m(\u001b[0m\u001b[0;34m'aii-archive'\u001b[0m\u001b[0;34m)\u001b[0m\u001b[0;34m\u001b[0m\u001b[0;34m\u001b[0m\u001b[0m\n\u001b[1;32m      3\u001b[0m \u001b[0;32mfor\u001b[0m \u001b[0mobj_sum\u001b[0m \u001b[0;32min\u001b[0m \u001b[0mbucket\u001b[0m\u001b[0;34m.\u001b[0m\u001b[0mobjects\u001b[0m\u001b[0;34m.\u001b[0m\u001b[0mall\u001b[0m\u001b[0;34m(\u001b[0m\u001b[0;34m)\u001b[0m\u001b[0;34m:\u001b[0m\u001b[0;34m\u001b[0m\u001b[0;34m\u001b[0m\u001b[0m\n\u001b[0;32m----> 4\u001b[0;31m     resp = bucket.meta.client.restore_object(\n\u001b[0m\u001b[1;32m      5\u001b[0m         \u001b[0mBucket\u001b[0m\u001b[0;34m=\u001b[0m\u001b[0mobj_sum\u001b[0m\u001b[0;34m.\u001b[0m\u001b[0mbucket_name\u001b[0m\u001b[0;34m,\u001b[0m\u001b[0;34m\u001b[0m\u001b[0;34m\u001b[0m\u001b[0m\n\u001b[1;32m      6\u001b[0m         \u001b[0mKey\u001b[0m\u001b[0;34m=\u001b[0m\u001b[0mobj_sum\u001b[0m\u001b[0;34m.\u001b[0m\u001b[0mkey\u001b[0m\u001b[0;34m,\u001b[0m\u001b[0;34m\u001b[0m\u001b[0;34m\u001b[0m\u001b[0m\n",
      "\u001b[0;32m~/opt/anaconda3/envs/p38_jupy/lib/python3.8/site-packages/botocore/client.py\u001b[0m in \u001b[0;36m_api_call\u001b[0;34m(self, *args, **kwargs)\u001b[0m\n\u001b[1;32m    355\u001b[0m                     \"%s() only accepts keyword arguments.\" % py_operation_name)\n\u001b[1;32m    356\u001b[0m             \u001b[0;31m# The \"self\" in this scope is referring to the BaseClient.\u001b[0m\u001b[0;34m\u001b[0m\u001b[0;34m\u001b[0m\u001b[0;34m\u001b[0m\u001b[0m\n\u001b[0;32m--> 357\u001b[0;31m             \u001b[0;32mreturn\u001b[0m \u001b[0mself\u001b[0m\u001b[0;34m.\u001b[0m\u001b[0m_make_api_call\u001b[0m\u001b[0;34m(\u001b[0m\u001b[0moperation_name\u001b[0m\u001b[0;34m,\u001b[0m \u001b[0mkwargs\u001b[0m\u001b[0;34m)\u001b[0m\u001b[0;34m\u001b[0m\u001b[0;34m\u001b[0m\u001b[0m\n\u001b[0m\u001b[1;32m    358\u001b[0m \u001b[0;34m\u001b[0m\u001b[0m\n\u001b[1;32m    359\u001b[0m         \u001b[0m_api_call\u001b[0m\u001b[0;34m.\u001b[0m\u001b[0m__name__\u001b[0m \u001b[0;34m=\u001b[0m \u001b[0mstr\u001b[0m\u001b[0;34m(\u001b[0m\u001b[0mpy_operation_name\u001b[0m\u001b[0;34m)\u001b[0m\u001b[0;34m\u001b[0m\u001b[0;34m\u001b[0m\u001b[0m\n",
      "\u001b[0;32m~/opt/anaconda3/envs/p38_jupy/lib/python3.8/site-packages/botocore/client.py\u001b[0m in \u001b[0;36m_make_api_call\u001b[0;34m(self, operation_name, api_params)\u001b[0m\n\u001b[1;32m    674\u001b[0m             \u001b[0merror_code\u001b[0m \u001b[0;34m=\u001b[0m \u001b[0mparsed_response\u001b[0m\u001b[0;34m.\u001b[0m\u001b[0mget\u001b[0m\u001b[0;34m(\u001b[0m\u001b[0;34m\"Error\"\u001b[0m\u001b[0;34m,\u001b[0m \u001b[0;34m{\u001b[0m\u001b[0;34m}\u001b[0m\u001b[0;34m)\u001b[0m\u001b[0;34m.\u001b[0m\u001b[0mget\u001b[0m\u001b[0;34m(\u001b[0m\u001b[0;34m\"Code\"\u001b[0m\u001b[0;34m)\u001b[0m\u001b[0;34m\u001b[0m\u001b[0;34m\u001b[0m\u001b[0m\n\u001b[1;32m    675\u001b[0m             \u001b[0merror_class\u001b[0m \u001b[0;34m=\u001b[0m \u001b[0mself\u001b[0m\u001b[0;34m.\u001b[0m\u001b[0mexceptions\u001b[0m\u001b[0;34m.\u001b[0m\u001b[0mfrom_code\u001b[0m\u001b[0;34m(\u001b[0m\u001b[0merror_code\u001b[0m\u001b[0;34m)\u001b[0m\u001b[0;34m\u001b[0m\u001b[0;34m\u001b[0m\u001b[0m\n\u001b[0;32m--> 676\u001b[0;31m             \u001b[0;32mraise\u001b[0m \u001b[0merror_class\u001b[0m\u001b[0;34m(\u001b[0m\u001b[0mparsed_response\u001b[0m\u001b[0;34m,\u001b[0m \u001b[0moperation_name\u001b[0m\u001b[0;34m)\u001b[0m\u001b[0;34m\u001b[0m\u001b[0;34m\u001b[0m\u001b[0m\n\u001b[0m\u001b[1;32m    677\u001b[0m         \u001b[0;32melse\u001b[0m\u001b[0;34m:\u001b[0m\u001b[0;34m\u001b[0m\u001b[0;34m\u001b[0m\u001b[0m\n\u001b[1;32m    678\u001b[0m             \u001b[0;32mreturn\u001b[0m \u001b[0mparsed_response\u001b[0m\u001b[0;34m\u001b[0m\u001b[0;34m\u001b[0m\u001b[0m\n",
      "\u001b[0;31mClientError\u001b[0m: An error occurred (InvalidObjectState) when calling the RestoreObject operation: Restore is not allowed for the object's current storage class"
     ]
    }
   ],
   "source": [
    "\n",
    "#bucket = s3.Bucket('aii-data')\n",
    "bucket = s3.Bucket('aii-archive')\n",
    "for obj_sum in bucket.objects.all():\n",
    "    resp = bucket.meta.client.restore_object(\n",
    "        Bucket=obj_sum.bucket_name,\n",
    "        Key=obj_sum.key,\n",
    "        RestoreRequest={'Days': 1}\n",
    "    )\n",
    "    break"
   ]
  },
  {
   "cell_type": "code",
   "execution_count": 79,
   "metadata": {},
   "outputs": [
    {
     "data": {
      "text/plain": [
       "{'ResponseMetadata': {'RequestId': '9M7K5S7V7R7HBZ7G',\n",
       "  'HostId': 'NJ8w+Bj9KAcolnH5C35jolYUl9woGojSKKO/uyl1JY8e+CAlAGEvxN4taRpvcsuA/twXLFkqgZo=',\n",
       "  'HTTPStatusCode': 200,\n",
       "  'HTTPHeaders': {'x-amz-id-2': 'NJ8w+Bj9KAcolnH5C35jolYUl9woGojSKKO/uyl1JY8e+CAlAGEvxN4taRpvcsuA/twXLFkqgZo=',\n",
       "   'x-amz-request-id': '9M7K5S7V7R7HBZ7G',\n",
       "   'date': 'Thu, 22 Oct 2020 14:21:41 GMT',\n",
       "   'x-amz-version-id': 'nvX3Q1XaATt2t6SSUgctVhEkrT6zesso',\n",
       "   'content-length': '0',\n",
       "   'server': 'AmazonS3'},\n",
       "  'RetryAttempts': 0}}"
      ]
     },
     "execution_count": 79,
     "metadata": {},
     "output_type": "execute_result"
    }
   ],
   "source": [
    "resp"
   ]
  },
  {
   "cell_type": "code",
   "execution_count": 80,
   "metadata": {},
   "outputs": [
    {
     "name": "stdout",
     "output_type": "stream",
     "text": [
      ".md5/v1/dev/stationary/DC/aiigps_log.csv.md5 GLACIER ongoing-request=\"false\", expiry-date=\"Sat, 24 Oct 2020 00:00:00 GMT\"\n"
     ]
    }
   ],
   "source": [
    "bucket = s3.Bucket('aii-data')\n",
    "for obj_sum in bucket.objects.all():\n",
    "    obj = s3.Object(obj_sum.bucket_name, obj_sum.key)\n",
    "    storage_class = obj.storage_class\n",
    "    restore = obj.restore\n",
    "    print(obj.key, obj.storage_class, obj.restore)\n",
    "    break"
   ]
  },
  {
   "cell_type": "code",
   "execution_count": null,
   "metadata": {},
   "outputs": [],
   "source": []
  }
 ],
 "metadata": {
  "kernelspec": {
   "display_name": "Python 3",
   "language": "python",
   "name": "python3"
  },
  "language_info": {
   "codemirror_mode": {
    "name": "ipython",
    "version": 3
   },
   "file_extension": ".py",
   "mimetype": "text/x-python",
   "name": "python",
   "nbconvert_exporter": "python",
   "pygments_lexer": "ipython3",
   "version": "3.8.5"
  }
 },
 "nbformat": 4,
 "nbformat_minor": 4
}
