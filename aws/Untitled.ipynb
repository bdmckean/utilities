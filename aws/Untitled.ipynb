{
 "cells": [
  {
   "cell_type": "code",
   "execution_count": 31,
   "metadata": {},
   "outputs": [],
   "source": [
    "import os\n",
    "import pandas as pd\n",
    "import numpy as np"
   ]
  },
  {
   "cell_type": "code",
   "execution_count": 32,
   "metadata": {},
   "outputs": [],
   "source": [
    "file_dir = '/Users/brianm/Dropbox/cc_AuroraInsight/repo/aii-infra/prefect/temp'"
   ]
  },
  {
   "cell_type": "code",
   "execution_count": 33,
   "metadata": {},
   "outputs": [],
   "source": [
    "file_list = os.listdir(file_dir)"
   ]
  },
  {
   "cell_type": "code",
   "execution_count": 36,
   "metadata": {},
   "outputs": [],
   "source": [
    "file_list_of_interest = [x for x in file_list if 'iq_out_RX2_31A935E_0_1601069390_' in x]"
   ]
  },
  {
   "cell_type": "code",
   "execution_count": 37,
   "metadata": {},
   "outputs": [
    {
     "data": {
      "text/plain": [
       "['iq_out_RX2_31A935E_0_1601069390_1953000kHz_LTE_v01_07.csv',\n",
       " 'iq_out_RX2_31A935E_0_1601069390_1937500kHz_LTE_v01_07.csv',\n",
       " 'iq_out_RX2_31A935E_0_1601069390_2620600kHz_LTE_v01_07.csv',\n",
       " 'iq_out_RX2_31A935E_0_1601069390_2680000kHz_LTE_v01_07.csv',\n",
       " 'iq_out_RX2_31A935E_0_1601069390_1932500kHz_LTE_v01_07.csv',\n",
       " 'iq_out_RX2_31A935E_0_1601069390_0751000kHz_LTE_v01_07.csv',\n",
       " 'iq_out_RX2_31A935E_0_1601069390_2538200kHz_LTE_v01_07.csv',\n",
       " 'iq_out_RX2_31A935E_0_1601069390_1992500kHz_LTE_v01_07.csv',\n",
       " 'iq_out_RX2_31A935E_0_1601069390_2577800kHz_LTE_v01_07.csv',\n",
       " 'iq_out_RX2_31A935E_0_1601069390_0642000kHz_LTE_v01_07.csv',\n",
       " 'iq_out_RX2_31A935E_0_1601069390_2125000kHz_LTE_v01_07.csv',\n",
       " 'iq_out_RX2_31A935E_0_1601069390_0763000kHz_LTE_v01_07.csv',\n",
       " 'iq_out_RX2_31A935E_0_1601069390_2518400kHz_LTE_v01_07.csv',\n",
       " 'iq_out_RX2_31A935E_0_1601069390_2120000kHz_LTE_v01_07.csv',\n",
       " 'iq_out_RX2_31A935E_0_1601069390_2665700kHz_LTE_v01_07.csv',\n",
       " 'iq_out_RX2_31A935E_0_1601069390_2145000kHz_LTE_v01_07.csv',\n",
       " 'iq_out_RX2_31A935E_0_1601069390_2558000kHz_LTE_v01_07.csv',\n",
       " 'iq_out_RX2_31A935E_0_1601069390_1972500kHz_LTE_v01_07.csv',\n",
       " 'iq_out_RX2_31A935E_0_1601069390_2525800kHz_LTE_v01_07.csv',\n",
       " 'iq_out_RX2_31A935E_0_1601069390_2157500kHz_LTE_v01_07.csv',\n",
       " 'iq_out_RX2_31A935E_0_1601069390_2545600kHz_LTE_v01_07.csv',\n",
       " 'iq_out_RX2_31A935E_0_1601069390_2165000kHz_LTE_v01_07.csv',\n",
       " 'iq_out_RX2_31A935E_0_1601069390_0742500kHz_LTE_v01_07.csv',\n",
       " 'iq_out_RX2_31A935E_0_1601069390_2660200kHz_LTE_v01_07.csv',\n",
       " 'iq_out_RX2_31A935E_0_1601069390_0871500kHz_LTE_v01_07.csv',\n",
       " 'iq_out_RX2_31A935E_0_1601069390_2172500kHz_LTE_v01_07.csv',\n",
       " 'iq_out_RX2_31A935E_0_1601069390_0866300kHz_LTE_v01_07.csv',\n",
       " 'iq_out_RX2_31A935E_0_1601069390_0887500kHz_LTE_v01_07.csv',\n",
       " 'iq_out_RX2_31A935E_0_1601069390_0731500kHz_LTE_v01_07.csv',\n",
       " 'iq_out_RX2_31A935E_0_1601069390_2640400kHz_LTE_v01_07.csv',\n",
       " 'iq_out_RX2_31A935E_0_1601069390_2355000kHz_LTE_v01_07.csv',\n",
       " 'iq_out_RX2_31A935E_0_1601069390_0624500kHz_LTE_v01_07.csv',\n",
       " 'iq_out_RX2_31A935E_0_1601069390_2135000kHz_LTE_v01_07.csv',\n",
       " 'iq_out_RX2_31A935E_0_1601069390_1982500kHz_LTE_v01_07.csv',\n",
       " 'iq_out_RX2_31A935E_0_1601069390_2506000kHz_LTE_v01_07.csv',\n",
       " 'iq_out_RX2_31A935E_0_1601069390_2628800kHz_LTE_v01_07.csv',\n",
       " 'iq_out_RX2_31A935E_0_1601069390_2648600kHz_LTE_v01_07.csv',\n",
       " 'iq_out_RX2_31A935E_0_1601069390_1967500kHz_LTE_v01_07.csv',\n",
       " 'iq_out_RX2_31A935E_0_1601069390_1962500kHz_LTE_v01_07.csv',\n",
       " 'iq_out_RX2_31A935E_0_1601069390_1955000kHz_LTE_v01_07.csv',\n",
       " 'iq_out_RX2_31A935E_0_1601069390_0739000kHz_LTE_v01_07.csv',\n",
       " 'iq_out_RX2_31A935E_0_1601069390_0719500kHz_LTE_v01_07.csv',\n",
       " 'iq_out_RX2_31A935E_0_1601069390_2668400kHz_LTE_v01_07.csv',\n",
       " 'iq_out_RX2_31A935E_0_1601069390_1942500kHz_LTE_v01_07.csv',\n",
       " 'iq_out_RX2_31A935E_0_1601069390_2175000kHz_LTE_v01_07.csv',\n",
       " 'iq_out_RX2_31A935E_0_1601069390_0885100kHz_LTE_v01_07.csv',\n",
       " 'iq_out_RX2_31A935E_0_1601069390_1947500kHz_LTE_v01_07.csv']"
      ]
     },
     "execution_count": 37,
     "metadata": {},
     "output_type": "execute_result"
    }
   ],
   "source": [
    "file_list_of_interest"
   ]
  },
  {
   "cell_type": "code",
   "execution_count": null,
   "metadata": {},
   "outputs": [],
   "source": []
  },
  {
   "cell_type": "code",
   "execution_count": 38,
   "metadata": {},
   "outputs": [],
   "source": [
    "df_list = []\n",
    "for file_name in file_list_of_interest:\n",
    "    this_df = pd.read_csv(os.path.join(file_dir, file_name))\n",
    "    df_list.append(this_df)"
   ]
  },
  {
   "cell_type": "code",
   "execution_count": 39,
   "metadata": {},
   "outputs": [
    {
     "data": {
      "text/plain": [
       "[Empty DataFrame\n",
       " Columns: [FileName, Time (UTC), PCI, CenterFreq, Freq Span, Lat, Lon, Alt (m), Peak, Offset(ms), Freq Error, Antennas, TDD/FDD, Cyclic Prefix, LTE Bandwidth, MCC, MNC, Operator, TAC, ECI, eNB ID, Sector ID, CellBarred, qRxLevMindBm, pMax, Band, RSRPdBm, RSSIdBm, RSRQdB, Full BW RSRPdBm, Full BW RSSIdBm, Full BW RSRQdB, EARFCN DL, EARFCN UL,  UL Freq, MaxBits, SFN, GPS Valid,  GPS Accuracy (m), Peak Index, SIB1, SIBx, SIBx SFN, IBW CenterFreq (MHz), Data Source, Channel, GPS Time Lost, ProcessLTE Version, Radio Branch, Radio Version, IBW Duration (ms), UL Average UE,  UL Utilization,  DL Average UE,  DL Utilization]\n",
       " Index: []\n",
       " \n",
       " [0 rows x 55 columns],\n",
       " Empty DataFrame\n",
       " Columns: [FileName, Time (UTC), PCI, CenterFreq, Freq Span, Lat, Lon, Alt (m), Peak, Offset(ms), Freq Error, Antennas, TDD/FDD, Cyclic Prefix, LTE Bandwidth, MCC, MNC, Operator, TAC, ECI, eNB ID, Sector ID, CellBarred, qRxLevMindBm, pMax, Band, RSRPdBm, RSSIdBm, RSRQdB, Full BW RSRPdBm, Full BW RSSIdBm, Full BW RSRQdB, EARFCN DL, EARFCN UL,  UL Freq, MaxBits, SFN, GPS Valid,  GPS Accuracy (m), Peak Index, SIB1, SIBx, SIBx SFN, IBW CenterFreq (MHz), Data Source, Channel, GPS Time Lost, ProcessLTE Version, Radio Branch, Radio Version, IBW Duration (ms), UL Average UE,  UL Utilization,  DL Average UE,  DL Utilization]\n",
       " Index: []\n",
       " \n",
       " [0 rows x 55 columns],\n",
       " Empty DataFrame\n",
       " Columns: [FileName, Time (UTC), PCI, CenterFreq, Freq Span, Lat, Lon, Alt (m), Peak, Offset(ms), Freq Error, Antennas, TDD/FDD, Cyclic Prefix, LTE Bandwidth, MCC, MNC, Operator, TAC, ECI, eNB ID, Sector ID, CellBarred, qRxLevMindBm, pMax, Band, RSRPdBm, RSSIdBm, RSRQdB, Full BW RSRPdBm, Full BW RSSIdBm, Full BW RSRQdB, EARFCN DL, EARFCN UL,  UL Freq, MaxBits, SFN, GPS Valid,  GPS Accuracy (m), Peak Index, SIB1, SIBx, SIBx SFN, IBW CenterFreq (MHz), Data Source, Channel, GPS Time Lost, ProcessLTE Version, Radio Branch, Radio Version, IBW Duration (ms), UL Average UE,  UL Utilization,  DL Average UE,  DL Utilization]\n",
       " Index: []\n",
       " \n",
       " [0 rows x 55 columns],\n",
       " Empty DataFrame\n",
       " Columns: [FileName, Time (UTC), PCI, CenterFreq, Freq Span, Lat, Lon, Alt (m), Peak, Offset(ms), Freq Error, Antennas, TDD/FDD, Cyclic Prefix, LTE Bandwidth, MCC, MNC, Operator, TAC, ECI, eNB ID, Sector ID, CellBarred, qRxLevMindBm, pMax, Band, RSRPdBm, RSSIdBm, RSRQdB, Full BW RSRPdBm, Full BW RSSIdBm, Full BW RSRQdB, EARFCN DL, EARFCN UL,  UL Freq, MaxBits, SFN, GPS Valid,  GPS Accuracy (m), Peak Index, SIB1, SIBx, SIBx SFN, IBW CenterFreq (MHz), Data Source, Channel, GPS Time Lost, ProcessLTE Version, Radio Branch, Radio Version, IBW Duration (ms), UL Average UE,  UL Utilization,  DL Average UE,  DL Utilization]\n",
       " Index: []\n",
       " \n",
       " [0 rows x 55 columns],\n",
       " Empty DataFrame\n",
       " Columns: [FileName, Time (UTC), PCI, CenterFreq, Freq Span, Lat, Lon, Alt (m), Peak, Offset(ms), Freq Error, Antennas, TDD/FDD, Cyclic Prefix, LTE Bandwidth, MCC, MNC, Operator, TAC, ECI, eNB ID, Sector ID, CellBarred, qRxLevMindBm, pMax, Band, RSRPdBm, RSSIdBm, RSRQdB, Full BW RSRPdBm, Full BW RSSIdBm, Full BW RSRQdB, EARFCN DL, EARFCN UL,  UL Freq, MaxBits, SFN, GPS Valid,  GPS Accuracy (m), Peak Index, SIB1, SIBx, SIBx SFN, IBW CenterFreq (MHz), Data Source, Channel, GPS Time Lost, ProcessLTE Version, Radio Branch, Radio Version, IBW Duration (ms), UL Average UE,  UL Utilization,  DL Average UE,  DL Utilization]\n",
       " Index: []\n",
       " \n",
       " [0 rows x 55 columns],\n",
       " Empty DataFrame\n",
       " Columns: [FileName, Time (UTC), PCI, CenterFreq, Freq Span, Lat, Lon, Alt (m), Peak, Offset(ms), Freq Error, Antennas, TDD/FDD, Cyclic Prefix, LTE Bandwidth, MCC, MNC, Operator, TAC, ECI, eNB ID, Sector ID, CellBarred, qRxLevMindBm, pMax, Band, RSRPdBm, RSSIdBm, RSRQdB, Full BW RSRPdBm, Full BW RSSIdBm, Full BW RSRQdB, EARFCN DL, EARFCN UL,  UL Freq, MaxBits, SFN, GPS Valid,  GPS Accuracy (m), Peak Index, SIB1, SIBx, SIBx SFN, IBW CenterFreq (MHz), Data Source, Channel, GPS Time Lost, ProcessLTE Version, Radio Branch, Radio Version, IBW Duration (ms), UL Average UE,  UL Utilization,  DL Average UE,  DL Utilization]\n",
       " Index: []\n",
       " \n",
       " [0 rows x 55 columns],\n",
       " Empty DataFrame\n",
       " Columns: [FileName, Time (UTC), PCI, CenterFreq, Freq Span, Lat, Lon, Alt (m), Peak, Offset(ms), Freq Error, Antennas, TDD/FDD, Cyclic Prefix, LTE Bandwidth, MCC, MNC, Operator, TAC, ECI, eNB ID, Sector ID, CellBarred, qRxLevMindBm, pMax, Band, RSRPdBm, RSSIdBm, RSRQdB, Full BW RSRPdBm, Full BW RSSIdBm, Full BW RSRQdB, EARFCN DL, EARFCN UL,  UL Freq, MaxBits, SFN, GPS Valid,  GPS Accuracy (m), Peak Index, SIB1, SIBx, SIBx SFN, IBW CenterFreq (MHz), Data Source, Channel, GPS Time Lost, ProcessLTE Version, Radio Branch, Radio Version, IBW Duration (ms), UL Average UE,  UL Utilization,  DL Average UE,  DL Utilization]\n",
       " Index: []\n",
       " \n",
       " [0 rows x 55 columns],\n",
       " Empty DataFrame\n",
       " Columns: [FileName, Time (UTC), PCI, CenterFreq, Freq Span, Lat, Lon, Alt (m), Peak, Offset(ms), Freq Error, Antennas, TDD/FDD, Cyclic Prefix, LTE Bandwidth, MCC, MNC, Operator, TAC, ECI, eNB ID, Sector ID, CellBarred, qRxLevMindBm, pMax, Band, RSRPdBm, RSSIdBm, RSRQdB, Full BW RSRPdBm, Full BW RSSIdBm, Full BW RSRQdB, EARFCN DL, EARFCN UL,  UL Freq, MaxBits, SFN, GPS Valid,  GPS Accuracy (m), Peak Index, SIB1, SIBx, SIBx SFN, IBW CenterFreq (MHz), Data Source, Channel, GPS Time Lost, ProcessLTE Version, Radio Branch, Radio Version, IBW Duration (ms), UL Average UE,  UL Utilization,  DL Average UE,  DL Utilization]\n",
       " Index: []\n",
       " \n",
       " [0 rows x 55 columns],\n",
       " Empty DataFrame\n",
       " Columns: [FileName, Time (UTC), PCI, CenterFreq, Freq Span, Lat, Lon, Alt (m), Peak, Offset(ms), Freq Error, Antennas, TDD/FDD, Cyclic Prefix, LTE Bandwidth, MCC, MNC, Operator, TAC, ECI, eNB ID, Sector ID, CellBarred, qRxLevMindBm, pMax, Band, RSRPdBm, RSSIdBm, RSRQdB, Full BW RSRPdBm, Full BW RSSIdBm, Full BW RSRQdB, EARFCN DL, EARFCN UL,  UL Freq, MaxBits, SFN, GPS Valid,  GPS Accuracy (m), Peak Index, SIB1, SIBx, SIBx SFN, IBW CenterFreq (MHz), Data Source, Channel, GPS Time Lost, ProcessLTE Version, Radio Branch, Radio Version, IBW Duration (ms), UL Average UE,  UL Utilization,  DL Average UE,  DL Utilization]\n",
       " Index: []\n",
       " \n",
       " [0 rows x 55 columns],\n",
       " Empty DataFrame\n",
       " Columns: [FileName, Time (UTC), PCI, CenterFreq, Freq Span, Lat, Lon, Alt (m), Peak, Offset(ms), Freq Error, Antennas, TDD/FDD, Cyclic Prefix, LTE Bandwidth, MCC, MNC, Operator, TAC, ECI, eNB ID, Sector ID, CellBarred, qRxLevMindBm, pMax, Band, RSRPdBm, RSSIdBm, RSRQdB, Full BW RSRPdBm, Full BW RSSIdBm, Full BW RSRQdB, EARFCN DL, EARFCN UL,  UL Freq, MaxBits, SFN, GPS Valid,  GPS Accuracy (m), Peak Index, SIB1, SIBx, SIBx SFN, IBW CenterFreq (MHz), Data Source, Channel, GPS Time Lost, ProcessLTE Version, Radio Branch, Radio Version, IBW Duration (ms), UL Average UE,  UL Utilization,  DL Average UE,  DL Utilization]\n",
       " Index: []\n",
       " \n",
       " [0 rows x 55 columns],\n",
       " Empty DataFrame\n",
       " Columns: [FileName, Time (UTC), PCI, CenterFreq, Freq Span, Lat, Lon, Alt (m), Peak, Offset(ms), Freq Error, Antennas, TDD/FDD, Cyclic Prefix, LTE Bandwidth, MCC, MNC, Operator, TAC, ECI, eNB ID, Sector ID, CellBarred, qRxLevMindBm, pMax, Band, RSRPdBm, RSSIdBm, RSRQdB, Full BW RSRPdBm, Full BW RSSIdBm, Full BW RSRQdB, EARFCN DL, EARFCN UL,  UL Freq, MaxBits, SFN, GPS Valid,  GPS Accuracy (m), Peak Index, SIB1, SIBx, SIBx SFN, IBW CenterFreq (MHz), Data Source, Channel, GPS Time Lost, ProcessLTE Version, Radio Branch, Radio Version, IBW Duration (ms), UL Average UE,  UL Utilization,  DL Average UE,  DL Utilization]\n",
       " Index: []\n",
       " \n",
       " [0 rows x 55 columns],\n",
       " Empty DataFrame\n",
       " Columns: [FileName, Time (UTC), PCI, CenterFreq, Freq Span, Lat, Lon, Alt (m), Peak, Offset(ms), Freq Error, Antennas, TDD/FDD, Cyclic Prefix, LTE Bandwidth, MCC, MNC, Operator, TAC, ECI, eNB ID, Sector ID, CellBarred, qRxLevMindBm, pMax, Band, RSRPdBm, RSSIdBm, RSRQdB, Full BW RSRPdBm, Full BW RSSIdBm, Full BW RSRQdB, EARFCN DL, EARFCN UL,  UL Freq, MaxBits, SFN, GPS Valid,  GPS Accuracy (m), Peak Index, SIB1, SIBx, SIBx SFN, IBW CenterFreq (MHz), Data Source, Channel, GPS Time Lost, ProcessLTE Version, Radio Branch, Radio Version, IBW Duration (ms), UL Average UE,  UL Utilization,  DL Average UE,  DL Utilization]\n",
       " Index: []\n",
       " \n",
       " [0 rows x 55 columns],\n",
       " Empty DataFrame\n",
       " Columns: [FileName, Time (UTC), PCI, CenterFreq, Freq Span, Lat, Lon, Alt (m), Peak, Offset(ms), Freq Error, Antennas, TDD/FDD, Cyclic Prefix, LTE Bandwidth, MCC, MNC, Operator, TAC, ECI, eNB ID, Sector ID, CellBarred, qRxLevMindBm, pMax, Band, RSRPdBm, RSSIdBm, RSRQdB, Full BW RSRPdBm, Full BW RSSIdBm, Full BW RSRQdB, EARFCN DL, EARFCN UL,  UL Freq, MaxBits, SFN, GPS Valid,  GPS Accuracy (m), Peak Index, SIB1, SIBx, SIBx SFN, IBW CenterFreq (MHz), Data Source, Channel, GPS Time Lost, ProcessLTE Version, Radio Branch, Radio Version, IBW Duration (ms), UL Average UE,  UL Utilization,  DL Average UE,  DL Utilization]\n",
       " Index: []\n",
       " \n",
       " [0 rows x 55 columns],\n",
       " Empty DataFrame\n",
       " Columns: [FileName, Time (UTC), PCI, CenterFreq, Freq Span, Lat, Lon, Alt (m), Peak, Offset(ms), Freq Error, Antennas, TDD/FDD, Cyclic Prefix, LTE Bandwidth, MCC, MNC, Operator, TAC, ECI, eNB ID, Sector ID, CellBarred, qRxLevMindBm, pMax, Band, RSRPdBm, RSSIdBm, RSRQdB, Full BW RSRPdBm, Full BW RSSIdBm, Full BW RSRQdB, EARFCN DL, EARFCN UL,  UL Freq, MaxBits, SFN, GPS Valid,  GPS Accuracy (m), Peak Index, SIB1, SIBx, SIBx SFN, IBW CenterFreq (MHz), Data Source, Channel, GPS Time Lost, ProcessLTE Version, Radio Branch, Radio Version, IBW Duration (ms), UL Average UE,  UL Utilization,  DL Average UE,  DL Utilization]\n",
       " Index: []\n",
       " \n",
       " [0 rows x 55 columns],\n",
       " Empty DataFrame\n",
       " Columns: [FileName, Time (UTC), PCI, CenterFreq, Freq Span, Lat, Lon, Alt (m), Peak, Offset(ms), Freq Error, Antennas, TDD/FDD, Cyclic Prefix, LTE Bandwidth, MCC, MNC, Operator, TAC, ECI, eNB ID, Sector ID, CellBarred, qRxLevMindBm, pMax, Band, RSRPdBm, RSSIdBm, RSRQdB, Full BW RSRPdBm, Full BW RSSIdBm, Full BW RSRQdB, EARFCN DL, EARFCN UL,  UL Freq, MaxBits, SFN, GPS Valid,  GPS Accuracy (m), Peak Index, SIB1, SIBx, SIBx SFN, IBW CenterFreq (MHz), Data Source, Channel, GPS Time Lost, ProcessLTE Version, Radio Branch, Radio Version, IBW Duration (ms), UL Average UE,  UL Utilization,  DL Average UE,  DL Utilization]\n",
       " Index: []\n",
       " \n",
       " [0 rows x 55 columns],\n",
       " Empty DataFrame\n",
       " Columns: [FileName, Time (UTC), PCI, CenterFreq, Freq Span, Lat, Lon, Alt (m), Peak, Offset(ms), Freq Error, Antennas, TDD/FDD, Cyclic Prefix, LTE Bandwidth, MCC, MNC, Operator, TAC, ECI, eNB ID, Sector ID, CellBarred, qRxLevMindBm, pMax, Band, RSRPdBm, RSSIdBm, RSRQdB, Full BW RSRPdBm, Full BW RSSIdBm, Full BW RSRQdB, EARFCN DL, EARFCN UL,  UL Freq, MaxBits, SFN, GPS Valid,  GPS Accuracy (m), Peak Index, SIB1, SIBx, SIBx SFN, IBW CenterFreq (MHz), Data Source, Channel, GPS Time Lost, ProcessLTE Version, Radio Branch, Radio Version, IBW Duration (ms), UL Average UE,  UL Utilization,  DL Average UE,  DL Utilization]\n",
       " Index: []\n",
       " \n",
       " [0 rows x 55 columns],\n",
       " Empty DataFrame\n",
       " Columns: [FileName, Time (UTC), PCI, CenterFreq, Freq Span, Lat, Lon, Alt (m), Peak, Offset(ms), Freq Error, Antennas, TDD/FDD, Cyclic Prefix, LTE Bandwidth, MCC, MNC, Operator, TAC, ECI, eNB ID, Sector ID, CellBarred, qRxLevMindBm, pMax, Band, RSRPdBm, RSSIdBm, RSRQdB, Full BW RSRPdBm, Full BW RSSIdBm, Full BW RSRQdB, EARFCN DL, EARFCN UL,  UL Freq, MaxBits, SFN, GPS Valid,  GPS Accuracy (m), Peak Index, SIB1, SIBx, SIBx SFN, IBW CenterFreq (MHz), Data Source, Channel, GPS Time Lost, ProcessLTE Version, Radio Branch, Radio Version, IBW Duration (ms), UL Average UE,  UL Utilization,  DL Average UE,  DL Utilization]\n",
       " Index: []\n",
       " \n",
       " [0 rows x 55 columns],\n",
       " Empty DataFrame\n",
       " Columns: [FileName, Time (UTC), PCI, CenterFreq, Freq Span, Lat, Lon, Alt (m), Peak, Offset(ms), Freq Error, Antennas, TDD/FDD, Cyclic Prefix, LTE Bandwidth, MCC, MNC, Operator, TAC, ECI, eNB ID, Sector ID, CellBarred, qRxLevMindBm, pMax, Band, RSRPdBm, RSSIdBm, RSRQdB, Full BW RSRPdBm, Full BW RSSIdBm, Full BW RSRQdB, EARFCN DL, EARFCN UL,  UL Freq, MaxBits, SFN, GPS Valid,  GPS Accuracy (m), Peak Index, SIB1, SIBx, SIBx SFN, IBW CenterFreq (MHz), Data Source, Channel, GPS Time Lost, ProcessLTE Version, Radio Branch, Radio Version, IBW Duration (ms), UL Average UE,  UL Utilization,  DL Average UE,  DL Utilization]\n",
       " Index: []\n",
       " \n",
       " [0 rows x 55 columns],\n",
       " Empty DataFrame\n",
       " Columns: [FileName, Time (UTC), PCI, CenterFreq, Freq Span, Lat, Lon, Alt (m), Peak, Offset(ms), Freq Error, Antennas, TDD/FDD, Cyclic Prefix, LTE Bandwidth, MCC, MNC, Operator, TAC, ECI, eNB ID, Sector ID, CellBarred, qRxLevMindBm, pMax, Band, RSRPdBm, RSSIdBm, RSRQdB, Full BW RSRPdBm, Full BW RSSIdBm, Full BW RSRQdB, EARFCN DL, EARFCN UL,  UL Freq, MaxBits, SFN, GPS Valid,  GPS Accuracy (m), Peak Index, SIB1, SIBx, SIBx SFN, IBW CenterFreq (MHz), Data Source, Channel, GPS Time Lost, ProcessLTE Version, Radio Branch, Radio Version, IBW Duration (ms), UL Average UE,  UL Utilization,  DL Average UE,  DL Utilization]\n",
       " Index: []\n",
       " \n",
       " [0 rows x 55 columns],\n",
       " Empty DataFrame\n",
       " Columns: [FileName, Time (UTC), PCI, CenterFreq, Freq Span, Lat, Lon, Alt (m), Peak, Offset(ms), Freq Error, Antennas, TDD/FDD, Cyclic Prefix, LTE Bandwidth, MCC, MNC, Operator, TAC, ECI, eNB ID, Sector ID, CellBarred, qRxLevMindBm, pMax, Band, RSRPdBm, RSSIdBm, RSRQdB, Full BW RSRPdBm, Full BW RSSIdBm, Full BW RSRQdB, EARFCN DL, EARFCN UL,  UL Freq, MaxBits, SFN, GPS Valid,  GPS Accuracy (m), Peak Index, SIB1, SIBx, SIBx SFN, IBW CenterFreq (MHz), Data Source, Channel, GPS Time Lost, ProcessLTE Version, Radio Branch, Radio Version, IBW Duration (ms), UL Average UE,  UL Utilization,  DL Average UE,  DL Utilization]\n",
       " Index: []\n",
       " \n",
       " [0 rows x 55 columns],\n",
       " Empty DataFrame\n",
       " Columns: [FileName, Time (UTC), PCI, CenterFreq, Freq Span, Lat, Lon, Alt (m), Peak, Offset(ms), Freq Error, Antennas, TDD/FDD, Cyclic Prefix, LTE Bandwidth, MCC, MNC, Operator, TAC, ECI, eNB ID, Sector ID, CellBarred, qRxLevMindBm, pMax, Band, RSRPdBm, RSSIdBm, RSRQdB, Full BW RSRPdBm, Full BW RSSIdBm, Full BW RSRQdB, EARFCN DL, EARFCN UL,  UL Freq, MaxBits, SFN, GPS Valid,  GPS Accuracy (m), Peak Index, SIB1, SIBx, SIBx SFN, IBW CenterFreq (MHz), Data Source, Channel, GPS Time Lost, ProcessLTE Version, Radio Branch, Radio Version, IBW Duration (ms), UL Average UE,  UL Utilization,  DL Average UE,  DL Utilization]\n",
       " Index: []\n",
       " \n",
       " [0 rows x 55 columns],\n",
       " Empty DataFrame\n",
       " Columns: [FileName, Time (UTC), PCI, CenterFreq, Freq Span, Lat, Lon, Alt (m), Peak, Offset(ms), Freq Error, Antennas, TDD/FDD, Cyclic Prefix, LTE Bandwidth, MCC, MNC, Operator, TAC, ECI, eNB ID, Sector ID, CellBarred, qRxLevMindBm, pMax, Band, RSRPdBm, RSSIdBm, RSRQdB, Full BW RSRPdBm, Full BW RSSIdBm, Full BW RSRQdB, EARFCN DL, EARFCN UL,  UL Freq, MaxBits, SFN, GPS Valid,  GPS Accuracy (m), Peak Index, SIB1, SIBx, SIBx SFN, IBW CenterFreq (MHz), Data Source, Channel, GPS Time Lost, ProcessLTE Version, Radio Branch, Radio Version, IBW Duration (ms), UL Average UE,  UL Utilization,  DL Average UE,  DL Utilization]\n",
       " Index: []\n",
       " \n",
       " [0 rows x 55 columns],\n",
       " Empty DataFrame\n",
       " Columns: [FileName, Time (UTC), PCI, CenterFreq, Freq Span, Lat, Lon, Alt (m), Peak, Offset(ms), Freq Error, Antennas, TDD/FDD, Cyclic Prefix, LTE Bandwidth, MCC, MNC, Operator, TAC, ECI, eNB ID, Sector ID, CellBarred, qRxLevMindBm, pMax, Band, RSRPdBm, RSSIdBm, RSRQdB, Full BW RSRPdBm, Full BW RSSIdBm, Full BW RSRQdB, EARFCN DL, EARFCN UL,  UL Freq, MaxBits, SFN, GPS Valid,  GPS Accuracy (m), Peak Index, SIB1, SIBx, SIBx SFN, IBW CenterFreq (MHz), Data Source, Channel, GPS Time Lost, ProcessLTE Version, Radio Branch, Radio Version, IBW Duration (ms), UL Average UE,  UL Utilization,  DL Average UE,  DL Utilization]\n",
       " Index: []\n",
       " \n",
       " [0 rows x 55 columns],\n",
       " Empty DataFrame\n",
       " Columns: [FileName, Time (UTC), PCI, CenterFreq, Freq Span, Lat, Lon, Alt (m), Peak, Offset(ms), Freq Error, Antennas, TDD/FDD, Cyclic Prefix, LTE Bandwidth, MCC, MNC, Operator, TAC, ECI, eNB ID, Sector ID, CellBarred, qRxLevMindBm, pMax, Band, RSRPdBm, RSSIdBm, RSRQdB, Full BW RSRPdBm, Full BW RSSIdBm, Full BW RSRQdB, EARFCN DL, EARFCN UL,  UL Freq, MaxBits, SFN, GPS Valid,  GPS Accuracy (m), Peak Index, SIB1, SIBx, SIBx SFN, IBW CenterFreq (MHz), Data Source, Channel, GPS Time Lost, ProcessLTE Version, Radio Branch, Radio Version, IBW Duration (ms), UL Average UE,  UL Utilization,  DL Average UE,  DL Utilization]\n",
       " Index: []\n",
       " \n",
       " [0 rows x 55 columns],\n",
       " Empty DataFrame\n",
       " Columns: [FileName, Time (UTC), PCI, CenterFreq, Freq Span, Lat, Lon, Alt (m), Peak, Offset(ms), Freq Error, Antennas, TDD/FDD, Cyclic Prefix, LTE Bandwidth, MCC, MNC, Operator, TAC, ECI, eNB ID, Sector ID, CellBarred, qRxLevMindBm, pMax, Band, RSRPdBm, RSSIdBm, RSRQdB, Full BW RSRPdBm, Full BW RSSIdBm, Full BW RSRQdB, EARFCN DL, EARFCN UL,  UL Freq, MaxBits, SFN, GPS Valid,  GPS Accuracy (m), Peak Index, SIB1, SIBx, SIBx SFN, IBW CenterFreq (MHz), Data Source, Channel, GPS Time Lost, ProcessLTE Version, Radio Branch, Radio Version, IBW Duration (ms), UL Average UE,  UL Utilization,  DL Average UE,  DL Utilization]\n",
       " Index: []\n",
       " \n",
       " [0 rows x 55 columns],\n",
       " Empty DataFrame\n",
       " Columns: [FileName, Time (UTC), PCI, CenterFreq, Freq Span, Lat, Lon, Alt (m), Peak, Offset(ms), Freq Error, Antennas, TDD/FDD, Cyclic Prefix, LTE Bandwidth, MCC, MNC, Operator, TAC, ECI, eNB ID, Sector ID, CellBarred, qRxLevMindBm, pMax, Band, RSRPdBm, RSSIdBm, RSRQdB, Full BW RSRPdBm, Full BW RSSIdBm, Full BW RSRQdB, EARFCN DL, EARFCN UL,  UL Freq, MaxBits, SFN, GPS Valid,  GPS Accuracy (m), Peak Index, SIB1, SIBx, SIBx SFN, IBW CenterFreq (MHz), Data Source, Channel, GPS Time Lost, ProcessLTE Version, Radio Branch, Radio Version, IBW Duration (ms), UL Average UE,  UL Utilization,  DL Average UE,  DL Utilization]\n",
       " Index: []\n",
       " \n",
       " [0 rows x 55 columns],\n",
       " Empty DataFrame\n",
       " Columns: [FileName, Time (UTC), PCI, CenterFreq, Freq Span, Lat, Lon, Alt (m), Peak, Offset(ms), Freq Error, Antennas, TDD/FDD, Cyclic Prefix, LTE Bandwidth, MCC, MNC, Operator, TAC, ECI, eNB ID, Sector ID, CellBarred, qRxLevMindBm, pMax, Band, RSRPdBm, RSSIdBm, RSRQdB, Full BW RSRPdBm, Full BW RSSIdBm, Full BW RSRQdB, EARFCN DL, EARFCN UL,  UL Freq, MaxBits, SFN, GPS Valid,  GPS Accuracy (m), Peak Index, SIB1, SIBx, SIBx SFN, IBW CenterFreq (MHz), Data Source, Channel, GPS Time Lost, ProcessLTE Version, Radio Branch, Radio Version, IBW Duration (ms), UL Average UE,  UL Utilization,  DL Average UE,  DL Utilization]\n",
       " Index: []\n",
       " \n",
       " [0 rows x 55 columns],\n",
       " Empty DataFrame\n",
       " Columns: [FileName, Time (UTC), PCI, CenterFreq, Freq Span, Lat, Lon, Alt (m), Peak, Offset(ms), Freq Error, Antennas, TDD/FDD, Cyclic Prefix, LTE Bandwidth, MCC, MNC, Operator, TAC, ECI, eNB ID, Sector ID, CellBarred, qRxLevMindBm, pMax, Band, RSRPdBm, RSSIdBm, RSRQdB, Full BW RSRPdBm, Full BW RSSIdBm, Full BW RSRQdB, EARFCN DL, EARFCN UL,  UL Freq, MaxBits, SFN, GPS Valid,  GPS Accuracy (m), Peak Index, SIB1, SIBx, SIBx SFN, IBW CenterFreq (MHz), Data Source, Channel, GPS Time Lost, ProcessLTE Version, Radio Branch, Radio Version, IBW Duration (ms), UL Average UE,  UL Utilization,  DL Average UE,  DL Utilization]\n",
       " Index: []\n",
       " \n",
       " [0 rows x 55 columns],\n",
       " Empty DataFrame\n",
       " Columns: [FileName, Time (UTC), PCI, CenterFreq, Freq Span, Lat, Lon, Alt (m), Peak, Offset(ms), Freq Error, Antennas, TDD/FDD, Cyclic Prefix, LTE Bandwidth, MCC, MNC, Operator, TAC, ECI, eNB ID, Sector ID, CellBarred, qRxLevMindBm, pMax, Band, RSRPdBm, RSSIdBm, RSRQdB, Full BW RSRPdBm, Full BW RSSIdBm, Full BW RSRQdB, EARFCN DL, EARFCN UL,  UL Freq, MaxBits, SFN, GPS Valid,  GPS Accuracy (m), Peak Index, SIB1, SIBx, SIBx SFN, IBW CenterFreq (MHz), Data Source, Channel, GPS Time Lost, ProcessLTE Version, Radio Branch, Radio Version, IBW Duration (ms), UL Average UE,  UL Utilization,  DL Average UE,  DL Utilization]\n",
       " Index: []\n",
       " \n",
       " [0 rows x 55 columns],\n",
       " Empty DataFrame\n",
       " Columns: [FileName, Time (UTC), PCI, CenterFreq, Freq Span, Lat, Lon, Alt (m), Peak, Offset(ms), Freq Error, Antennas, TDD/FDD, Cyclic Prefix, LTE Bandwidth, MCC, MNC, Operator, TAC, ECI, eNB ID, Sector ID, CellBarred, qRxLevMindBm, pMax, Band, RSRPdBm, RSSIdBm, RSRQdB, Full BW RSRPdBm, Full BW RSSIdBm, Full BW RSRQdB, EARFCN DL, EARFCN UL,  UL Freq, MaxBits, SFN, GPS Valid,  GPS Accuracy (m), Peak Index, SIB1, SIBx, SIBx SFN, IBW CenterFreq (MHz), Data Source, Channel, GPS Time Lost, ProcessLTE Version, Radio Branch, Radio Version, IBW Duration (ms), UL Average UE,  UL Utilization,  DL Average UE,  DL Utilization]\n",
       " Index: []\n",
       " \n",
       " [0 rows x 55 columns],\n",
       " Empty DataFrame\n",
       " Columns: [FileName, Time (UTC), PCI, CenterFreq, Freq Span, Lat, Lon, Alt (m), Peak, Offset(ms), Freq Error, Antennas, TDD/FDD, Cyclic Prefix, LTE Bandwidth, MCC, MNC, Operator, TAC, ECI, eNB ID, Sector ID, CellBarred, qRxLevMindBm, pMax, Band, RSRPdBm, RSSIdBm, RSRQdB, Full BW RSRPdBm, Full BW RSSIdBm, Full BW RSRQdB, EARFCN DL, EARFCN UL,  UL Freq, MaxBits, SFN, GPS Valid,  GPS Accuracy (m), Peak Index, SIB1, SIBx, SIBx SFN, IBW CenterFreq (MHz), Data Source, Channel, GPS Time Lost, ProcessLTE Version, Radio Branch, Radio Version, IBW Duration (ms), UL Average UE,  UL Utilization,  DL Average UE,  DL Utilization]\n",
       " Index: []\n",
       " \n",
       " [0 rows x 55 columns],\n",
       " Empty DataFrame\n",
       " Columns: [FileName, Time (UTC), PCI, CenterFreq, Freq Span, Lat, Lon, Alt (m), Peak, Offset(ms), Freq Error, Antennas, TDD/FDD, Cyclic Prefix, LTE Bandwidth, MCC, MNC, Operator, TAC, ECI, eNB ID, Sector ID, CellBarred, qRxLevMindBm, pMax, Band, RSRPdBm, RSSIdBm, RSRQdB, Full BW RSRPdBm, Full BW RSSIdBm, Full BW RSRQdB, EARFCN DL, EARFCN UL,  UL Freq, MaxBits, SFN, GPS Valid,  GPS Accuracy (m), Peak Index, SIB1, SIBx, SIBx SFN, IBW CenterFreq (MHz), Data Source, Channel, GPS Time Lost, ProcessLTE Version, Radio Branch, Radio Version, IBW Duration (ms), UL Average UE,  UL Utilization,  DL Average UE,  DL Utilization]\n",
       " Index: []\n",
       " \n",
       " [0 rows x 55 columns],\n",
       " Empty DataFrame\n",
       " Columns: [FileName, Time (UTC), PCI, CenterFreq, Freq Span, Lat, Lon, Alt (m), Peak, Offset(ms), Freq Error, Antennas, TDD/FDD, Cyclic Prefix, LTE Bandwidth, MCC, MNC, Operator, TAC, ECI, eNB ID, Sector ID, CellBarred, qRxLevMindBm, pMax, Band, RSRPdBm, RSSIdBm, RSRQdB, Full BW RSRPdBm, Full BW RSSIdBm, Full BW RSRQdB, EARFCN DL, EARFCN UL,  UL Freq, MaxBits, SFN, GPS Valid,  GPS Accuracy (m), Peak Index, SIB1, SIBx, SIBx SFN, IBW CenterFreq (MHz), Data Source, Channel, GPS Time Lost, ProcessLTE Version, Radio Branch, Radio Version, IBW Duration (ms), UL Average UE,  UL Utilization,  DL Average UE,  DL Utilization]\n",
       " Index: []\n",
       " \n",
       " [0 rows x 55 columns],\n",
       " Empty DataFrame\n",
       " Columns: [FileName, Time (UTC), PCI, CenterFreq, Freq Span, Lat, Lon, Alt (m), Peak, Offset(ms), Freq Error, Antennas, TDD/FDD, Cyclic Prefix, LTE Bandwidth, MCC, MNC, Operator, TAC, ECI, eNB ID, Sector ID, CellBarred, qRxLevMindBm, pMax, Band, RSRPdBm, RSSIdBm, RSRQdB, Full BW RSRPdBm, Full BW RSSIdBm, Full BW RSRQdB, EARFCN DL, EARFCN UL,  UL Freq, MaxBits, SFN, GPS Valid,  GPS Accuracy (m), Peak Index, SIB1, SIBx, SIBx SFN, IBW CenterFreq (MHz), Data Source, Channel, GPS Time Lost, ProcessLTE Version, Radio Branch, Radio Version, IBW Duration (ms), UL Average UE,  UL Utilization,  DL Average UE,  DL Utilization]\n",
       " Index: []\n",
       " \n",
       " [0 rows x 55 columns],\n",
       " Empty DataFrame\n",
       " Columns: [FileName, Time (UTC), PCI, CenterFreq, Freq Span, Lat, Lon, Alt (m), Peak, Offset(ms), Freq Error, Antennas, TDD/FDD, Cyclic Prefix, LTE Bandwidth, MCC, MNC, Operator, TAC, ECI, eNB ID, Sector ID, CellBarred, qRxLevMindBm, pMax, Band, RSRPdBm, RSSIdBm, RSRQdB, Full BW RSRPdBm, Full BW RSSIdBm, Full BW RSRQdB, EARFCN DL, EARFCN UL,  UL Freq, MaxBits, SFN, GPS Valid,  GPS Accuracy (m), Peak Index, SIB1, SIBx, SIBx SFN, IBW CenterFreq (MHz), Data Source, Channel, GPS Time Lost, ProcessLTE Version, Radio Branch, Radio Version, IBW Duration (ms), UL Average UE,  UL Utilization,  DL Average UE,  DL Utilization]\n",
       " Index: []\n",
       " \n",
       " [0 rows x 55 columns],\n",
       " Empty DataFrame\n",
       " Columns: [FileName, Time (UTC), PCI, CenterFreq, Freq Span, Lat, Lon, Alt (m), Peak, Offset(ms), Freq Error, Antennas, TDD/FDD, Cyclic Prefix, LTE Bandwidth, MCC, MNC, Operator, TAC, ECI, eNB ID, Sector ID, CellBarred, qRxLevMindBm, pMax, Band, RSRPdBm, RSSIdBm, RSRQdB, Full BW RSRPdBm, Full BW RSSIdBm, Full BW RSRQdB, EARFCN DL, EARFCN UL,  UL Freq, MaxBits, SFN, GPS Valid,  GPS Accuracy (m), Peak Index, SIB1, SIBx, SIBx SFN, IBW CenterFreq (MHz), Data Source, Channel, GPS Time Lost, ProcessLTE Version, Radio Branch, Radio Version, IBW Duration (ms), UL Average UE,  UL Utilization,  DL Average UE,  DL Utilization]\n",
       " Index: []\n",
       " \n",
       " [0 rows x 55 columns],\n",
       " Empty DataFrame\n",
       " Columns: [FileName, Time (UTC), PCI, CenterFreq, Freq Span, Lat, Lon, Alt (m), Peak, Offset(ms), Freq Error, Antennas, TDD/FDD, Cyclic Prefix, LTE Bandwidth, MCC, MNC, Operator, TAC, ECI, eNB ID, Sector ID, CellBarred, qRxLevMindBm, pMax, Band, RSRPdBm, RSSIdBm, RSRQdB, Full BW RSRPdBm, Full BW RSSIdBm, Full BW RSRQdB, EARFCN DL, EARFCN UL,  UL Freq, MaxBits, SFN, GPS Valid,  GPS Accuracy (m), Peak Index, SIB1, SIBx, SIBx SFN, IBW CenterFreq (MHz), Data Source, Channel, GPS Time Lost, ProcessLTE Version, Radio Branch, Radio Version, IBW Duration (ms), UL Average UE,  UL Utilization,  DL Average UE,  DL Utilization]\n",
       " Index: []\n",
       " \n",
       " [0 rows x 55 columns],\n",
       " Empty DataFrame\n",
       " Columns: [FileName, Time (UTC), PCI, CenterFreq, Freq Span, Lat, Lon, Alt (m), Peak, Offset(ms), Freq Error, Antennas, TDD/FDD, Cyclic Prefix, LTE Bandwidth, MCC, MNC, Operator, TAC, ECI, eNB ID, Sector ID, CellBarred, qRxLevMindBm, pMax, Band, RSRPdBm, RSSIdBm, RSRQdB, Full BW RSRPdBm, Full BW RSSIdBm, Full BW RSRQdB, EARFCN DL, EARFCN UL,  UL Freq, MaxBits, SFN, GPS Valid,  GPS Accuracy (m), Peak Index, SIB1, SIBx, SIBx SFN, IBW CenterFreq (MHz), Data Source, Channel, GPS Time Lost, ProcessLTE Version, Radio Branch, Radio Version, IBW Duration (ms), UL Average UE,  UL Utilization,  DL Average UE,  DL Utilization]\n",
       " Index: []\n",
       " \n",
       " [0 rows x 55 columns],\n",
       " Empty DataFrame\n",
       " Columns: [FileName, Time (UTC), PCI, CenterFreq, Freq Span, Lat, Lon, Alt (m), Peak, Offset(ms), Freq Error, Antennas, TDD/FDD, Cyclic Prefix, LTE Bandwidth, MCC, MNC, Operator, TAC, ECI, eNB ID, Sector ID, CellBarred, qRxLevMindBm, pMax, Band, RSRPdBm, RSSIdBm, RSRQdB, Full BW RSRPdBm, Full BW RSSIdBm, Full BW RSRQdB, EARFCN DL, EARFCN UL,  UL Freq, MaxBits, SFN, GPS Valid,  GPS Accuracy (m), Peak Index, SIB1, SIBx, SIBx SFN, IBW CenterFreq (MHz), Data Source, Channel, GPS Time Lost, ProcessLTE Version, Radio Branch, Radio Version, IBW Duration (ms), UL Average UE,  UL Utilization,  DL Average UE,  DL Utilization]\n",
       " Index: []\n",
       " \n",
       " [0 rows x 55 columns],\n",
       " Empty DataFrame\n",
       " Columns: [FileName, Time (UTC), PCI, CenterFreq, Freq Span, Lat, Lon, Alt (m), Peak, Offset(ms), Freq Error, Antennas, TDD/FDD, Cyclic Prefix, LTE Bandwidth, MCC, MNC, Operator, TAC, ECI, eNB ID, Sector ID, CellBarred, qRxLevMindBm, pMax, Band, RSRPdBm, RSSIdBm, RSRQdB, Full BW RSRPdBm, Full BW RSSIdBm, Full BW RSRQdB, EARFCN DL, EARFCN UL,  UL Freq, MaxBits, SFN, GPS Valid,  GPS Accuracy (m), Peak Index, SIB1, SIBx, SIBx SFN, IBW CenterFreq (MHz), Data Source, Channel, GPS Time Lost, ProcessLTE Version, Radio Branch, Radio Version, IBW Duration (ms), UL Average UE,  UL Utilization,  DL Average UE,  DL Utilization]\n",
       " Index: []\n",
       " \n",
       " [0 rows x 55 columns],\n",
       " Empty DataFrame\n",
       " Columns: [FileName, Time (UTC), PCI, CenterFreq, Freq Span, Lat, Lon, Alt (m), Peak, Offset(ms), Freq Error, Antennas, TDD/FDD, Cyclic Prefix, LTE Bandwidth, MCC, MNC, Operator, TAC, ECI, eNB ID, Sector ID, CellBarred, qRxLevMindBm, pMax, Band, RSRPdBm, RSSIdBm, RSRQdB, Full BW RSRPdBm, Full BW RSSIdBm, Full BW RSRQdB, EARFCN DL, EARFCN UL,  UL Freq, MaxBits, SFN, GPS Valid,  GPS Accuracy (m), Peak Index, SIB1, SIBx, SIBx SFN, IBW CenterFreq (MHz), Data Source, Channel, GPS Time Lost, ProcessLTE Version, Radio Branch, Radio Version, IBW Duration (ms), UL Average UE,  UL Utilization,  DL Average UE,  DL Utilization]\n",
       " Index: []\n",
       " \n",
       " [0 rows x 55 columns],\n",
       " Empty DataFrame\n",
       " Columns: [FileName, Time (UTC), PCI, CenterFreq, Freq Span, Lat, Lon, Alt (m), Peak, Offset(ms), Freq Error, Antennas, TDD/FDD, Cyclic Prefix, LTE Bandwidth, MCC, MNC, Operator, TAC, ECI, eNB ID, Sector ID, CellBarred, qRxLevMindBm, pMax, Band, RSRPdBm, RSSIdBm, RSRQdB, Full BW RSRPdBm, Full BW RSSIdBm, Full BW RSRQdB, EARFCN DL, EARFCN UL,  UL Freq, MaxBits, SFN, GPS Valid,  GPS Accuracy (m), Peak Index, SIB1, SIBx, SIBx SFN, IBW CenterFreq (MHz), Data Source, Channel, GPS Time Lost, ProcessLTE Version, Radio Branch, Radio Version, IBW Duration (ms), UL Average UE,  UL Utilization,  DL Average UE,  DL Utilization]\n",
       " Index: []\n",
       " \n",
       " [0 rows x 55 columns],\n",
       " Empty DataFrame\n",
       " Columns: [FileName, Time (UTC), PCI, CenterFreq, Freq Span, Lat, Lon, Alt (m), Peak, Offset(ms), Freq Error, Antennas, TDD/FDD, Cyclic Prefix, LTE Bandwidth, MCC, MNC, Operator, TAC, ECI, eNB ID, Sector ID, CellBarred, qRxLevMindBm, pMax, Band, RSRPdBm, RSSIdBm, RSRQdB, Full BW RSRPdBm, Full BW RSSIdBm, Full BW RSRQdB, EARFCN DL, EARFCN UL,  UL Freq, MaxBits, SFN, GPS Valid,  GPS Accuracy (m), Peak Index, SIB1, SIBx, SIBx SFN, IBW CenterFreq (MHz), Data Source, Channel, GPS Time Lost, ProcessLTE Version, Radio Branch, Radio Version, IBW Duration (ms), UL Average UE,  UL Utilization,  DL Average UE,  DL Utilization]\n",
       " Index: []\n",
       " \n",
       " [0 rows x 55 columns],\n",
       " Empty DataFrame\n",
       " Columns: [FileName, Time (UTC), PCI, CenterFreq, Freq Span, Lat, Lon, Alt (m), Peak, Offset(ms), Freq Error, Antennas, TDD/FDD, Cyclic Prefix, LTE Bandwidth, MCC, MNC, Operator, TAC, ECI, eNB ID, Sector ID, CellBarred, qRxLevMindBm, pMax, Band, RSRPdBm, RSSIdBm, RSRQdB, Full BW RSRPdBm, Full BW RSSIdBm, Full BW RSRQdB, EARFCN DL, EARFCN UL,  UL Freq, MaxBits, SFN, GPS Valid,  GPS Accuracy (m), Peak Index, SIB1, SIBx, SIBx SFN, IBW CenterFreq (MHz), Data Source, Channel, GPS Time Lost, ProcessLTE Version, Radio Branch, Radio Version, IBW Duration (ms), UL Average UE,  UL Utilization,  DL Average UE,  DL Utilization]\n",
       " Index: []\n",
       " \n",
       " [0 rows x 55 columns],\n",
       " Empty DataFrame\n",
       " Columns: [FileName, Time (UTC), PCI, CenterFreq, Freq Span, Lat, Lon, Alt (m), Peak, Offset(ms), Freq Error, Antennas, TDD/FDD, Cyclic Prefix, LTE Bandwidth, MCC, MNC, Operator, TAC, ECI, eNB ID, Sector ID, CellBarred, qRxLevMindBm, pMax, Band, RSRPdBm, RSSIdBm, RSRQdB, Full BW RSRPdBm, Full BW RSSIdBm, Full BW RSRQdB, EARFCN DL, EARFCN UL,  UL Freq, MaxBits, SFN, GPS Valid,  GPS Accuracy (m), Peak Index, SIB1, SIBx, SIBx SFN, IBW CenterFreq (MHz), Data Source, Channel, GPS Time Lost, ProcessLTE Version, Radio Branch, Radio Version, IBW Duration (ms), UL Average UE,  UL Utilization,  DL Average UE,  DL Utilization]\n",
       " Index: []\n",
       " \n",
       " [0 rows x 55 columns],\n",
       "                                      FileName                      Time (UTC)  \\\n",
       " 0  iq_out_RX2_31A935E_0_1601069390.sigmf-data  2020-09-25T21:29:27.870995020Z   \n",
       " \n",
       "    PCI  CenterFreq    Freq Span       Lat        Lon      Alt (m)      Peak  \\\n",
       " 0   27       885.1  880.1 890.1  42.12401 -86.215885  2627.370864  0.000002   \n",
       " \n",
       "    Offset(ms)  ...  Channel  GPS Time Lost ProcessLTE Version Radio Branch  \\\n",
       " 0    9.022982  ...        1              0               1.07         B2xx   \n",
       " \n",
       "    Radio Version  IBW Duration (ms)  UL Average UE  UL Utilization  \\\n",
       " 0         0.0009           83.88608           -1.0            -1.0   \n",
       " \n",
       "     DL Average UE   DL Utilization  \n",
       " 0            -1.0             -1.0  \n",
       " \n",
       " [1 rows x 55 columns],\n",
       " Empty DataFrame\n",
       " Columns: [FileName, Time (UTC), PCI, CenterFreq, Freq Span, Lat, Lon, Alt (m), Peak, Offset(ms), Freq Error, Antennas, TDD/FDD, Cyclic Prefix, LTE Bandwidth, MCC, MNC, Operator, TAC, ECI, eNB ID, Sector ID, CellBarred, qRxLevMindBm, pMax, Band, RSRPdBm, RSSIdBm, RSRQdB, Full BW RSRPdBm, Full BW RSSIdBm, Full BW RSRQdB, EARFCN DL, EARFCN UL,  UL Freq, MaxBits, SFN, GPS Valid,  GPS Accuracy (m), Peak Index, SIB1, SIBx, SIBx SFN, IBW CenterFreq (MHz), Data Source, Channel, GPS Time Lost, ProcessLTE Version, Radio Branch, Radio Version, IBW Duration (ms), UL Average UE,  UL Utilization,  DL Average UE,  DL Utilization]\n",
       " Index: []\n",
       " \n",
       " [0 rows x 55 columns]]"
      ]
     },
     "execution_count": 39,
     "metadata": {},
     "output_type": "execute_result"
    }
   ],
   "source": [
    "df_list"
   ]
  },
  {
   "cell_type": "code",
   "execution_count": null,
   "metadata": {},
   "outputs": [],
   "source": []
  },
  {
   "cell_type": "code",
   "execution_count": 41,
   "metadata": {},
   "outputs": [],
   "source": [
    "df = pd.concat(df_list)"
   ]
  },
  {
   "cell_type": "code",
   "execution_count": 54,
   "metadata": {},
   "outputs": [],
   "source": [
    "df.columns =  ['_'.join(x.lower().split(' ')) for x in df.columns]"
   ]
  },
  {
   "cell_type": "code",
   "execution_count": 55,
   "metadata": {},
   "outputs": [
    {
     "data": {
      "text/plain": [
       "Index(['filename', 'time_(utc)', 'pci', 'centerfreq', 'freq_span', 'lat',\n",
       "       'lon', 'alt_(m)', 'peak', 'offset(ms)', 'freq_error', 'antennas',\n",
       "       'tdd/fdd', 'cyclic_prefix', 'lte_bandwidth', 'mcc', 'mnc', 'operator',\n",
       "       'tac', 'eci', 'enb_id', 'sector_id', 'cellbarred', 'qrxlevmindbm',\n",
       "       'pmax', 'band', 'rsrpdbm', 'rssidbm', 'rsrqdb', 'full_bw_rsrpdbm',\n",
       "       'full_bw_rssidbm', 'full_bw_rsrqdb', 'earfcn_dl', 'earfcn_ul',\n",
       "       '_ul_freq', 'maxbits', 'sfn', 'gps_valid', '_gps_accuracy_(m)',\n",
       "       'peak_index', 'sib1', 'sibx', 'sibx_sfn', 'ibw_centerfreq_(mhz)',\n",
       "       'data_source', 'channel', 'gps_time_lost', 'processlte_version',\n",
       "       'radio_branch', 'radio_version', 'ibw_duration_(ms)', 'ul_average_ue',\n",
       "       '_ul_utilization', '_dl_average_ue', '_dl_utilization'],\n",
       "      dtype='object')"
      ]
     },
     "execution_count": 55,
     "metadata": {},
     "output_type": "execute_result"
    }
   ],
   "source": [
    "df.columns"
   ]
  },
  {
   "cell_type": "code",
   "execution_count": 56,
   "metadata": {},
   "outputs": [],
   "source": [
    "#data_columns = ['processlte_version', 'dummy']"
   ]
  },
  {
   "cell_type": "code",
   "execution_count": 57,
   "metadata": {},
   "outputs": [],
   "source": [
    "#df = pd.DataFrame(data, columns=data_columns)"
   ]
  },
  {
   "cell_type": "code",
   "execution_count": 58,
   "metadata": {},
   "outputs": [],
   "source": [
    "processlte_version = [\n",
    "    x for x in df.processlte_version.unique() if not pd.isna(x)\n",
    "][0]"
   ]
  },
  {
   "cell_type": "code",
   "execution_count": 59,
   "metadata": {},
   "outputs": [
    {
     "data": {
      "text/plain": [
       "0    1.07\n",
       "Name: processlte_version, dtype: float64"
      ]
     },
     "execution_count": 59,
     "metadata": {},
     "output_type": "execute_result"
    }
   ],
   "source": [
    "df['processlte_version']"
   ]
  },
  {
   "cell_type": "code",
   "execution_count": null,
   "metadata": {},
   "outputs": [],
   "source": []
  },
  {
   "cell_type": "code",
   "execution_count": null,
   "metadata": {},
   "outputs": [],
   "source": []
  }
 ],
 "metadata": {
  "kernelspec": {
   "display_name": "Python 3",
   "language": "python",
   "name": "python3"
  },
  "language_info": {
   "codemirror_mode": {
    "name": "ipython",
    "version": 3
   },
   "file_extension": ".py",
   "mimetype": "text/x-python",
   "name": "python",
   "nbconvert_exporter": "python",
   "pygments_lexer": "ipython3",
   "version": "3.8.5"
  }
 },
 "nbformat": 4,
 "nbformat_minor": 4
}
