{
 "cells": [
  {
   "cell_type": "code",
   "execution_count": 11,
   "metadata": {},
   "outputs": [],
   "source": [
    "# Scan all source files and build full scan file\n",
    "import datetime\n",
    "import pandas as pd\n",
    "import numpy as np\n",
    "import os\n",
    "from collections import defaultdict\n",
    "import dask.dataframe as dd\n",
    "import sys"
   ]
  },
  {
   "cell_type": "code",
   "execution_count": 12,
   "metadata": {},
   "outputs": [],
   "source": [
    "s3_monitor_dir = '/Users/brianm/Dropbox/cc_AuroraInsight/data/s3/s3_monitor/'\n",
    "s3_results_dir = '/Users/brianm/Dropbox/cc_AuroraInsight/data/s3'\n",
    "\n",
    "s3_results_file = 's3_scan6.csv'\n",
    "s3_results_file_path = os.path.join(s3_results_dir, s3_results_file)"
   ]
  },
  {
   "cell_type": "code",
   "execution_count": 13,
   "metadata": {},
   "outputs": [],
   "source": [
    "file_list = os.listdir(s3_monitor_dir)\n",
    "file_list_2 = os.listdir(os.path.join(s3_monitor_dir, 's3_monitor'))\n",
    "file_list.remove('s3_monitor')"
   ]
  },
  {
   "cell_type": "code",
   "execution_count": 14,
   "metadata": {},
   "outputs": [
    {
     "data": {
      "text/plain": [
       "412470"
      ]
     },
     "execution_count": 14,
     "metadata": {},
     "output_type": "execute_result"
    }
   ],
   "source": [
    "len(file_list)"
   ]
  },
  {
   "cell_type": "code",
   "execution_count": 5,
   "metadata": {},
   "outputs": [],
   "source": [
    "file_list = [name for name in file_list \n",
    "             if '.swp' not in name and \n",
    "             os.path.isfile(os.path.join(s3_monitor_dir, name))]\n"
   ]
  },
  {
   "cell_type": "code",
   "execution_count": 6,
   "metadata": {},
   "outputs": [
    {
     "data": {
      "text/plain": [
       "412470"
      ]
     },
     "execution_count": 6,
     "metadata": {},
     "output_type": "execute_result"
    }
   ],
   "source": [
    "len(file_list)"
   ]
  },
  {
   "cell_type": "code",
   "execution_count": 1,
   "metadata": {},
   "outputs": [],
   "source": [
    "s3_monitor_lists = []\n",
    "\n",
    "\n"
   ]
  },
  {
   "cell_type": "code",
   "execution_count": 2,
   "metadata": {},
   "outputs": [],
   "source": [
    "columns = ['id', 'bucket', 'time', 'time_ms?','accessw_ip', \n",
    "           'arn', 'full_action', 'key', 'basic_action', 'key_extended', \n",
    "           'http', 'response', 'size', 'software_method',\n",
    "           'token', 'sig_version',  'encoding', 'header', 's3_location',\n",
    "           'aws_version'\n",
    "          ]\n",
    "needed_columns =  ['bucket', 'time', 'accessw_ip', \n",
    "          'full_action', 'key', 'basic_action', 'size', \n",
    "            'software_method'\n",
    "                  ]\n",
    "\n"
   ]
  },
  {
   "cell_type": "code",
   "execution_count": 3,
   "metadata": {},
   "outputs": [],
   "source": [
    "num_columns = 27"
   ]
  },
  {
   "cell_type": "code",
   "execution_count": 4,
   "metadata": {},
   "outputs": [],
   "source": [
    "columns = ['col_{}'.format(x) for x in range(num_columns) ]"
   ]
  },
  {
   "cell_type": "code",
   "execution_count": 5,
   "metadata": {},
   "outputs": [],
   "source": [
    "drop_columns = [\n",
    "    'col_0',  \n",
    "    'col_6',\n",
    "    'col_11',\n",
    "    'col_14',\n",
    "    'col_15',\n",
    "    'col_16',\n",
    "    'col_19', 'col_20', 'col_21', 'col_22', 'col_23', 'col_24', ]"
   ]
  },
  {
   "cell_type": "code",
   "execution_count": 6,
   "metadata": {},
   "outputs": [],
   "source": [
    "new_columns = [\n",
    "    's3_bucket',\n",
    "    'datetime',\n",
    "    'ms',\n",
    "    'source_ip',\n",
    "    'arn',\n",
    "    'operation',\n",
    "    's3_key',\n",
    "    'op_key',\n",
    "    'http_resp',\n",
    "    'part_size',\n",
    "    'size',\n",
    "    'sw_used',\n",
    "    'unknown_1',\n",
    "    'source_file',\n",
    "    'source_dir'    \n",
    "]"
   ]
  },
  {
   "cell_type": "code",
   "execution_count": 7,
   "metadata": {},
   "outputs": [],
   "source": [
    "save_df = None"
   ]
  },
  {
   "cell_type": "code",
   "execution_count": 8,
   "metadata": {},
   "outputs": [],
   "source": [
    "def process_df(this_df):\n",
    "    global save_df\n",
    "    this_df['col_2'] = this_df['col_2'].map(lambda x: x.replace('[',''))\n",
    "    this_df['col_2'] = this_df['col_2'].map(lambda x: datetime.datetime.strptime(x,'%d/%b/%Y:%H:%M:%S'))\n",
    "    this_df['col_3'] = this_df['col_3'].map(lambda x: x.replace(']',''))\n",
    "    this_df = this_df.drop(drop_columns, axis=1)\n",
    "    this_df.columns = new_columns\n",
    "    save_df = this_df\n",
    "    #print(this_df)\n",
    "    this_df['s3_key'] = this_df['s3_key'].apply(str)\n",
    "    this_df['prefix'] = this_df['s3_key'].map(lambda x: \"/\".join(x.split('/')[:-1]))\n",
    "    this_df['file'] = this_df['s3_key'].map(lambda x: x.split('/')[-1])\n",
    "    save_df = this_df\n",
    "    if '-' in list(this_df['size'].values):\n",
    "        this_df['size'] = this_df['size'].map(lambda x: -1 if '-' in str(x) else x)\n",
    "    if '-' in list(this_df['part_size'].values):\n",
    "        this_df['part_size'] = this_df['part_size'].map(lambda x: -1 if '-' in str(x) else x)\n",
    "      \n",
    "    return this_df"
   ]
  },
  {
   "cell_type": "code",
   "execution_count": 9,
   "metadata": {},
   "outputs": [
    {
     "ename": "NameError",
     "evalue": "name 'defaultdict' is not defined",
     "output_type": "error",
     "traceback": [
      "\u001b[0;31m---------------------------------------------------------------------------\u001b[0m",
      "\u001b[0;31mNameError\u001b[0m                                 Traceback (most recent call last)",
      "\u001b[0;32m<ipython-input-9-3bd01e00fcc1>\u001b[0m in \u001b[0;36m<module>\u001b[0;34m\u001b[0m\n\u001b[0;32m----> 1\u001b[0;31m \u001b[0mlength_counts\u001b[0m \u001b[0;34m=\u001b[0m \u001b[0mdefaultdict\u001b[0m\u001b[0;34m(\u001b[0m\u001b[0mint\u001b[0m\u001b[0;34m)\u001b[0m\u001b[0;34m\u001b[0m\u001b[0;34m\u001b[0m\u001b[0m\n\u001b[0m\u001b[1;32m      2\u001b[0m \u001b[0mfirst_time\u001b[0m \u001b[0;34m=\u001b[0m \u001b[0;32mTrue\u001b[0m\u001b[0;34m\u001b[0m\u001b[0;34m\u001b[0m\u001b[0m\n\u001b[1;32m      3\u001b[0m \u001b[0;32mfor\u001b[0m \u001b[0mfile_name\u001b[0m \u001b[0;32min\u001b[0m \u001b[0mfile_list\u001b[0m\u001b[0;34m:\u001b[0m\u001b[0;34m\u001b[0m\u001b[0;34m\u001b[0m\u001b[0m\n\u001b[1;32m      4\u001b[0m     df_content = pd.read_csv(\n\u001b[1;32m      5\u001b[0m         \u001b[0mos\u001b[0m\u001b[0;34m.\u001b[0m\u001b[0mpath\u001b[0m\u001b[0;34m.\u001b[0m\u001b[0mjoin\u001b[0m\u001b[0;34m(\u001b[0m\u001b[0ms3_monitor_dir\u001b[0m\u001b[0;34m,\u001b[0m \u001b[0mfile_name\u001b[0m\u001b[0;34m)\u001b[0m\u001b[0;34m,\u001b[0m\u001b[0;34m\u001b[0m\u001b[0;34m\u001b[0m\u001b[0m\n",
      "\u001b[0;31mNameError\u001b[0m: name 'defaultdict' is not defined"
     ]
    }
   ],
   "source": [
    "length_counts = defaultdict(int)\n",
    "first_time = True\n",
    "for file_name in file_list:\n",
    "    df_content = pd.read_csv(\n",
    "        os.path.join(s3_monitor_dir, file_name),\n",
    "        delimiter=' ',\n",
    "        quotechar='\"',\n",
    "        header=None )\n",
    "    #print(file_name)\n",
    "    df_content.columns = columns[:25]\n",
    "    length_counts[len(df_content.columns)] += 1\n",
    "    df_content['source_file'] = file_name\n",
    "    df_content['source_dir'] = \".\"\n",
    "    df_content = process_df(df_content.copy())\n",
    "    num_columns = len(df_content.columns)\n",
    "    if first_time:\n",
    "        first_time = False\n",
    "        df_content.to_csv(s3_results_file_path, mode='w', header=True, index=True)               \n",
    "    df_content.to_csv(s3_results_file_path, mode='a', header=False, index=True)\n",
    "\n",
    "\n",
    "    \n",
    "\n",
    "\n",
    "\n",
    "  \n",
    "    \n",
    "    "
   ]
  },
  {
   "cell_type": "code",
   "execution_count": null,
   "metadata": {},
   "outputs": [],
   "source": []
  },
  {
   "cell_type": "code",
   "execution_count": 10,
   "metadata": {},
   "outputs": [],
   "source": [
    "save_df"
   ]
  },
  {
   "cell_type": "code",
   "execution_count": 29,
   "metadata": {},
   "outputs": [],
   "source": [
    "\n",
    "for file_name in file_list_2:\n",
    "    df_content = pd.read_csv(\n",
    "        os.path.join(os.path.join(s3_monitor_dir,'s3_monitor'), file_name),\n",
    "        delimiter=' ',\n",
    "        quotechar='\"')\n",
    "    #print(file_name)\n",
    "    df_content.columns = columns[:25]\n",
    "    length_counts[len(df_content.columns)] += 1\n",
    "    df_content['source_file'] = file_name\n",
    "    df_content['source_dir'] = \"./s3_monitor/\"\n",
    "    df_content = process_df(df_content)\n",
    "    num_columns = len(df_content.columns)\n",
    "    df_content.to_csv(s3_results_file_path, mode='a', header=False, index=True)\n",
    "\n",
    "    "
   ]
  },
  {
   "cell_type": "code",
   "execution_count": null,
   "metadata": {},
   "outputs": [],
   "source": []
  },
  {
   "cell_type": "code",
   "execution_count": null,
   "metadata": {},
   "outputs": [],
   "source": []
  },
  {
   "cell_type": "code",
   "execution_count": null,
   "metadata": {},
   "outputs": [],
   "source": []
  },
  {
   "cell_type": "code",
   "execution_count": null,
   "metadata": {},
   "outputs": [],
   "source": []
  },
  {
   "cell_type": "code",
   "execution_count": null,
   "metadata": {},
   "outputs": [],
   "source": []
  }
 ],
 "metadata": {
  "kernelspec": {
   "display_name": "Python 3",
   "language": "python",
   "name": "python3"
  },
  "language_info": {
   "codemirror_mode": {
    "name": "ipython",
    "version": 3
   },
   "file_extension": ".py",
   "mimetype": "text/x-python",
   "name": "python",
   "nbconvert_exporter": "python",
   "pygments_lexer": "ipython3",
   "version": "3.8.5"
  }
 },
 "nbformat": 4,
 "nbformat_minor": 4
}
