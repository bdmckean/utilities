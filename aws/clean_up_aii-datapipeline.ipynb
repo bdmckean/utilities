{
 "cells": [
  {
   "cell_type": "code",
   "execution_count": null,
   "metadata": {},
   "outputs": [],
   "source": []
  },
  {
   "cell_type": "code",
   "execution_count": 91,
   "metadata": {},
   "outputs": [],
   "source": [
    "import boto3\n",
    "import os\n"
   ]
  },
  {
   "cell_type": "code",
   "execution_count": 92,
   "metadata": {},
   "outputs": [],
   "source": [
    "s3 = boto3.resource('s3')\n",
    "\n",
    "  \n",
    "s3_client = boto3.client(\"s3\")\n",
    "\n"
   ]
  },
  {
   "cell_type": "code",
   "execution_count": 114,
   "metadata": {},
   "outputs": [],
   "source": [
    "source_bucket = 'aii-datapipeline'\n",
    "source_prefix = ''\n",
    "source_key_string_match = 's3_monitor20'\n"
   ]
  },
  {
   "cell_type": "code",
   "execution_count": 109,
   "metadata": {},
   "outputs": [],
   "source": [
    "target_bucket = 'aii-datapipeline'\n",
    "target_prefix = 's3_monitor'\n",
    "\n"
   ]
  },
  {
   "cell_type": "code",
   "execution_count": 95,
   "metadata": {},
   "outputs": [],
   "source": [
    "def make_target_key(source_file_name):\n",
    "    global target_prefix\n",
    "    \n",
    "    target_file_name = source_file_name.replace('s3_monitor','')\n",
    "    return os.path.join(target_prefix, target_file_name)\n",
    "    "
   ]
  },
  {
   "cell_type": "code",
   "execution_count": 97,
   "metadata": {},
   "outputs": [],
   "source": [
    "\n",
    "\n",
    "\n",
    "\n",
    "\n",
    "copy_source = {\n",
    "    'Bucket': 'aii-pipeline',\n",
    "    'Key': 'mykey'\n",
    "}\n",
    "#s3.meta.client.copy(copy_source, 'otherbucket', 'otherkey')"
   ]
  },
  {
   "cell_type": "code",
   "execution_count": 18,
   "metadata": {},
   "outputs": [],
   "source": [
    "#all_objects = s3_client.list_objects_v2(Bucket = source_bucket) "
   ]
  },
  {
   "cell_type": "code",
   "execution_count": 98,
   "metadata": {},
   "outputs": [],
   "source": [
    "#len(all_objects['Contents'])"
   ]
  },
  {
   "cell_type": "code",
   "execution_count": null,
   "metadata": {},
   "outputs": [],
   "source": []
  },
  {
   "cell_type": "code",
   "execution_count": 121,
   "metadata": {},
   "outputs": [],
   "source": [
    "def get_objects_matching_prefix(bucket, prefix, key_word=None):\n",
    "    '''\n",
    "    get s3 objects matching prefix\n",
    "    '''\n",
    "    s3_client = boto3.client(\"s3\")\n",
    "\n",
    "    kwargs = {'Bucket': bucket, 'Prefix': prefix, 'Delimiter' : '/'}\n",
    "    print(prefix)\n",
    "    while True:\n",
    "        resp = s3_client.list_objects_v2(**kwargs)\n",
    "        for obj in resp['Contents']:\n",
    "            key = obj['Key']\n",
    "            if key[-1] == '/':\n",
    "                # this is a directory\n",
    "                continue\n",
    "            if not key_word:\n",
    "                yield obj\n",
    "                continue\n",
    "            if key_word and key_word in key:\n",
    "                yield obj\n",
    "\n",
    "            try:\n",
    "                kwargs['ContinuationToken'] = resp['NextContinuationToken']\n",
    "            except KeyError:\n",
    "                break"
   ]
  },
  {
   "cell_type": "code",
   "execution_count": 122,
   "metadata": {},
   "outputs": [],
   "source": [
    "def move_to_new_s3_location(s3_obj, target_bucket, target_key):\n",
    "    s3 = boto3.resource('s3')\n",
    "    copy_source = {\n",
    "        'Bucket': s3_object.bucket_name,\n",
    "        'Key': s3_object.key\n",
    "    }\n",
    "    #print(s3_object.bucket_name)\n",
    "    #print(target_bucket)\n",
    "    #target_bucket_obj = s3.Bucket(target_bucket)\n",
    "    obj = target_bucket_obj.Object(target_key)\n",
    "    #print(obj)\n",
    "    #print(copy_source)\n",
    "    obj.copy(copy_source)"
   ]
  },
  {
   "cell_type": "code",
   "execution_count": 131,
   "metadata": {},
   "outputs": [],
   "source": [
    "count = 0\n",
    "limit = 1000000000"
   ]
  },
  {
   "cell_type": "code",
   "execution_count": 133,
   "metadata": {},
   "outputs": [
    {
     "name": "stdout",
     "output_type": "stream",
     "text": [
      "\n"
     ]
    },
    {
     "ename": "KeyError",
     "evalue": "'Contents'",
     "output_type": "error",
     "traceback": [
      "\u001b[0;31m---------------------------------------------------------------------------\u001b[0m",
      "\u001b[0;31mKeyError\u001b[0m                                  Traceback (most recent call last)",
      "\u001b[0;32m<ipython-input-133-073650bc5962>\u001b[0m in \u001b[0;36m<module>\u001b[0;34m\u001b[0m\n\u001b[0;32m----> 1\u001b[0;31m \u001b[0;32mfor\u001b[0m \u001b[0ms3_object\u001b[0m \u001b[0;32min\u001b[0m \u001b[0mget_objects_matching_prefix\u001b[0m\u001b[0;34m(\u001b[0m\u001b[0msource_bucket\u001b[0m\u001b[0;34m,\u001b[0m \u001b[0;34m''\u001b[0m\u001b[0;34m,\u001b[0m \u001b[0mkey_word\u001b[0m\u001b[0;34m=\u001b[0m\u001b[0msource_key_string_match\u001b[0m\u001b[0;34m)\u001b[0m\u001b[0;34m:\u001b[0m\u001b[0;34m\u001b[0m\u001b[0;34m\u001b[0m\u001b[0m\n\u001b[0m\u001b[1;32m      2\u001b[0m     \u001b[0;31m#print(s3_object)\u001b[0m\u001b[0;34m\u001b[0m\u001b[0;34m\u001b[0m\u001b[0;34m\u001b[0m\u001b[0m\n\u001b[1;32m      3\u001b[0m \u001b[0;34m\u001b[0m\u001b[0m\n\u001b[1;32m      4\u001b[0m     \u001b[0;31m#target_key = s3_object['Key'].replace('s3_monitor', 's3_monitor/')\u001b[0m\u001b[0;34m\u001b[0m\u001b[0;34m\u001b[0m\u001b[0;34m\u001b[0m\u001b[0m\n\u001b[1;32m      5\u001b[0m     \u001b[0;31m#move_to_new_s3_location(s3_object, target_bucket, target_key)\u001b[0m\u001b[0;34m\u001b[0m\u001b[0;34m\u001b[0m\u001b[0;34m\u001b[0m\u001b[0m\n",
      "\u001b[0;32m<ipython-input-121-478f6464a0fe>\u001b[0m in \u001b[0;36mget_objects_matching_prefix\u001b[0;34m(bucket, prefix, key_word)\u001b[0m\n\u001b[1;32m      9\u001b[0m     \u001b[0;32mwhile\u001b[0m \u001b[0;32mTrue\u001b[0m\u001b[0;34m:\u001b[0m\u001b[0;34m\u001b[0m\u001b[0;34m\u001b[0m\u001b[0m\n\u001b[1;32m     10\u001b[0m         \u001b[0mresp\u001b[0m \u001b[0;34m=\u001b[0m \u001b[0ms3_client\u001b[0m\u001b[0;34m.\u001b[0m\u001b[0mlist_objects_v2\u001b[0m\u001b[0;34m(\u001b[0m\u001b[0;34m**\u001b[0m\u001b[0mkwargs\u001b[0m\u001b[0;34m)\u001b[0m\u001b[0;34m\u001b[0m\u001b[0;34m\u001b[0m\u001b[0m\n\u001b[0;32m---> 11\u001b[0;31m         \u001b[0;32mfor\u001b[0m \u001b[0mobj\u001b[0m \u001b[0;32min\u001b[0m \u001b[0mresp\u001b[0m\u001b[0;34m[\u001b[0m\u001b[0;34m'Contents'\u001b[0m\u001b[0;34m]\u001b[0m\u001b[0;34m:\u001b[0m\u001b[0;34m\u001b[0m\u001b[0;34m\u001b[0m\u001b[0m\n\u001b[0m\u001b[1;32m     12\u001b[0m             \u001b[0mkey\u001b[0m \u001b[0;34m=\u001b[0m \u001b[0mobj\u001b[0m\u001b[0;34m[\u001b[0m\u001b[0;34m'Key'\u001b[0m\u001b[0;34m]\u001b[0m\u001b[0;34m\u001b[0m\u001b[0;34m\u001b[0m\u001b[0m\n\u001b[1;32m     13\u001b[0m             \u001b[0;32mif\u001b[0m \u001b[0mkey\u001b[0m\u001b[0;34m[\u001b[0m\u001b[0;34m-\u001b[0m\u001b[0;36m1\u001b[0m\u001b[0;34m]\u001b[0m \u001b[0;34m==\u001b[0m \u001b[0;34m'/'\u001b[0m\u001b[0;34m:\u001b[0m\u001b[0;34m\u001b[0m\u001b[0;34m\u001b[0m\u001b[0m\n",
      "\u001b[0;31mKeyError\u001b[0m: 'Contents'"
     ]
    }
   ],
   "source": [
    "for s3_object in get_objects_matching_prefix(source_bucket, '', key_word=source_key_string_match):\n",
    "    #print(s3_object)\n",
    "    \n",
    "    #target_key = s3_object['Key'].replace('s3_monitor', 's3_monitor/')\n",
    "    #move_to_new_s3_location(s3_object, target_bucket, target_key)\n",
    "    #count += 1\n",
    "    \n",
    "    #print(s3_object)\n",
    "\n",
    "    response = s3_client.delete_object(\n",
    "        Bucket=source_bucket,\n",
    "        Key=s3_object['Key'],\n",
    "    )\n",
    "    count += 1\n",
    "    if count >= limit:\n",
    "        break"
   ]
  },
  {
   "cell_type": "code",
   "execution_count": 72,
   "metadata": {},
   "outputs": [
    {
     "name": "stdout",
     "output_type": "stream",
     "text": [
      "aii-datapipeline\n",
      "aii-datapipeline\n",
      "s3.Object(bucket_name='aii-datapipeline', key='s3_monitor/2020-09-22-02-20-23-779ABF4A2A07EDBB')\n",
      "{'Bucket': 'aii-datapipeline', 'Key': 's3_monitor2020-09-22-02-20-23-779ABF4A2A07EDBB'}\n"
     ]
    }
   ],
   "source": [
    "'''\n",
    "s3.ObjectSummary(bucket_name='aii-datapipeline', key='s3_monitor2020-09-22-02-20-32-985CABD4EC541218')\n",
    "s3.ObjectSummary(bucket_name='aii-datapipeline', key='s3_monitor2020-09-22-02-20-32-B019559715735CF2')\n",
    "s3.ObjectSummary(bucket_name='aii-datapipeline', key='s3_monitor2020-09-22-02-20-33-CAA6657730122177')\n",
    "s3.ObjectSummary(bucket_name='aii-datapipeline', key='s3_monitor2020-09-22-02-20-33-CD45D25C26112A6D')\n",
    "s3.ObjectSummary(bucket_name='aii-datapipeline', key='s3_monitor2020-09-22-02-20-34-79A395C884102164')\n",
    "s3.ObjectSummary(bucket_name='aii-datapipeline', key='s3_monitor2020-09-22-02-20-35-2627BB0ED549B4D9')\n",
    "s3.ObjectSummary(bucket_name='aii-datapipeline', key='s3_monitor2020-09-22-02-20-35-67457438441F282E')\n",
    "s3.ObjectSummary(bucket_name='aii-datapipeline', key='s3_monitor2020-09-22-02-20-35-D7925720EF122DE2')\n",
    "s3.ObjectSummary(bucket_name='aii-datapipeline', key='s3_monitor2020-09-22-02-20-36-43580534453A476D')\n",
    "s3.ObjectSummary(bucket_name='aii-datapipeline', key='s3_monitor2020-09-22-02-20-36-9AE5697EDD35F9B2')\n",
    "\n",
    "'''"
   ]
  },
  {
   "cell_type": "code",
   "execution_count": null,
   "metadata": {},
   "outputs": [],
   "source": []
  }
 ],
 "metadata": {
  "kernelspec": {
   "display_name": "Python 3",
   "language": "python",
   "name": "python3"
  },
  "language_info": {
   "codemirror_mode": {
    "name": "ipython",
    "version": 3
   },
   "file_extension": ".py",
   "mimetype": "text/x-python",
   "name": "python",
   "nbconvert_exporter": "python",
   "pygments_lexer": "ipython3",
   "version": "3.8.5"
  }
 },
 "nbformat": 4,
 "nbformat_minor": 4
}
